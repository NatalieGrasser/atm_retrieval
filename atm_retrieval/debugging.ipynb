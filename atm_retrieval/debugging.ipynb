{
 "cells": [
  {
   "cell_type": "code",
   "execution_count": 1,
   "metadata": {},
   "outputs": [],
   "source": [
    "import numpy as np\n",
    "import os\n",
    "os.environ['pRT_input_data_path'] = \"/home/natalie/.local/lib/python3.8/site-packages/petitRADTRANS/input_data_std/input_data\"\n",
    "from target import Target\n",
    "from retrieval import Retrieval\n",
    "from parameters import Parameters\n",
    "import figures as figs\n",
    "\n",
    "def init_retrieval(brown_dwarf='2M0355',PT_type='PTgrad',chem='freechem',\n",
    "                   Nlive=400,tol=0.5,cloud_mode='gray',GP=True):\n",
    "\n",
    "    brown_dwarf = Target(brown_dwarf)\n",
    "    output=f'{chem}_{PT_type}_N{Nlive}_ev{tol}' # output folder name\n",
    "\n",
    "    constant_params={} # add if needed\n",
    "    free_params = {'rv': ([2,20],r'$v_{\\rm rad}$'),\n",
    "                'vsini': ([0,40],r'$v$ sin$i$'),\n",
    "                'log_g':([3,5],r'log $g$'),\n",
    "                'epsilon_limb': [(0.2,1), r'$\\epsilon_\\mathrm{limb}$']} # limb-darkening coefficient (0-1)\n",
    "\n",
    "    if PT_type=='PTknot':\n",
    "        pt_params={'T0' : ([1000,4000], r'$T_0$'), # bottom of the atmosphere (hotter)\n",
    "                'T1' : ([0,4000], r'$T_1$'),\n",
    "                'T2' : ([0,4000], r'$T_2$'),\n",
    "                'T3' : ([0,4000], r'$T_3$'),\n",
    "                'T4' : ([0,4000], r'$T_4$'),} # top of atmosphere (cooler)\n",
    "        free_params.update(pt_params)\n",
    "\n",
    "    if PT_type=='PTgrad':\n",
    "        pt_params={'dlnT_dlnP_0': ([0.,0.4], r'$\\nabla T_0$'), # gradient at T0 \n",
    "                'dlnT_dlnP_1': ([0.,0.4], r'$\\nabla T_1$'), \n",
    "                'dlnT_dlnP_2': ([0.,0.4], r'$\\nabla T_2$'), \n",
    "                'dlnT_dlnP_3': ([0.,0.4], r'$\\nabla T_3$'), \n",
    "                'dlnT_dlnP_4': ([0.,0.4], r'$\\nabla T_4$'), \n",
    "                'T0': ([1000,4000], r'$T_0$')} # at bottom of atmosphere\n",
    "        free_params.update(pt_params)\n",
    "\n",
    "    # if equilibrium chemistry, define [Fe/H], C/O, and isotopologue ratios\n",
    "    if chem=='equchem':\n",
    "        chemistry={'C/O':([0,1], r'C/O'), \n",
    "                'Fe/H': ([-1.5,1.5], r'[Fe/H]'), \n",
    "                'log_C12_13_ratio': ([1,12], r'log $\\mathrm{^{12}C/^{13}C}$'), \n",
    "                'log_O16_18_ratio': ([1,12], r'log $\\mathrm{^{16}O/^{18}O}$'), \n",
    "                'log_O16_17_ratio': ([1,12], r'log $\\mathrm{^{16}O/^{17}O}$')}\n",
    "            \n",
    "    if chem=='quequchem': # quenched equilibrium chemistry\n",
    "        chemistry={'C/O':([0,1], r'C/O'), \n",
    "                'Fe/H': ([-1.5,1.5], r'[Fe/H]'), \n",
    "                'log_C12_13_ratio': ([1,12], r'log $\\mathrm{^{12}C/^{13}C}$'), \n",
    "                'log_O16_18_ratio': ([1,12], r'log $\\mathrm{^{16}O/^{18}O}$'), \n",
    "                'log_O16_17_ratio': ([1,12], r'log $\\mathrm{^{16}O/^{17}O}$'),\n",
    "                'log_Pqu_CO_CH4': ([-6,2], r'log P$_{qu}$(CO,CH$_4$,H$_2$O)'),\n",
    "                'log_Pqu_NH3': ([-6,2], r'log P$_{qu}$(NH$_3$)'),\n",
    "                'log_Pqu_HCN': ([-6,2], r'log P$_{qu}$(HCN)')}  \n",
    "        \n",
    "    # if free chemistry, define VMRs\n",
    "    if chem=='freechem': \n",
    "        chemistry={'log_H2O':([-12,-1],r'log H$_2$O'),\n",
    "                'log_12CO':([-12,-1],r'log $^{12}$CO'),\n",
    "                'log_13CO':([-12,-1],r'log $^{13}$CO'),\n",
    "                'log_C18O':([-12,-1],r'log C$^{18}$O'),\n",
    "                'log_C17O':([-12,-1],r'log C$^{17}$O'),\n",
    "                'log_CH4':([-12,-1],r'log CH$_4$'),\n",
    "                'log_NH3':([-12,-1],r'log NH$_3$'),\n",
    "                'log_HCN':([-12,-1],r'log HCN'),\n",
    "                'log_HF':([-12,-1],r'log HF'),\n",
    "                'log_H2(18)O':([-12,-1],r'log H$_2^{18}$O'),\n",
    "                'log_H2S':([-12,-1],r'log H$_2$S')}\n",
    "        \n",
    "    if cloud_mode=='gray':\n",
    "        cloud_props={'log_opa_base_gray': ([-10,3], r'log $\\kappa_{\\mathrm{cl},0}$'),  \n",
    "                    'log_P_base_gray': ([-6,3], r'log $P_{\\mathrm{cl},0}$'), # pressure of gray cloud deck\n",
    "                    'fsed_gray': ([0,20], r'$f_\\mathrm{sed}$')} # sedimentation parameter for particles\n",
    "        free_params.update(cloud_props)\n",
    "\n",
    "    if cloud_mode=='MgSiO3':\n",
    "        cloud_props={'fsed': ([0,20], r'$f_\\mathrm{sed}$'), # sedimentation parameter for particles\n",
    "                    'sigma_lnorm': ([0.8,1.5], r'$\\sigma_{l,norm}$'), # width of the log-normal particle distribution\n",
    "                    'log_Kzz':([5,15],r'log $K_{zz}$')} # eddy diffusion parameter (atmospheric mixing)\n",
    "        free_params.update(cloud_props)\n",
    "        \n",
    "    if GP==True: # add uncertainty scaling\n",
    "        GP_params={'log_a': ([-1,1], r'$\\log\\ a$'), # one is enough, will be multipled with order/det error\n",
    "                'log_l': ([-3,0], r'$\\log\\ l$')}\n",
    "        free_params.update(GP_params)\n",
    "\n",
    "    free_params.update(chemistry)\n",
    "    parameters = Parameters(free_params, constant_params)\n",
    "    cube = np.random.rand(parameters.n_params)\n",
    "    parameters(cube)\n",
    "\n",
    "    retrieval=Retrieval(target=brown_dwarf,parameters=parameters,\n",
    "                    output_name=output,chemistry=chem,PT_type=PT_type)\n",
    "    return retrieval\n",
    "\n",
    "#retrieval=init_retrieval(brown_dwarf='2M0355',PT_type='PTgrad',chem='freechem',Nlive=400,tol=0.5)\n",
    "#retrieval.evaluate(makefigs=False)\n",
    "\n",
    "#retrieval2=init_retrieval(brown_dwarf='2M1425',PT_type='PTgrad',chem='freechem',Nlive=400,tol=0.5)\n",
    "#retrieval2.evaluate(makefigs=False)\n"
   ]
  },
  {
   "cell_type": "code",
   "execution_count": 3,
   "metadata": {},
   "outputs": [
    {
     "name": "stdout",
     "output_type": "stream",
     "text": [
      "True True\n",
      "[[0. 0.]\n",
      " [0. 0.]]\n",
      "True True\n",
      "[[0. 0.]\n",
      " [0. 0.]]\n",
      "True True\n",
      "[[0. 0.]\n",
      " [0. 0.]]\n",
      "True True\n",
      "[[0.04452805 0.04452805]\n",
      " [0.04452805 0.04452805]]\n",
      "True True\n",
      "[[0.0043745 0.0043745]\n",
      " [0.0043745 0.0043745]]\n",
      "True True\n",
      "[[0.12852085 0.12852085]\n",
      " [0.12852085 0.12852085]]\n",
      "True True\n",
      "[[0.20947743 0.20947743]\n",
      " [0.20947743 0.20947743]]\n",
      "True True\n",
      "[[0.33982347 0.33982347]\n",
      " [0.33982347 0.33982347]]\n",
      "True True\n",
      "[[0.08621315 0.08621315]\n",
      " [0.08621315 0.08621315]]\n",
      "True True\n",
      "[[0.11560712 0.11560712]\n",
      " [0.11560712 0.11560712]]\n",
      "True True\n",
      "[[0.2140313 0.2140313]\n",
      " [0.2140313 0.2140313]]\n",
      "True True\n",
      "[[0.08260074 0.08260074]\n",
      " [0.08260074 0.08260074]]\n",
      "True True\n",
      "[[0.11464851 0.11464851]\n",
      " [0.11464851 0.11464851]]\n",
      "True True\n",
      "[[0.09434165 0.09434165]\n",
      " [0.09434165 0.09434165]]\n",
      "True True\n",
      "[[0.07839392 0.07839392]\n",
      " [0.07839392 0.07839392]]\n",
      "True True\n",
      "[[0.10277422 0.10277422]\n",
      " [0.10277422 0.10277422]]\n",
      "True True\n",
      "[[0.0585047 0.0585047]\n",
      " [0.0585047 0.0585047]]\n",
      "True True\n",
      "[[0.07543697 0.07543697]\n",
      " [0.07543697 0.07543697]]\n",
      "True True\n",
      "[[0.39141803 0.39141803]\n",
      " [0.39141803 0.39141803]]\n",
      "True True\n",
      "[[0.05906677 0.05906677]\n",
      " [0.05906677 0.05906677]]\n",
      "True True\n",
      "[[0.28703958 0.28703958]\n",
      " [0.28703958 0.28703958]]\n"
     ]
    }
   ],
   "source": [
    "i,j=0,0\n",
    "from scipy.optimize import nnls\n",
    "\n",
    "for i in range(7):\n",
    "    for j in range(3):\n",
    "        nonans_primary = np.isfinite(retrieval.primary_flux[i,j]) \n",
    "        nonans_secondary = np.isfinite(retrieval.data_flux[i,j])\n",
    "        nonans = nonans_primary & nonans_secondary & np.isfinite(retrieval.data_err[i,j])\n",
    "        #print(np.sum(nonans))\n",
    "        #print(np.nansum(retrieval.data_flux[i,j,~nonans_secondary]),np.sum(retrieval.data_flux[i,j,~nonans]))\n",
    "        #print(np.sum(retrieval.primary_flux[i,j,nonans_primary]),np.sum(retrieval.primary_flux[i,j,nonans]))\n",
    "        M = np.vstack([retrieval.primary_flux[i,j][nonans], retrieval.primary_flux[i,j][nonans]]).T # model matrix, shape (2, N)\n",
    "        d = retrieval.data_flux[i,j][nonans]  # prepare data\n",
    "        var = retrieval.data_err[i,j][nonans]**2\n",
    "        inv_cov = np.diag(1/var) # inverse of covariance matrix\n",
    "\n",
    "        # set up equation to solve (see Ruffio+2019 Appendix A)\n",
    "        print(np.isfinite(M).all(),np.isfinite(inv_cov).all())\n",
    "        lhs = M.T @ inv_cov @ M # left-hand side\n",
    "        rhs = M.T @ inv_cov @ d # right-hand side\n",
    "        print(lhs)\n",
    "        phi_comp, _ = nnls(lhs, rhs)"
   ]
  },
  {
   "cell_type": "code",
   "execution_count": 2,
   "metadata": {},
   "outputs": [
    {
     "name": "stderr",
     "output_type": "stream",
     "text": [
      "/home/natalie/.local/lib/python3.8/site-packages/numpy/lib/nanfunctions.py:1215: RuntimeWarning: Mean of empty slice\n",
      "  return np.nanmean(a, axis, out=out, keepdims=keepdims)\n"
     ]
    },
    {
     "data": {
      "text/plain": [
       "46391.638743644704"
      ]
     },
     "execution_count": 2,
     "metadata": {},
     "output_type": "execute_result"
    }
   ],
   "source": [
    "retrieval=init_retrieval(brown_dwarf='testsys',PT_type='PTgrad',chem='freechem',Nlive=400,tol=0.5)\n",
    "retrieval.PMN_lnL()"
   ]
  },
  {
   "cell_type": "code",
   "execution_count": null,
   "metadata": {},
   "outputs": [
    {
     "name": "stderr",
     "output_type": "stream",
     "text": [
      "/home/natalie/.local/lib/python3.8/site-packages/numpy/lib/nanfunctions.py:1215: RuntimeWarning: Mean of empty slice\n",
      "  return np.nanmean(a, axis, out=out, keepdims=keepdims)\n"
     ]
    },
    {
     "name": "stdout",
     "output_type": "stream",
     "text": [
      "\n",
      " ------ testsys - freechem - PTgrad - Nlive: 400 - ev: 0.5 ------- \n",
      "\n",
      "\n",
      " ----------------- Starting main retrieval. ----------------- \n",
      "\n"
     ]
    },
    {
     "name": "stderr",
     "output_type": "stream",
     "text": [
      "Exception ignored on calling ctypes callback function: <function run.<locals>.loglike at 0x7f1032513700>\n",
      "Traceback (most recent call last):\n",
      "  File \"/home/natalie/.local/lib/python3.8/site-packages/pymultinest/run.py\", line 228, in loglike\n",
      "    return LogLikelihood(cube, ndim, nparams)\n",
      "  File \"/home/natalie/Desktop/files/uni/PhD/SupJup/codes/retrieval_base/atm_retrieval/atm_retrieval/retrieval.py\", line 160, in PMN_lnL\n",
      "    self.model_flux=self.model_object.make_spectrum()\n",
      "  File \"/home/natalie/Desktop/files/uni/PhD/SupJup/codes/retrieval_base/atm_retrieval/atm_retrieval/pRT_model.py\", line 346, in make_spectrum\n",
      "    phi_comp, _ = nnls(lhs, rhs)\n",
      "  File \"/home/natalie/.local/lib/python3.8/site-packages/scipy/optimize/_nnls.py\", line 59, in nnls\n",
      "    A, b = map(asarray_chkfinite, (A, b))\n",
      "  File \"/home/natalie/.local/lib/python3.8/site-packages/numpy/lib/function_base.py\", line 628, in asarray_chkfinite\n",
      "    raise ValueError(\n",
      "ValueError: array must not contain infs or NaNs\n",
      "Exception ignored on calling ctypes callback function: <function run.<locals>.loglike at 0x7f1032513700>\n",
      "Traceback (most recent call last):\n",
      "  File \"/home/natalie/.local/lib/python3.8/site-packages/pymultinest/run.py\", line 228, in loglike\n",
      "    return LogLikelihood(cube, ndim, nparams)\n",
      "  File \"/home/natalie/Desktop/files/uni/PhD/SupJup/codes/retrieval_base/atm_retrieval/atm_retrieval/retrieval.py\", line 160, in PMN_lnL\n",
      "    self.model_flux=self.model_object.make_spectrum()\n",
      "  File \"/home/natalie/Desktop/files/uni/PhD/SupJup/codes/retrieval_base/atm_retrieval/atm_retrieval/pRT_model.py\", line 346, in make_spectrum\n",
      "    phi_comp, _ = nnls(lhs, rhs)\n",
      "  File \"/home/natalie/.local/lib/python3.8/site-packages/scipy/optimize/_nnls.py\", line 59, in nnls\n",
      "    A, b = map(asarray_chkfinite, (A, b))\n",
      "  File \"/home/natalie/.local/lib/python3.8/site-packages/numpy/lib/function_base.py\", line 628, in asarray_chkfinite\n",
      "    raise ValueError(\n",
      "ValueError: array must not contain infs or NaNs\n",
      "Exception ignored on calling ctypes callback function: <function run.<locals>.loglike at 0x7f1032513700>\n",
      "Traceback (most recent call last):\n",
      "  File \"/home/natalie/.local/lib/python3.8/site-packages/pymultinest/run.py\", line 228, in loglike\n",
      "    return LogLikelihood(cube, ndim, nparams)\n",
      "  File \"/home/natalie/Desktop/files/uni/PhD/SupJup/codes/retrieval_base/atm_retrieval/atm_retrieval/retrieval.py\", line 160, in PMN_lnL\n",
      "    self.model_flux=self.model_object.make_spectrum()\n",
      "  File \"/home/natalie/Desktop/files/uni/PhD/SupJup/codes/retrieval_base/atm_retrieval/atm_retrieval/pRT_model.py\", line 346, in make_spectrum\n",
      "    phi_comp, _ = nnls(lhs, rhs)\n",
      "  File \"/home/natalie/.local/lib/python3.8/site-packages/scipy/optimize/_nnls.py\", line 59, in nnls\n",
      "    A, b = map(asarray_chkfinite, (A, b))\n",
      "  File \"/home/natalie/.local/lib/python3.8/site-packages/numpy/lib/function_base.py\", line 628, in asarray_chkfinite\n",
      "    raise ValueError(\n",
      "ValueError: array must not contain infs or NaNs\n",
      "Exception ignored on calling ctypes callback function: <function run.<locals>.loglike at 0x7f1032513700>\n",
      "Traceback (most recent call last):\n",
      "  File \"/home/natalie/.local/lib/python3.8/site-packages/pymultinest/run.py\", line 228, in loglike\n",
      "    return LogLikelihood(cube, ndim, nparams)\n",
      "  File \"/home/natalie/Desktop/files/uni/PhD/SupJup/codes/retrieval_base/atm_retrieval/atm_retrieval/retrieval.py\", line 160, in PMN_lnL\n",
      "    self.model_flux=self.model_object.make_spectrum()\n",
      "  File \"/home/natalie/Desktop/files/uni/PhD/SupJup/codes/retrieval_base/atm_retrieval/atm_retrieval/pRT_model.py\", line 346, in make_spectrum\n",
      "    phi_comp, _ = nnls(lhs, rhs)\n",
      "  File \"/home/natalie/.local/lib/python3.8/site-packages/scipy/optimize/_nnls.py\", line 59, in nnls\n",
      "    A, b = map(asarray_chkfinite, (A, b))\n",
      "  File \"/home/natalie/.local/lib/python3.8/site-packages/numpy/lib/function_base.py\", line 628, in asarray_chkfinite\n",
      "    raise ValueError(\n",
      "ValueError: array must not contain infs or NaNs\n",
      "Exception ignored on calling ctypes callback function: <function run.<locals>.loglike at 0x7f1032513700>\n",
      "Traceback (most recent call last):\n",
      "  File \"/home/natalie/.local/lib/python3.8/site-packages/pymultinest/run.py\", line 228, in loglike\n",
      "    return LogLikelihood(cube, ndim, nparams)\n",
      "  File \"/home/natalie/Desktop/files/uni/PhD/SupJup/codes/retrieval_base/atm_retrieval/atm_retrieval/retrieval.py\", line 160, in PMN_lnL\n",
      "    self.model_flux=self.model_object.make_spectrum()\n",
      "  File \"/home/natalie/Desktop/files/uni/PhD/SupJup/codes/retrieval_base/atm_retrieval/atm_retrieval/pRT_model.py\", line 346, in make_spectrum\n",
      "    phi_comp, _ = nnls(lhs, rhs)\n",
      "  File \"/home/natalie/.local/lib/python3.8/site-packages/scipy/optimize/_nnls.py\", line 59, in nnls\n",
      "    A, b = map(asarray_chkfinite, (A, b))\n",
      "  File \"/home/natalie/.local/lib/python3.8/site-packages/numpy/lib/function_base.py\", line 628, in asarray_chkfinite\n",
      "    raise ValueError(\n",
      "ValueError: array must not contain infs or NaNs\n",
      "Exception ignored on calling ctypes callback function: <function run.<locals>.loglike at 0x7f1032513700>\n",
      "Traceback (most recent call last):\n",
      "  File \"/home/natalie/.local/lib/python3.8/site-packages/pymultinest/run.py\", line 228, in loglike\n",
      "    return LogLikelihood(cube, ndim, nparams)\n",
      "  File \"/home/natalie/Desktop/files/uni/PhD/SupJup/codes/retrieval_base/atm_retrieval/atm_retrieval/retrieval.py\", line 160, in PMN_lnL\n",
      "    self.model_flux=self.model_object.make_spectrum()\n",
      "  File \"/home/natalie/Desktop/files/uni/PhD/SupJup/codes/retrieval_base/atm_retrieval/atm_retrieval/pRT_model.py\", line 346, in make_spectrum\n",
      "    phi_comp, _ = nnls(lhs, rhs)\n",
      "  File \"/home/natalie/.local/lib/python3.8/site-packages/scipy/optimize/_nnls.py\", line 59, in nnls\n",
      "    A, b = map(asarray_chkfinite, (A, b))\n",
      "  File \"/home/natalie/.local/lib/python3.8/site-packages/numpy/lib/function_base.py\", line 628, in asarray_chkfinite\n",
      "    raise ValueError(\n",
      "ValueError: array must not contain infs or NaNs\n",
      "Exception ignored on calling ctypes callback function: <function run.<locals>.loglike at 0x7f1032513700>\n",
      "Traceback (most recent call last):\n",
      "  File \"/home/natalie/.local/lib/python3.8/site-packages/pymultinest/run.py\", line 228, in loglike\n",
      "    return LogLikelihood(cube, ndim, nparams)\n",
      "  File \"/home/natalie/Desktop/files/uni/PhD/SupJup/codes/retrieval_base/atm_retrieval/atm_retrieval/retrieval.py\", line 160, in PMN_lnL\n",
      "    self.model_flux=self.model_object.make_spectrum()\n",
      "  File \"/home/natalie/Desktop/files/uni/PhD/SupJup/codes/retrieval_base/atm_retrieval/atm_retrieval/pRT_model.py\", line 346, in make_spectrum\n",
      "    phi_comp, _ = nnls(lhs, rhs)\n",
      "  File \"/home/natalie/.local/lib/python3.8/site-packages/scipy/optimize/_nnls.py\", line 59, in nnls\n",
      "    A, b = map(asarray_chkfinite, (A, b))\n",
      "  File \"/home/natalie/.local/lib/python3.8/site-packages/numpy/lib/function_base.py\", line 628, in asarray_chkfinite\n",
      "    raise ValueError(\n",
      "ValueError: array must not contain infs or NaNs\n",
      "Exception ignored on calling ctypes callback function: <function run.<locals>.loglike at 0x7f1032513700>\n",
      "Traceback (most recent call last):\n",
      "  File \"/home/natalie/.local/lib/python3.8/site-packages/pymultinest/run.py\", line 228, in loglike\n",
      "    return LogLikelihood(cube, ndim, nparams)\n",
      "  File \"/home/natalie/Desktop/files/uni/PhD/SupJup/codes/retrieval_base/atm_retrieval/atm_retrieval/retrieval.py\", line 160, in PMN_lnL\n",
      "    self.model_flux=self.model_object.make_spectrum()\n",
      "  File \"/home/natalie/Desktop/files/uni/PhD/SupJup/codes/retrieval_base/atm_retrieval/atm_retrieval/pRT_model.py\", line 346, in make_spectrum\n",
      "    phi_comp, _ = nnls(lhs, rhs)\n",
      "  File \"/home/natalie/.local/lib/python3.8/site-packages/scipy/optimize/_nnls.py\", line 59, in nnls\n",
      "    A, b = map(asarray_chkfinite, (A, b))\n",
      "  File \"/home/natalie/.local/lib/python3.8/site-packages/numpy/lib/function_base.py\", line 628, in asarray_chkfinite\n",
      "    raise ValueError(\n",
      "ValueError: array must not contain infs or NaNs\n",
      "Exception ignored on calling ctypes callback function: <function run.<locals>.loglike at 0x7f1032513700>\n",
      "Traceback (most recent call last):\n",
      "  File \"/home/natalie/.local/lib/python3.8/site-packages/pymultinest/run.py\", line 228, in loglike\n",
      "    return LogLikelihood(cube, ndim, nparams)\n",
      "  File \"/home/natalie/Desktop/files/uni/PhD/SupJup/codes/retrieval_base/atm_retrieval/atm_retrieval/retrieval.py\", line 159, in PMN_lnL\n",
      "    self.model_object=pRT_spectrum(self)      \n",
      "  File \"/home/natalie/Desktop/files/uni/PhD/SupJup/codes/retrieval_base/atm_retrieval/atm_retrieval/pRT_model.py\", line 70, in __init__\n",
      "    self.mass_fractions, self.CO, self.FeH = self.free_chemistry(self.species,self.params)\n",
      "  File \"/home/natalie/Desktop/files/uni/PhD/SupJup/codes/retrieval_base/atm_retrieval/atm_retrieval/pRT_model.py\", line 201, in free_chemistry\n",
      "    mass_i = self.read_species_info(species_i, 'mass')\n",
      "  File \"/home/natalie/Desktop/files/uni/PhD/SupJup/codes/retrieval_base/atm_retrieval/atm_retrieval/pRT_model.py\", line 141, in read_species_info\n",
      "    species_info = pd.read_csv(os.path.join('species_info.csv'), index_col=0)\n",
      "  File \"/home/natalie/.local/lib/python3.8/site-packages/pandas/io/parsers/readers.py\", line 912, in read_csv\n",
      "    return _read(filepath_or_buffer, kwds)\n",
      "  File \"/home/natalie/.local/lib/python3.8/site-packages/pandas/io/parsers/readers.py\", line 583, in _read\n",
      "    return parser.read(nrows)\n",
      "  File \"/home/natalie/.local/lib/python3.8/site-packages/pandas/io/parsers/readers.py\", line 1704, in read\n",
      "    ) = self._engine.read(  # type: ignore[attr-defined]\n",
      "  File \"/home/natalie/.local/lib/python3.8/site-packages/pandas/io/parsers/c_parser_wrapper.py\", line 234, in read\n",
      "    chunks = self._reader.read_low_memory(nrows)\n",
      "  File \"pandas/_libs/parsers.pyx\", line 814, in pandas._libs.parsers.TextReader.read_low_memory\n",
      "  File \"pandas/_libs/parsers.pyx\", line 891, in pandas._libs.parsers.TextReader._read_rows\n",
      "  File \"pandas/_libs/parsers.pyx\", line 1036, in pandas._libs.parsers.TextReader._convert_column_data\n",
      "  File \"pandas/_libs/parsers.pyx\", line 1090, in pandas._libs.parsers.TextReader._convert_tokens\n",
      "  File \"pandas/_libs/parsers.pyx\", line 1165, in pandas._libs.parsers.TextReader._convert_with_dtype\n",
      "  File \"/home/natalie/.local/lib/python3.8/site-packages/pandas/core/dtypes/common.py\", line 1335, in is_extension_array_dtype\n",
      "    def is_extension_array_dtype(arr_or_dtype) -> bool:\n",
      "KeyboardInterrupt: \n",
      "Exception ignored on calling ctypes callback function: <function run.<locals>.loglike at 0x7f1032513700>\n",
      "Traceback (most recent call last):\n",
      "  File \"/home/natalie/.local/lib/python3.8/site-packages/pymultinest/run.py\", line 228, in loglike\n",
      "    return LogLikelihood(cube, ndim, nparams)\n",
      "  File \"/home/natalie/Desktop/files/uni/PhD/SupJup/codes/retrieval_base/atm_retrieval/atm_retrieval/retrieval.py\", line 160, in PMN_lnL\n",
      "    self.model_flux=self.model_object.make_spectrum()\n",
      "  File \"/home/natalie/Desktop/files/uni/PhD/SupJup/codes/retrieval_base/atm_retrieval/atm_retrieval/pRT_model.py\", line 346, in make_spectrum\n",
      "    phi_comp, _ = nnls(lhs, rhs)\n",
      "  File \"/home/natalie/.local/lib/python3.8/site-packages/scipy/optimize/_nnls.py\", line 59, in nnls\n",
      "    A, b = map(asarray_chkfinite, (A, b))\n",
      "  File \"/home/natalie/.local/lib/python3.8/site-packages/numpy/lib/function_base.py\", line 628, in asarray_chkfinite\n",
      "    raise ValueError(\n",
      "ValueError: array must not contain infs or NaNs\n",
      "Exception ignored on calling ctypes callback function: <function run.<locals>.loglike at 0x7f1032513700>\n",
      "Traceback (most recent call last):\n",
      "  File \"/home/natalie/.local/lib/python3.8/site-packages/pymultinest/run.py\", line 228, in loglike\n",
      "    return LogLikelihood(cube, ndim, nparams)\n",
      "  File \"/home/natalie/Desktop/files/uni/PhD/SupJup/codes/retrieval_base/atm_retrieval/atm_retrieval/retrieval.py\", line 160, in PMN_lnL\n",
      "    self.model_flux=self.model_object.make_spectrum()\n",
      "  File \"/home/natalie/Desktop/files/uni/PhD/SupJup/codes/retrieval_base/atm_retrieval/atm_retrieval/pRT_model.py\", line 346, in make_spectrum\n",
      "    phi_comp, _ = nnls(lhs, rhs)\n",
      "  File \"/home/natalie/.local/lib/python3.8/site-packages/scipy/optimize/_nnls.py\", line 59, in nnls\n",
      "    A, b = map(asarray_chkfinite, (A, b))\n",
      "  File \"/home/natalie/.local/lib/python3.8/site-packages/numpy/lib/function_base.py\", line 628, in asarray_chkfinite\n",
      "    raise ValueError(\n",
      "ValueError: array must not contain infs or NaNs\n",
      "Exception ignored on calling ctypes callback function: <function run.<locals>.loglike at 0x7f1032513700>\n",
      "Traceback (most recent call last):\n",
      "  File \"/home/natalie/.local/lib/python3.8/site-packages/pymultinest/run.py\", line 228, in loglike\n",
      "    return LogLikelihood(cube, ndim, nparams)\n",
      "  File \"/home/natalie/Desktop/files/uni/PhD/SupJup/codes/retrieval_base/atm_retrieval/atm_retrieval/retrieval.py\", line 160, in PMN_lnL\n",
      "    self.model_flux=self.model_object.make_spectrum()\n",
      "  File \"/home/natalie/Desktop/files/uni/PhD/SupJup/codes/retrieval_base/atm_retrieval/atm_retrieval/pRT_model.py\", line 346, in make_spectrum\n",
      "    phi_comp, _ = nnls(lhs, rhs)\n",
      "  File \"/home/natalie/.local/lib/python3.8/site-packages/scipy/optimize/_nnls.py\", line 59, in nnls\n",
      "    A, b = map(asarray_chkfinite, (A, b))\n",
      "  File \"/home/natalie/.local/lib/python3.8/site-packages/numpy/lib/function_base.py\", line 628, in asarray_chkfinite\n",
      "    raise ValueError(\n",
      "ValueError: array must not contain infs or NaNs\n"
     ]
    }
   ],
   "source": [
    "retrieval=init_retrieval(brown_dwarf='testsys',PT_type='PTgrad',chem='freechem',Nlive=400,tol=0.5)\n",
    "retrieval.run_retrieval()"
   ]
  },
  {
   "cell_type": "code",
   "execution_count": 2,
   "metadata": {},
   "outputs": [
    {
     "name": "stderr",
     "output_type": "stream",
     "text": [
      "/home/natalie/.local/lib/python3.8/site-packages/numpy/lib/nanfunctions.py:1215: RuntimeWarning: Mean of empty slice\n",
      "  return np.nanmean(a, axis, out=out, keepdims=keepdims)\n"
     ]
    },
    {
     "data": {
      "text/plain": [
       "23673.657811913585"
      ]
     },
     "execution_count": 2,
     "metadata": {},
     "output_type": "execute_result"
    }
   ],
   "source": [
    "from pRT_model import pRT_spectrum\n",
    "\n",
    "retrieval=init_retrieval(brown_dwarf='ROXs12B',PT_type='PTgrad',chem='freechem',Nlive=400,tol=0.5)\n",
    "retrieval.PMN_lnL()\n",
    "#model_object=pRT_spectrum(retrieval)      \n",
    "#model_flux=model_object.make_spectrum()"
   ]
  },
  {
   "cell_type": "code",
   "execution_count": null,
   "metadata": {},
   "outputs": [
    {
     "data": {
      "image/png": "[encoded data removed]",
      "text/plain": [
       "<Figure size 432x288 with 1 Axes>"
      ]
     },
     "metadata": {
      "needs_background": "light"
     },
     "output_type": "display_data"
    }
   ],
   "source": [
    "# make test spectrum of system: 50% ROXs12A + 50% 2M0355\n",
    "\n",
    "import numpy as np\n",
    "import matplotlib.pyplot as plt\n",
    "\n",
    "def load_spec_file(file):\n",
    "    file=np.genfromtxt(file,skip_header=1,delimiter=' ')\n",
    "    wl=file[:,0]\n",
    "    fl=file[:,1]\n",
    "    flerr=file[:,2]\n",
    "    return wl,fl,flerr\n",
    "\n",
    "wlA,flA,flerrA=load_spec_file('/home/natalie/Desktop/atm_retrieval/ROXs12A/ROXs12A_spectrum.txt')\n",
    "wlB,flB,flerrB=load_spec_file('/home/natalie/Desktop/atm_retrieval/2M0355/2M0355_spectrum.txt')\n",
    "\n",
    "# interpolate wl of B onto A\n",
    "flB_interp = np.interp(wlA, wlB, flB)\n",
    "errB_interp = np.interp(wlA, wlB, flerrB)\n",
    "\n",
    "# add A+B\n",
    "flux = flA+flB\n",
    "err = np.sqrt(flerrA**2+errB_interp**2)\n",
    "plt.plot(wlA,flA)\n",
    "plt.plot(wlB,flB)\n",
    "plt.plot(wlA,flux)\n",
    "plt.xlim(2350,2360)\n",
    "flux/=np.nanmedian(flux) # normalize again\n",
    "\n",
    "spectrum=np.full(shape=(3*7*2048,3),fill_value=np.nan)\n",
    "spectrum[:,0]=wlA\n",
    "spectrum[:,1]=flux\n",
    "spectrum[:,2]=err.flatten()\n",
    "np.savetxt('./testsys/testsys_spectrum.txt',spectrum,delimiter=' ',header='wavelength (nm) flux flux_error')"
   ]
  },
  {
   "cell_type": "code",
   "execution_count": 6,
   "metadata": {},
   "outputs": [
    {
     "name": "stdout",
     "output_type": "stream",
     "text": [
      "2538.3854609438326\n"
     ]
    }
   ],
   "source": [
    "# compare chi2 of model with and without HCN/NH3\n",
    "from pRT_model import pRT_spectrum\n",
    "from log_likelihood import *\n",
    "\n",
    "LogLike= LogLikelihood(retrieval)\n",
    "retrieval.parameters.params=retrieval.params_dict\n",
    "model_object=pRT_spectrum(retrieval)      \n",
    "model_flux0=model_object.make_spectrum()\n",
    "model_flux=model_flux0*retrieval.params_dict['phi_ij']\n",
    "for j in range(7): # update covariance matrix\n",
    "    for k in range(3):\n",
    "        if not retrieval.mask_isfinite[j,k].any(): # skip empty order/detector\n",
    "            continue\n",
    "        retrieval.Cov[j,k](retrieval.parameters.params)\n",
    "ln_L = LogLike(model_flux, retrieval.Cov) # retrieve log-likelihood\n",
    "print(LogLike.chi2_0_red)"
   ]
  },
  {
   "cell_type": "code",
   "execution_count": 2,
   "metadata": {},
   "outputs": [],
   "source": [
    "retrieval=init_retrieval(brown_dwarf='2M0355',PT_type='PTgrad',chem='freechem',Nlive=400,tol=0.5)\n",
    "retrieval.evaluate(makefigs=False)\n",
    "\n",
    "retrieval2=init_retrieval(brown_dwarf='2M0355',PT_type='PTgrad',chem='equchem',Nlive=400,tol=0.5)\n",
    "retrieval2.evaluate(makefigs=False)\n",
    "\n",
    "retrieval3=init_retrieval(brown_dwarf='2M0355',PT_type='PTgrad',chem='quequchem',Nlive=400,tol=0.5)\n",
    "retrieval3.evaluate(makefigs=False)\n",
    "\n",
    "import figures as figs\n",
    "figs.VMR_plot_new(retrieval_object=retrieval,retrieval_object2=retrieval2,retrieval_object3=retrieval3,molecules=['H2O','12CO','13CO','CH4','H2S'])"
   ]
  },
  {
   "cell_type": "code",
   "execution_count": 2,
   "metadata": {},
   "outputs": [
    {
     "name": "stderr",
     "output_type": "stream",
     "text": [
      "/home/natalie/.local/lib/python3.8/site-packages/numpy/lib/nanfunctions.py:1215: RuntimeWarning: Mean of empty slice\n",
      "  return np.nanmean(a, axis, out=out, keepdims=keepdims)\n",
      "/home/natalie/.local/lib/python3.8/site-packages/numpy/lib/nanfunctions.py:1215: RuntimeWarning: Mean of empty slice\n",
      "  return np.nanmean(a, axis, out=out, keepdims=keepdims)\n",
      "/home/natalie/.local/lib/python3.8/site-packages/numpy/lib/nanfunctions.py:1215: RuntimeWarning: Mean of empty slice\n",
      "  return np.nanmean(a, axis, out=out, keepdims=keepdims)\n"
     ]
    }
   ],
   "source": [
    "retrieval=init_retrieval(brown_dwarf='2M1425',PT_type='PTgrad',chem='freechem',Nlive=400,tol=0.5)\n",
    "retrieval.evaluate(makefigs=False)\n",
    "\n",
    "retrieval2=init_retrieval(brown_dwarf='2M1425',PT_type='PTgrad',chem='equchem',Nlive=400,tol=0.5)\n",
    "retrieval2.evaluate(makefigs=False)\n",
    "\n",
    "retrieval3=init_retrieval(brown_dwarf='2M1425',PT_type='PTgrad',chem='quequchem',Nlive=400,tol=0.5)\n",
    "retrieval3.evaluate(makefigs=False)\n",
    "\n",
    "import figures as figs\n",
    "figs.VMR_plot_new(retrieval_object=retrieval,retrieval_object2=retrieval2,retrieval_object3=retrieval3,molecules=['H2O','12CO','13CO','CH4','H2S'])"
   ]
  },
  {
   "cell_type": "code",
   "execution_count": 4,
   "metadata": {},
   "outputs": [
    {
     "name": "stdout",
     "output_type": "stream",
     "text": [
      "83.43326810407598\n",
      "65.57755571704183\n",
      "66.30755299231532\n",
      "12.499707310438813 12.011258447346236\n"
     ]
    },
    {
     "name": "stderr",
     "output_type": "stream",
     "text": [
      "/home/natalie/.local/lib/python3.8/site-packages/numpy/lib/nanfunctions.py:1215: RuntimeWarning: Mean of empty slice\n",
      "  return np.nanmean(a, axis, out=out, keepdims=keepdims)\n"
     ]
    },
    {
     "name": "stdout",
     "output_type": "stream",
     "text": [
      "94.83272971000406\n"
     ]
    },
    {
     "name": "stderr",
     "output_type": "stream",
     "text": [
      "/home/natalie/.local/lib/python3.8/site-packages/numpy/lib/nanfunctions.py:1215: RuntimeWarning: Mean of empty slice\n",
      "  return np.nanmean(a, axis, out=out, keepdims=keepdims)\n"
     ]
    },
    {
     "name": "stdout",
     "output_type": "stream",
     "text": [
      "63.88489410863258\n"
     ]
    },
    {
     "name": "stderr",
     "output_type": "stream",
     "text": [
      "/home/natalie/.local/lib/python3.8/site-packages/numpy/lib/nanfunctions.py:1215: RuntimeWarning: Mean of empty slice\n",
      "  return np.nanmean(a, axis, out=out, keepdims=keepdims)\n"
     ]
    },
    {
     "name": "stdout",
     "output_type": "stream",
     "text": [
      "80.4039671307255\n",
      "13.919387817924932 14.073017552070805\n"
     ]
    }
   ],
   "source": [
    "# determine sigma difference between freechem/equchem/quechem\n",
    "\n",
    "import pathlib\n",
    "import pickle\n",
    "from scipy.special import lambertw as W\n",
    "from scipy.special import erfcinv\n",
    "import numpy as np\n",
    "from retrieval import *\n",
    "\n",
    "def compare_evidence(ln_Z_A,ln_Z_B):\n",
    "\n",
    "    ln_B = ln_Z_A-ln_Z_B\n",
    "    sign=1\n",
    "    if ln_B<0: # ln_Z_B larger -> second model favored\n",
    "        sign=-1\n",
    "        ln_B*=sign # can't handle negative values (-> nan), multiply back later\n",
    "    try:\n",
    "        p = np.real(np.exp(W((-1.0/(np.exp(ln_B)*np.exp(1))),-1)))\n",
    "        sigma = np.sqrt(2)*erfcinv(p)\n",
    "    except RuntimeWarning:\n",
    "        sigma=np.inf \n",
    "    return ln_B*sign,sigma*sign\n",
    "\n",
    "def lnL(BD,chem):\n",
    "    path=pathlib.Path(f'/home/natalie/Desktop/atm_retrieval/{BD}/{chem}_PTgrad_N400_ev0.5/params_dict.pickle')\n",
    "    with open(path,'rb') as file:\n",
    "        par=pickle.load(file)\n",
    "    retrieval=init_retrieval(brown_dwarf=BD,PT_type='PTgrad',chem=chem,Nlive=400,tol=0.5)\n",
    "    retrieval.parameters.params=par\n",
    "    lnL= retrieval.PMN_lnL()\n",
    "    print(lnL-par['lnZ'])\n",
    "    return lnL\n",
    "\n",
    "\n",
    "def sigma_chem(BD):\n",
    "    free = lnL(BD,'freechem')\n",
    "    equ = lnL(BD,'equchem')\n",
    "    quequ = lnL(BD,'quequchem')\n",
    "\n",
    "    _,sig_free_equ=compare_evidence(free,equ)\n",
    "    _,sig_free_quequ=compare_evidence(free,quequ)\n",
    "    print(sig_free_equ,sig_free_quequ)\n",
    "\n",
    "sigma_chem('2M0355')\n",
    "sigma_chem('2M1425')"
   ]
  },
  {
   "cell_type": "code",
   "execution_count": 6,
   "metadata": {},
   "outputs": [
    {
     "name": "stdout",
     "output_type": "stream",
     "text": [
      "4.777099456880208 (-0.04250684511667302, 0.04313448954134991)\n"
     ]
    }
   ],
   "source": [
    "path=pathlib.Path(f'/home/natalie/Desktop/atm_retrieval/2M0355/quequchem_PTgrad_N400_ev0.5/params_dict.pickle')\n",
    "with open(path,'rb') as file:\n",
    "    par=pickle.load(file)\n",
    "print(par['log_g'],par['log_g_err'])"
   ]
  },
  {
   "cell_type": "code",
   "execution_count": null,
   "metadata": {},
   "outputs": [],
   "source": []
  },
  {
   "cell_type": "code",
   "execution_count": 3,
   "metadata": {},
   "outputs": [
    {
     "name": "stderr",
     "output_type": "stream",
     "text": [
      "/home/natalie/.local/lib/python3.8/site-packages/numpy/lib/nanfunctions.py:1215: RuntimeWarning: Mean of empty slice\n",
      "  return np.nanmean(a, axis, out=out, keepdims=keepdims)\n"
     ]
    }
   ],
   "source": [
    "retrieval=init_retrieval(brown_dwarf='2M1425',PT_type='PTgrad',chem='freechem',Nlive=400,tol=0.5)\n",
    "retrieval.evaluate(makefigs=False)"
   ]
  },
  {
   "cell_type": "code",
   "execution_count": 4,
   "metadata": {},
   "outputs": [
    {
     "name": "stderr",
     "output_type": "stream",
     "text": [
      "/home/natalie/.local/lib/python3.8/site-packages/numpy/lib/nanfunctions.py:1215: RuntimeWarning: Mean of empty slice\n",
      "  return np.nanmean(a, axis, out=out, keepdims=keepdims)\n"
     ]
    },
    {
     "ename": "KeyboardInterrupt",
     "evalue": "",
     "output_type": "error",
     "traceback": [
      "\u001b[0;31m---------------------------------------------------------------------------\u001b[0m",
      "\u001b[0;31mKeyboardInterrupt\u001b[0m                         Traceback (most recent call last)",
      "\u001b[0;32m<ipython-input-4-11362f3e7529>\u001b[0m in \u001b[0;36m<module>\u001b[0;34m\u001b[0m\n\u001b[0;32m----> 1\u001b[0;31m \u001b[0mretrieval2\u001b[0m\u001b[0;34m=\u001b[0m\u001b[0minit_retrieval\u001b[0m\u001b[0;34m(\u001b[0m\u001b[0mbrown_dwarf\u001b[0m\u001b[0;34m=\u001b[0m\u001b[0;34m'2M1425'\u001b[0m\u001b[0;34m,\u001b[0m\u001b[0mPT_type\u001b[0m\u001b[0;34m=\u001b[0m\u001b[0;34m'PTgrad'\u001b[0m\u001b[0;34m,\u001b[0m\u001b[0mchem\u001b[0m\u001b[0;34m=\u001b[0m\u001b[0;34m'equchem'\u001b[0m\u001b[0;34m,\u001b[0m\u001b[0mNlive\u001b[0m\u001b[0;34m=\u001b[0m\u001b[0;36m400\u001b[0m\u001b[0;34m,\u001b[0m\u001b[0mtol\u001b[0m\u001b[0;34m=\u001b[0m\u001b[0;36m0.5\u001b[0m\u001b[0;34m)\u001b[0m\u001b[0;34m\u001b[0m\u001b[0;34m\u001b[0m\u001b[0m\n\u001b[0m\u001b[1;32m      2\u001b[0m \u001b[0mretrieval2\u001b[0m\u001b[0;34m.\u001b[0m\u001b[0mevaluate\u001b[0m\u001b[0;34m(\u001b[0m\u001b[0mmakefigs\u001b[0m\u001b[0;34m=\u001b[0m\u001b[0;32mFalse\u001b[0m\u001b[0;34m)\u001b[0m\u001b[0;34m\u001b[0m\u001b[0;34m\u001b[0m\u001b[0m\n",
      "\u001b[0;32m<ipython-input-2-0a409f6e612b>\u001b[0m in \u001b[0;36minit_retrieval\u001b[0;34m(brown_dwarf, PT_type, chem, Nlive, tol, cloud_mode, GP)\u001b[0m\n\u001b[1;32m     90\u001b[0m     \u001b[0mparameters\u001b[0m\u001b[0;34m(\u001b[0m\u001b[0mcube\u001b[0m\u001b[0;34m)\u001b[0m\u001b[0;34m\u001b[0m\u001b[0;34m\u001b[0m\u001b[0m\n\u001b[1;32m     91\u001b[0m \u001b[0;34m\u001b[0m\u001b[0m\n\u001b[0;32m---> 92\u001b[0;31m     retrieval=Retrieval(target=brown_dwarf,parameters=parameters,\n\u001b[0m\u001b[1;32m     93\u001b[0m                     output_name=output,chemistry=chem,PT_type=PT_type)\n\u001b[1;32m     94\u001b[0m     \u001b[0;32mreturn\u001b[0m \u001b[0mretrieval\u001b[0m\u001b[0;34m\u001b[0m\u001b[0;34m\u001b[0m\u001b[0m\n",
      "\u001b[0;32m~/Desktop/files/uni/PhD/SupJup/codes/retrieval_base/atm_retrieval/atm_retrieval/retrieval.py\u001b[0m in \u001b[0;36m__init__\u001b[0;34m(self, target, parameters, output_name, chemistry, GP, cloud_mode, PT_type, redo)\u001b[0m\n\u001b[1;32m     66\u001b[0m                 \u001b[0;32mif\u001b[0m \u001b[0mGP\u001b[0m\u001b[0;34m==\u001b[0m\u001b[0;32mTrue\u001b[0m\u001b[0;34m:\u001b[0m \u001b[0;31m# use Gaussian processes covariance matrix\u001b[0m\u001b[0;34m\u001b[0m\u001b[0;34m\u001b[0m\u001b[0m\n\u001b[1;32m     67\u001b[0m                     \u001b[0mmaxval\u001b[0m\u001b[0;34m=\u001b[0m\u001b[0;36m10\u001b[0m\u001b[0;34m**\u001b[0m\u001b[0;34m(\u001b[0m\u001b[0mself\u001b[0m\u001b[0;34m.\u001b[0m\u001b[0mparameters\u001b[0m\u001b[0;34m.\u001b[0m\u001b[0mparam_priors\u001b[0m\u001b[0;34m[\u001b[0m\u001b[0;34m'log_l'\u001b[0m\u001b[0;34m]\u001b[0m\u001b[0;34m[\u001b[0m\u001b[0;36m1\u001b[0m\u001b[0;34m]\u001b[0m\u001b[0;34m)\u001b[0m\u001b[0;34m*\u001b[0m\u001b[0;36m3\u001b[0m \u001b[0;31m# 3*max value of prior of l\u001b[0m\u001b[0;34m\u001b[0m\u001b[0;34m\u001b[0m\u001b[0m\n\u001b[0;32m---> 68\u001b[0;31m                     self.Cov[i,j] = CovGauss(err=self.data_err[i,j,mask_ij],separation=self.separation[i,j], \n\u001b[0m\u001b[1;32m     69\u001b[0m                                             err_eff=self.err_eff[i,j],max_separation=maxval)\n\u001b[1;32m     70\u001b[0m                 \u001b[0;32mif\u001b[0m \u001b[0mGP\u001b[0m\u001b[0;34m==\u001b[0m\u001b[0;32mFalse\u001b[0m\u001b[0;34m:\u001b[0m \u001b[0;31m# use simple diagonal covariance matrix\u001b[0m\u001b[0;34m\u001b[0m\u001b[0;34m\u001b[0m\u001b[0m\n",
      "\u001b[0;32m~/Desktop/files/uni/PhD/SupJup/codes/retrieval_base/atm_retrieval/atm_retrieval/covariance.py\u001b[0m in \u001b[0;36m__init__\u001b[0;34m(self, err, separation, err_eff, max_separation, **kwargs)\u001b[0m\n\u001b[1;32m     54\u001b[0m \u001b[0;34m\u001b[0m\u001b[0m\n\u001b[1;32m     55\u001b[0m         \u001b[0;31m# Convert to banded matrices\u001b[0m\u001b[0;34m\u001b[0m\u001b[0;34m\u001b[0m\u001b[0;34m\u001b[0m\u001b[0m\n\u001b[0;32m---> 56\u001b[0;31m         \u001b[0mself\u001b[0m\u001b[0;34m.\u001b[0m\u001b[0mseparation\u001b[0m \u001b[0;34m=\u001b[0m \u001b[0mself\u001b[0m\u001b[0;34m.\u001b[0m\u001b[0mget_banded\u001b[0m\u001b[0;34m(\u001b[0m\u001b[0mself\u001b[0m\u001b[0;34m.\u001b[0m\u001b[0mseparation\u001b[0m\u001b[0;34m,\u001b[0m\u001b[0mmax_value\u001b[0m\u001b[0;34m=\u001b[0m\u001b[0mmax_separation\u001b[0m\u001b[0;34m,\u001b[0m\u001b[0mpad_value\u001b[0m\u001b[0;34m=\u001b[0m\u001b[0;36m1000\u001b[0m\u001b[0;34m)\u001b[0m \u001b[0;31m# pad high number bc will be truncated\u001b[0m\u001b[0;34m\u001b[0m\u001b[0;34m\u001b[0m\u001b[0m\n\u001b[0m\u001b[1;32m     57\u001b[0m \u001b[0;34m\u001b[0m\u001b[0m\n\u001b[1;32m     58\u001b[0m     \u001b[0;32mdef\u001b[0m \u001b[0mget_banded\u001b[0m\u001b[0;34m(\u001b[0m\u001b[0mcls\u001b[0m\u001b[0;34m,\u001b[0m \u001b[0marray\u001b[0m\u001b[0;34m,\u001b[0m \u001b[0mmax_value\u001b[0m\u001b[0;34m=\u001b[0m\u001b[0;32mNone\u001b[0m\u001b[0;34m,\u001b[0m \u001b[0mpad_value\u001b[0m\u001b[0;34m=\u001b[0m\u001b[0;36m0\u001b[0m\u001b[0;34m,\u001b[0m \u001b[0mn_pixels\u001b[0m\u001b[0;34m=\u001b[0m\u001b[0;36m2048\u001b[0m\u001b[0;34m)\u001b[0m\u001b[0;34m:\u001b[0m\u001b[0;34m\u001b[0m\u001b[0;34m\u001b[0m\u001b[0m\n",
      "\u001b[0;32m~/Desktop/files/uni/PhD/SupJup/codes/retrieval_base/atm_retrieval/atm_retrieval/covariance.py\u001b[0m in \u001b[0;36mget_banded\u001b[0;34m(cls, array, max_value, pad_value, n_pixels)\u001b[0m\n\u001b[1;32m     59\u001b[0m         \u001b[0mbanded_array\u001b[0m \u001b[0;34m=\u001b[0m \u001b[0;34m[\u001b[0m\u001b[0;34m]\u001b[0m \u001b[0;31m# Make banded covariance matrix\u001b[0m\u001b[0;34m\u001b[0m\u001b[0;34m\u001b[0m\u001b[0m\n\u001b[1;32m     60\u001b[0m         \u001b[0;32mfor\u001b[0m \u001b[0mk\u001b[0m \u001b[0;32min\u001b[0m \u001b[0mrange\u001b[0m\u001b[0;34m(\u001b[0m\u001b[0mn_pixels\u001b[0m\u001b[0;34m)\u001b[0m\u001b[0;34m:\u001b[0m\u001b[0;34m\u001b[0m\u001b[0;34m\u001b[0m\u001b[0m\n\u001b[0;32m---> 61\u001b[0;31m             \u001b[0mdiag_k\u001b[0m \u001b[0;34m=\u001b[0m \u001b[0mnp\u001b[0m\u001b[0;34m.\u001b[0m\u001b[0mdiag\u001b[0m\u001b[0;34m(\u001b[0m\u001b[0marray\u001b[0m\u001b[0;34m,\u001b[0m \u001b[0mk\u001b[0m\u001b[0;34m=\u001b[0m\u001b[0mk\u001b[0m\u001b[0;34m)\u001b[0m \u001b[0;31m# Retrieve the k-th diagonal\u001b[0m\u001b[0;34m\u001b[0m\u001b[0;34m\u001b[0m\u001b[0m\n\u001b[0m\u001b[1;32m     62\u001b[0m             \u001b[0mdiag_k\u001b[0m \u001b[0;34m=\u001b[0m \u001b[0mnp\u001b[0m\u001b[0;34m.\u001b[0m\u001b[0mconcatenate\u001b[0m\u001b[0;34m(\u001b[0m\u001b[0;34m(\u001b[0m\u001b[0mdiag_k\u001b[0m\u001b[0;34m,\u001b[0m \u001b[0mpad_value\u001b[0m\u001b[0;34m*\u001b[0m\u001b[0mnp\u001b[0m\u001b[0;34m.\u001b[0m\u001b[0mones\u001b[0m\u001b[0;34m(\u001b[0m\u001b[0mk\u001b[0m\u001b[0;34m)\u001b[0m\u001b[0;34m)\u001b[0m\u001b[0;34m)\u001b[0m \u001b[0;31m# Pad the diagonals to the same sizes\u001b[0m\u001b[0;34m\u001b[0m\u001b[0;34m\u001b[0m\u001b[0m\n\u001b[1;32m     63\u001b[0m             \u001b[0;32mif\u001b[0m \u001b[0;34m(\u001b[0m\u001b[0mdiag_k\u001b[0m \u001b[0;34m==\u001b[0m \u001b[0;36m0\u001b[0m\u001b[0;34m)\u001b[0m\u001b[0;34m.\u001b[0m\u001b[0mall\u001b[0m\u001b[0;34m(\u001b[0m\u001b[0;34m)\u001b[0m \u001b[0;32mand\u001b[0m \u001b[0;34m(\u001b[0m\u001b[0mk\u001b[0m \u001b[0;34m!=\u001b[0m \u001b[0;36m0\u001b[0m\u001b[0;34m)\u001b[0m\u001b[0;34m:\u001b[0m \u001b[0;31m# There are no more non-zero diagonals coming\u001b[0m\u001b[0;34m\u001b[0m\u001b[0;34m\u001b[0m\u001b[0m\n",
      "\u001b[0;32m~/.local/lib/python3.8/site-packages/numpy/core/overrides.py\u001b[0m in \u001b[0;36mdiag\u001b[0;34m(*args, **kwargs)\u001b[0m\n",
      "\u001b[0;32m~/.local/lib/python3.8/site-packages/numpy/lib/twodim_base.py\u001b[0m in \u001b[0;36mdiag\u001b[0;34m(v, k)\u001b[0m\n\u001b[1;32m    305\u001b[0m         \u001b[0;32mreturn\u001b[0m \u001b[0mres\u001b[0m\u001b[0;34m\u001b[0m\u001b[0;34m\u001b[0m\u001b[0m\n\u001b[1;32m    306\u001b[0m     \u001b[0;32melif\u001b[0m \u001b[0mlen\u001b[0m\u001b[0;34m(\u001b[0m\u001b[0ms\u001b[0m\u001b[0;34m)\u001b[0m \u001b[0;34m==\u001b[0m \u001b[0;36m2\u001b[0m\u001b[0;34m:\u001b[0m\u001b[0;34m\u001b[0m\u001b[0;34m\u001b[0m\u001b[0m\n\u001b[0;32m--> 307\u001b[0;31m         \u001b[0;32mreturn\u001b[0m \u001b[0mdiagonal\u001b[0m\u001b[0;34m(\u001b[0m\u001b[0mv\u001b[0m\u001b[0;34m,\u001b[0m \u001b[0mk\u001b[0m\u001b[0;34m)\u001b[0m\u001b[0;34m\u001b[0m\u001b[0;34m\u001b[0m\u001b[0m\n\u001b[0m\u001b[1;32m    308\u001b[0m     \u001b[0;32melse\u001b[0m\u001b[0;34m:\u001b[0m\u001b[0;34m\u001b[0m\u001b[0;34m\u001b[0m\u001b[0m\n\u001b[1;32m    309\u001b[0m         \u001b[0;32mraise\u001b[0m \u001b[0mValueError\u001b[0m\u001b[0;34m(\u001b[0m\u001b[0;34m\"Input must be 1- or 2-d.\"\u001b[0m\u001b[0;34m)\u001b[0m\u001b[0;34m\u001b[0m\u001b[0;34m\u001b[0m\u001b[0m\n",
      "\u001b[0;32m~/.local/lib/python3.8/site-packages/numpy/core/overrides.py\u001b[0m in \u001b[0;36mdiagonal\u001b[0;34m(*args, **kwargs)\u001b[0m\n",
      "\u001b[0;32m~/.local/lib/python3.8/site-packages/numpy/core/fromnumeric.py\u001b[0m in \u001b[0;36mdiagonal\u001b[0;34m(a, offset, axis1, axis2)\u001b[0m\n\u001b[1;32m   1703\u001b[0m         \u001b[0;32mreturn\u001b[0m \u001b[0masarray\u001b[0m\u001b[0;34m(\u001b[0m\u001b[0ma\u001b[0m\u001b[0;34m)\u001b[0m\u001b[0;34m.\u001b[0m\u001b[0mdiagonal\u001b[0m\u001b[0;34m(\u001b[0m\u001b[0moffset\u001b[0m\u001b[0;34m=\u001b[0m\u001b[0moffset\u001b[0m\u001b[0;34m,\u001b[0m \u001b[0maxis1\u001b[0m\u001b[0;34m=\u001b[0m\u001b[0maxis1\u001b[0m\u001b[0;34m,\u001b[0m \u001b[0maxis2\u001b[0m\u001b[0;34m=\u001b[0m\u001b[0maxis2\u001b[0m\u001b[0;34m)\u001b[0m\u001b[0;34m\u001b[0m\u001b[0;34m\u001b[0m\u001b[0m\n\u001b[1;32m   1704\u001b[0m     \u001b[0;32melse\u001b[0m\u001b[0;34m:\u001b[0m\u001b[0;34m\u001b[0m\u001b[0;34m\u001b[0m\u001b[0m\n\u001b[0;32m-> 1705\u001b[0;31m         \u001b[0;32mreturn\u001b[0m \u001b[0masanyarray\u001b[0m\u001b[0;34m(\u001b[0m\u001b[0ma\u001b[0m\u001b[0;34m)\u001b[0m\u001b[0;34m.\u001b[0m\u001b[0mdiagonal\u001b[0m\u001b[0;34m(\u001b[0m\u001b[0moffset\u001b[0m\u001b[0;34m=\u001b[0m\u001b[0moffset\u001b[0m\u001b[0;34m,\u001b[0m \u001b[0maxis1\u001b[0m\u001b[0;34m=\u001b[0m\u001b[0maxis1\u001b[0m\u001b[0;34m,\u001b[0m \u001b[0maxis2\u001b[0m\u001b[0;34m=\u001b[0m\u001b[0maxis2\u001b[0m\u001b[0;34m)\u001b[0m\u001b[0;34m\u001b[0m\u001b[0;34m\u001b[0m\u001b[0m\n\u001b[0m\u001b[1;32m   1706\u001b[0m \u001b[0;34m\u001b[0m\u001b[0m\n\u001b[1;32m   1707\u001b[0m \u001b[0;34m\u001b[0m\u001b[0m\n",
      "\u001b[0;31mKeyboardInterrupt\u001b[0m: "
     ]
    }
   ],
   "source": [
    "retrieval2=init_retrieval(brown_dwarf='2M1425',PT_type='PTgrad',chem='equchem',Nlive=400,tol=0.5)\n",
    "retrieval2.evaluate(makefigs=False)"
   ]
  },
  {
   "cell_type": "code",
   "execution_count": null,
   "metadata": {},
   "outputs": [
    {
     "name": "stderr",
     "output_type": "stream",
     "text": [
      "/home/natalie/.local/lib/python3.8/site-packages/numpy/lib/nanfunctions.py:1215: RuntimeWarning: Mean of empty slice\n",
      "  return np.nanmean(a, axis, out=out, keepdims=keepdims)\n"
     ]
    },
    {
     "ename": "",
     "evalue": "",
     "output_type": "error",
     "traceback": [
      "\u001b[1;31mThe Kernel crashed while executing code in the current cell or a previous cell. \n",
      "\u001b[1;31mPlease review the code in the cell(s) to identify a possible cause of the failure. \n",
      "\u001b[1;31mClick <a href='https://aka.ms/vscodeJupyterKernelCrash'>here</a> for more info. \n",
      "\u001b[1;31mView Jupyter <a href='command:jupyter.viewOutput'>log</a> for further details."
     ]
    }
   ],
   "source": [
    "retrieval3=init_retrieval(brown_dwarf='2M1425',PT_type='PTgrad',chem='quequchem',Nlive=400,tol=0.5)\n",
    "retrieval3.evaluate(makefigs=False)"
   ]
  },
  {
   "cell_type": "code",
   "execution_count": null,
   "metadata": {},
   "outputs": [],
   "source": [
    "\n",
    "import figures as figs\n",
    "figs.VMR_plot_new(retrieval_object=retrieval,retrieval_object2=retrieval2,retrieval_object3=retrieval3,molecules=['H2O','12CO','13CO','CH4','H2S'])"
   ]
  },
  {
   "cell_type": "code",
   "execution_count": null,
   "metadata": {},
   "outputs": [
    {
     "name": "stderr",
     "output_type": "stream",
     "text": [
      "/home/natalie/.local/lib/python3.8/site-packages/numpy/lib/nanfunctions.py:1215: RuntimeWarning: Mean of empty slice\n",
      "  return np.nanmean(a, axis, out=out, keepdims=keepdims)\n",
      "/home/natalie/.local/lib/python3.8/site-packages/numpy/lib/nanfunctions.py:1215: RuntimeWarning: Mean of empty slice\n",
      "  return np.nanmean(a, axis, out=out, keepdims=keepdims)\n",
      "/home/natalie/.local/lib/python3.8/site-packages/numpy/lib/nanfunctions.py:1215: RuntimeWarning: Mean of empty slice\n",
      "  return np.nanmean(a, axis, out=out, keepdims=keepdims)\n"
     ]
    }
   ],
   "source": [
    "retrieval=init_retrieval(brown_dwarf='2M1425',PT_type='PTgrad',chem='freechem',Nlive=400,tol=0.5)\n",
    "retrieval.evaluate(makefigs=False)\n",
    "\n",
    "retrieval2=init_retrieval(brown_dwarf='2M1425',PT_type='PTgrad',chem='equchem',Nlive=400,tol=0.5)\n",
    "retrieval2.evaluate(makefigs=False)\n",
    "\n",
    "retrieval3=init_retrieval(brown_dwarf='2M1425',PT_type='PTgrad',chem='quequchem',Nlive=400,tol=0.5)\n",
    "retrieval3.evaluate(makefigs=False)\n",
    "\n",
    "import figures as figs\n",
    "figs.VMR_plot_new(retrieval_object=retrieval,retrieval_object2=retrieval2,retrieval_object3=retrieval3,molecules=['H2O','12CO','13CO','CH4','H2S'])"
   ]
  },
  {
   "cell_type": "code",
   "execution_count": null,
   "metadata": {},
   "outputs": [],
   "source": [
    "\n"
   ]
  },
  {
   "cell_type": "code",
   "execution_count": null,
   "metadata": {},
   "outputs": [],
   "source": [
    "import figures as figs\n",
    "\n",
    "figs.VMR_plot_new(retrieval)"
   ]
  },
  {
   "cell_type": "code",
   "execution_count": 10,
   "metadata": {},
   "outputs": [
    {
     "data": {
      "image/png": "[encoded data removed]",
      "text/plain": [
       "<Figure size 1000x700 with 1 Axes>"
      ]
     },
     "metadata": {
      "needs_background": "light"
     },
     "output_type": "display_data"
    }
   ],
   "source": [
    "from figures import *\n",
    "# new VMR plot with errors on freechem and equchem\n",
    "import matplotlib.ticker\n",
    "from matplotlib.ticker import MultipleLocator\n",
    "from matplotlib import pyplot as plt, ticker as mticker\n",
    "\n",
    "def VMR_plot_new(retrieval_object,molecules=['H2O','12CO','CH4','H2S'],fs=10,comp_equ=False,**kwargs):\n",
    "\n",
    "    #prefix=retrieval_object.callback_label if retrieval_object.callback_label=='final_' else ''\n",
    "    prefix=''\n",
    "    suffix=''\n",
    "    output_dir=retrieval_object.output_dir\n",
    "    fig,ax=plt.subplots(1,1,figsize=(5,3.5),dpi=200)\n",
    "    species_info = pd.read_csv(os.path.join('species_info.csv'))\n",
    "    alpha=0.6 if 'retrieval_object2' in kwargs or comp_equ==True else 1\n",
    "    legend_labels=0\n",
    "    xmin,xmax=1e-10,1e-2\n",
    "    chemleg=[] # legend for chemistry\n",
    "    pressure=retrieval_object.model_object.pressure\n",
    "\n",
    "    def plot_VMRs(retr_obj,ax,ax2):\n",
    "        \n",
    "        if retr_obj.chemistry=='freechem' and 'retrieval_object2' not in kwargs:\n",
    "            linestyle='dashed'\n",
    "            chemleg.append(Line2D([0], [0], color='k',linestyle=linestyle,linewidth=2,alpha=0.7,label='Free'))\n",
    "        elif retr_obj.chemistry=='freechem' and 'retrieval_object2' in kwargs:    \n",
    "            chemleg.append(Line2D([0], [0], marker='o',color='k',markerfacecolor='k',linewidth=2,alpha=0.7,label='Free'))\n",
    "        elif retr_obj.chemistry=='equchem':\n",
    "            linestyle='solid'\n",
    "            chemleg.append(Line2D([0], [0], color='k',linestyle=linestyle,linewidth=2,alpha=0.3,label='Equ'))\n",
    "        elif retr_obj.chemistry=='quequchem':\n",
    "            linestyle='dotted'\n",
    "            chemleg.append(Line2D([0], [0], color='k',linestyle=linestyle,linewidth=2,alpha=0.3,label='Quench'))\n",
    "\n",
    "        if retr_obj.chemistry=='freechem':\n",
    "            # somethings wrong with this...\n",
    "            contribution_plot=retr_obj.summed_contr/np.max(retr_obj.summed_contr)*(xmax-xmin)+xmin\n",
    "            ax2.plot(contribution_plot,retr_obj.model_object.pressure[::-1],\n",
    "                    lw=1,alpha=0.3,color=retr_obj.color1,linestyle='dashdot')\n",
    "            ax2.set_xlim(np.min(contribution_plot),np.max(contribution_plot))\n",
    "            ax2.set_ylim(np.min(pressure),np.max(pressure))\n",
    "            contr_max=pressure[np.where(retr_obj.summed_contr==np.max(retr_obj.summed_contr))[0]]\n",
    "            ax2.set_yscale('log')\n",
    "            #ax2.fill_between([xmin,xmax],sm1,sp1,color=retr_obj.color1,alpha=0.05)\n",
    "\n",
    "        for species in molecules:\n",
    "            color=species_info.loc[species_info[\"name\"]==species]['color'].values[0]\n",
    "            label=species_info.loc[species_info[\"name\"]==species]['mathtext_name'].values[0]\n",
    "            if retr_obj.chemistry=='freechem':\n",
    "                label=label if legend_labels==0 else '_nolegend_' \n",
    "                VMR=10**retr_obj.params_dict[f'log_{species}']\n",
    "                idx=list(retr_obj.parameters.params).index(f'log_{species}')\n",
    "                sm3,sm2,sm1,median,sp1,sp2,sp3 = 10**np.array(np.percentile(retr_obj.posterior[:,idx],[0.2,2.3,15.9,50.0,84.1,97.7,99.8], axis=-1))\n",
    "                if 'retrieval_object2' not in kwargs:\n",
    "                    ax.plot(np.ones_like(pressure)*VMR,pressure,label=label,linestyle=linestyle,c=color)\n",
    "                    ax.fill_betweenx(pressure,sm2,sp2,color=color,alpha=0.1) # 95% confidence interval\n",
    "                    ax.scatter(VMR,contr_max, color=color,s=13)\n",
    "                else: # plot only as point to avoid cluttering\n",
    "                    ax.scatter(VMR,contr_max, color=color,s=13)\n",
    "                    ax.plot([sm2,sp2],[contr_max,contr_max], color=color,lw=1.5)\n",
    "            elif retr_obj.chemistry in ['equchem','quequchem']:\n",
    "                label=label if legend_labels==0 else '_nolegend_'\n",
    "                if comp_equ==False:\n",
    "                    sm3,sm2,sm1,median,sp1,sp2,sp3=np.percentile(retr_obj.VMR_dict[species], [0.2,2.3,15.9,50.0,84.1,97.7,99.8], axis=0)\n",
    "                    ax.plot(median,pressure,label=label,alpha=alpha,linestyle=linestyle,c=color)\n",
    "                    #ax.fill_betweenx(pressure,sm1,sp1,color=color,alpha=0.1)\n",
    "                    if retr_obj.chemistry=='equchem':\n",
    "                        ax.fill_betweenx(pressure,sm2,sp2,color=color,alpha=0.1) # 95% confidence interval\n",
    "                    #ax.fill_betweenx(pressure,sm3,sp3,color=color,alpha=0.1)\n",
    "                    elif retr_obj.chemistry=='quequchem':\n",
    "                        ax.fill_betweenx(pressure,sm2,sp2,color=color,alpha=0.05,hatch='x') # 95% confidence interval\n",
    "                else:\n",
    "                    ax.plot(retr_obj.model_object.VMRs[species],pressure,label=label,alpha=alpha,linestyle=linestyle,c=color)\n",
    "\n",
    "    \n",
    "    ax2 = ax.inset_axes([0,0,1,1]) # [x0, y0, width, height] , for emission contribution\n",
    "\n",
    "    plot_VMRs(retrieval_object,ax=ax,ax2=ax2)\n",
    "    legend_labels=1 if 'retrieval_object2' not in kwargs else 0 # only make legend labels once \n",
    "\n",
    "    # compare freechem VMRs to equilibrium chemistry with other retrieved params remainig equal\n",
    "    if comp_equ==True:\n",
    "        if getpass.getuser() == \"grasser\": # when runnig from LEM\n",
    "            from atm_retrieval.retrieval import Retrieval\n",
    "            from atm_retrieval.parameters import Parameters\n",
    "        elif getpass.getuser() == \"natalie\": # when testing from my laptop\n",
    "            from retrieval import Retrieval\n",
    "            from parameters import Parameters\n",
    "\n",
    "        parameters_equ = retrieval_object.params_dict\n",
    "        parameters_equ.update({'C/O': retrieval_object.params_dict['C/O'],\n",
    "                        'Fe/H': retrieval_object.params_dict['C/H'],\n",
    "                        'log_C12_13_ratio': retrieval_object.params_dict['log_12CO/13CO'],\n",
    "                        'log_O16_18_ratio': retrieval_object.params_dict['log_H2O/H2(18)O'],\n",
    "                        'log_O16_17_ratio': retrieval_object.params_dict['log_12CO/C17O']})\n",
    "        parameters_equ = Parameters({}, parameters_equ)\n",
    "        parameters_equ.param_priors['log_l']=[-3,0]\n",
    "        retrieval_equ = Retrieval(target=retrieval_object.target,parameters=parameters_equ, \n",
    "                                  output_name=retrieval_object.output_name,\n",
    "                                chemistry='equchem',PT_type=retrieval_object.PT_type)\n",
    "        retrieval_equ.model_object=pRT_spectrum(retrieval_equ)\n",
    "        plot_VMRs(retrieval_equ,ax=ax,ax2=ax2)\n",
    "\n",
    "    if 'retrieval_object2' in kwargs: # compare two retrievals\n",
    "        prefix=''\n",
    "        suffix='_2'\n",
    "        retrieval_object2=kwargs.get('retrieval_object2')\n",
    "        plt.gca().set_prop_cycle(None) # reset color cycle\n",
    "        plot_VMRs(retrieval_object2,ax=ax,ax2=ax2)\n",
    "        legend_labels=1\n",
    "        comparison_dir=pathlib.Path(f'{retrieval_object.output_dir}/comparison') # store output in separate folder\n",
    "        comparison_dir.mkdir(parents=True, exist_ok=True)\n",
    "        output_dir=comparison_dir\n",
    "\n",
    "    if 'retrieval_object3' in kwargs: # compare three retrievals\n",
    "        suffix='_3'\n",
    "        retrieval_object3=kwargs.get('retrieval_object3')\n",
    "        plt.gca().set_prop_cycle(None) # reset color cycle\n",
    "        plot_VMRs(retrieval_object3,ax=ax,ax2=ax2)\n",
    "\n",
    "    leg=ax.legend(fontsize=fs*0.8,ncol=int(len(molecules)/2),loc='lower left')\n",
    "    for lh in leg.legend_handles:\n",
    "        lh.set_alpha(1)\n",
    "    for line in leg.get_lines():\n",
    "        line.set_linestyle('-')\n",
    "    ax.add_artist(leg)\n",
    "    if comp_equ==True or 'retrieval_object2' in kwargs:\n",
    "        leg2=ax.legend(handles=chemleg,fontsize=fs*0.8,loc='upper left')\n",
    "        ax.add_artist(leg2)\n",
    "    \n",
    "    ax2.axis('off')\n",
    "    ax2.set_facecolor('none')\n",
    "    ax.set(xlabel='VMR', ylabel='Pressure [bar]',yscale='log',xscale='log',\n",
    "        ylim=(np.max(pressure),np.min(pressure)),xlim=(xmin,xmax))   \n",
    "    ax.tick_params(labelsize=fs)\n",
    "    #ax.get_xaxis().set_major_formatter(matplotlib.ticker.ScalarFormatter())\n",
    "    #ax.xaxis.set_major_locator(MultipleLocator(1e-2))\n",
    "    ax.xaxis.set_major_locator(mticker.LogLocator(numticks=999))\n",
    "    ax.xaxis.set_minor_locator(mticker.LogLocator(numticks=999, subs=\"auto\"))\n",
    "    ax.set_xlabel('VMR', fontsize=fs)\n",
    "    ax.set_ylabel('Pressure [bar]', fontsize=fs)\n",
    "    fig.tight_layout()\n",
    "    #fig.savefig(f'{output_dir}/{prefix}VMR_plot{suffix}.pdf')\n",
    "    #plt.close()\n",
    "\n",
    "#VMR_plot_new(retrieval_object=retrieval,retrieval_object2=retrieval2,retrieval_object3=retrieval3)\n",
    "VMR_plot_new(retrieval_object=retrieval)"
   ]
  },
  {
   "cell_type": "code",
   "execution_count": 2,
   "metadata": {},
   "outputs": [
    {
     "name": "stderr",
     "output_type": "stream",
     "text": [
      "/home/natalie/.local/lib/python3.8/site-packages/numpy/lib/nanfunctions.py:1215: RuntimeWarning: Mean of empty slice\n",
      "  return np.nanmean(a, axis, out=out, keepdims=keepdims)\n"
     ]
    }
   ],
   "source": [
    "retrieval=init_retrieval(brown_dwarf='2M0355',PT_type='PTgrad',chem='freechem',Nlive=400,tol=0.5)\n",
    "retrieval.evaluate(makefigs=False,del_atm=False)\n",
    "\n",
    "retrieval2=init_retrieval(brown_dwarf='2M1425',PT_type='PTgrad',chem='freechem',Nlive=400,tol=0.5)\n",
    "retrieval2.evaluate(makefigs=False,del_atm=False)"
   ]
  },
  {
   "cell_type": "code",
   "execution_count": 16,
   "metadata": {},
   "outputs": [
    {
     "name": "stdout",
     "output_type": "stream",
     "text": [
      "\n",
      "Corr betw logg & [C/H]: 0.7018300805415659\n",
      "11.345865727587707 -2.28972803099281\n",
      "Corr betw H2O & CO: -0.07303033517316188\n",
      "\n",
      "Corr betw logg & [C/H]: 0.47231534023230537\n",
      "8.301373609012293 -1.4534112167424897\n",
      "Corr betw H2O & CO: 0.12898667726061266\n"
     ]
    }
   ],
   "source": [
    "# calc correlation coefficient\n",
    "import numpy as np\n",
    "\n",
    "def corr(BD):\n",
    "    metall=np.load(f'/home/natalie/Desktop/atm_retrieval/{BD}/freechem_PTgrad_N400_ev0.5/ratios_posterior.npy')[:,1:2].flatten()\n",
    "    post=np.load(f'/home/natalie/Desktop/atm_retrieval/{BD}/freechem_PTgrad_N400_ev0.5/final_posterior.npy')\n",
    "    logg=post[:,2]\n",
    "    r=np.corrcoef(logg,metall)\n",
    "    print('\\nCorr betw logg & [C/H]:',r[0,1])\n",
    "    H2O=post[:,12]\n",
    "    CO=post[:,11]\n",
    "    r=np.corrcoef(H2O,CO)\n",
    "    print(np.median(H2O),np.median(CO))\n",
    "    print('Corr betw H2O & CO:',r[0,1])\n",
    "\n",
    "corr('2M0355')\n",
    "corr('2M1425')"
   ]
  },
  {
   "cell_type": "code",
   "execution_count": 3,
   "metadata": {},
   "outputs": [],
   "source": [
    "import figures as figs\n",
    "figs.compare_retrievals(retrieval,retrieval2)"
   ]
  },
  {
   "cell_type": "code",
   "execution_count": null,
   "metadata": {},
   "outputs": [],
   "source": [
    "import matplotlib.pyplot as plt\n",
    "import pathlib\n",
    "import corner\n",
    "\n",
    "def compare_metall_logg(retrieval_object1,retrieval_object2,fs=12,only_params=['log_g'],**kwargs):\n",
    "    \n",
    "    labels=list(retrieval_object1.parameters.param_mathtext.values())\n",
    "    indices=[]\n",
    "    for key in only_params:\n",
    "        idx=list(retrieval_object1.parameters.params).index(key)\n",
    "        indices.append(idx)\n",
    "    posterior1=np.array([retrieval_object1.posterior[:,i] for i in indices]).T\n",
    "    posterior2=np.array([retrieval_object2.posterior[:,i] for i in indices]).T\n",
    "    labels=np.array([labels[i] for i in indices])\n",
    "\n",
    "    total_posterior1=np.hstack([posterior1,retrieval_object1.ratios_posterior[:,1:2]]) # only C/H\n",
    "    total_posterior2=np.hstack([posterior2,retrieval_object2.ratios_posterior[:,1:2]]) # only C/H\n",
    "    labels=np.append(labels,'[C/H]')\n",
    "\n",
    "    figsize=4\n",
    "    fig = plt.figure(figsize=(figsize,figsize)) # fix size to avoid memory issues\n",
    "\n",
    "    def plot_corner(posterior,retr_obj,labels,fig,getfig=False):\n",
    "        fig = corner.corner(posterior, \n",
    "                        labels=labels, \n",
    "                        title_kwargs={'fontsize': fs},\n",
    "                        label_kwargs={'fontsize': fs*0.8},\n",
    "                        color=retr_obj.color1,\n",
    "                        linewidths=0.5,\n",
    "                        fill_contours=True,\n",
    "                        quantiles=[0.16,0.5,0.84],\n",
    "                        title_quantiles=[0.16,0.5,0.84],\n",
    "                        show_titles=True,\n",
    "                        plot_contours=True,\n",
    "                        hist_kwargs={'density': False,\n",
    "                                    'fill': True,\n",
    "                                    'alpha': 0.5,\n",
    "                                    'edgecolor': 'k',\n",
    "                                    'linewidth': 1.0},\n",
    "                        fig=fig,\n",
    "                        quiet=True)\n",
    "        \n",
    "        titles = [axi.title.get_text() for axi in fig.axes]\n",
    "        if getfig:\n",
    "            return fig,titles\n",
    "        else:\n",
    "            return titles\n",
    "        \n",
    "    fig,titles1=plot_corner(total_posterior1,retrieval_object1,labels,fig,getfig=True)\n",
    "    titles2=plot_corner(total_posterior2,retrieval_object2,labels,fig)\n",
    "    enum=[0,1]\n",
    "    titles_list=[titles1,titles2]\n",
    "    colors_list=[retrieval_object1.color1,retrieval_object2.color1]\n",
    "\n",
    "    for i, axi in enumerate(fig.axes):\n",
    "        fig.axes[i].title.set_visible(False) # remove original titles\n",
    "        fig.axes[i].xaxis.label.set_fontsize(fs)\n",
    "        fig.axes[i].yaxis.label.set_fontsize(fs)\n",
    "        fig.axes[i].tick_params(axis='both', which='major', labelsize=fs*0.8)\n",
    "        fig.axes[i].tick_params(axis='both', which='minor', labelsize=fs*0.8)\n",
    "        \n",
    "    for run,titles_list,color in zip(enum,titles_list,colors_list):\n",
    "        # add new titles\n",
    "        for j, title in enumerate(titles_list):\n",
    "            if title == '':\n",
    "                continue\n",
    "            \n",
    "            # first only the name of the parameter\n",
    "            s = title.split('=')\n",
    "            if len(enum)==2:\n",
    "                y_title=1.45\n",
    "                y=y_title-(0.2*(run+1))\n",
    "            elif len(enum)==3:\n",
    "                y_title=1.47\n",
    "                y=y_title-0.12-(0.13*(run+0.2))\n",
    "            if run == 0: # first retrieval, add parameter name\n",
    "                fig.axes[j].text(0.5, y_title, s[0], fontsize=fs,\n",
    "                                ha='center', va='bottom',\n",
    "                                transform=fig.axes[j].transAxes,\n",
    "                                color='k',\n",
    "                                weight='normal')\n",
    "            # add parameter value with custom color and spacing\n",
    "            fig.axes[j].text(0.5, y, s[1], fontsize=fs,\n",
    "                            ha='center', va='bottom',\n",
    "                            transform=fig.axes[j].transAxes,\n",
    "                            color=color,\n",
    "                            weight='normal')\n",
    "\n",
    "    plt.subplots_adjust(wspace=0, hspace=0)\n",
    "    comparison_dir=pathlib.Path(f'{retrieval_object1.output_dir}/comparison') # store output in separate folder\n",
    "    comparison_dir.mkdir(parents=True, exist_ok=True)\n",
    "    fig.savefig(f'{comparison_dir}/cornerplot_ratios_logg.pdf',bbox_inches=\"tight\",dpi=200)\n",
    "    plt.close()\n",
    "\n",
    "compare_metall_logg(retrieval,retrieval2)"
   ]
  },
  {
   "cell_type": "code",
   "execution_count": 15,
   "metadata": {},
   "outputs": [
    {
     "data": {
      "text/plain": [
       "(4423, 26)"
      ]
     },
     "execution_count": 15,
     "metadata": {},
     "output_type": "execute_result"
    }
   ],
   "source": [
    "p=np.load('/home/natalie/Desktop/atm_retrieval/2M1425/freechem_PTgrad_N400_ev0.5/final_posterior.npy')\n",
    "p.shape"
   ]
  },
  {
   "cell_type": "code",
   "execution_count": 12,
   "metadata": {},
   "outputs": [
    {
     "name": "stdout",
     "output_type": "stream",
     "text": [
      "(3724, 2)\n"
     ]
    },
    {
     "data": {
      "text/plain": [
       "(3724, 2)"
      ]
     },
     "execution_count": 12,
     "metadata": {},
     "output_type": "execute_result"
    }
   ],
   "source": [
    "print(retrieval.ratios_posterior[:,:2].shape)\n",
    "plot_posterior.shape"
   ]
  },
  {
   "cell_type": "code",
   "execution_count": 7,
   "metadata": {},
   "outputs": [
    {
     "data": {
      "text/plain": [
       "array(['log $g$', '$v$ sin$i$', 'C/O', '[C/H]', 'log $^{12}$CO/$^{13}$CO',\n",
       "       'log $^{12}$CO/C$^{17}$O', 'log $^{12}$CO/C$^{18}$O',\n",
       "       'log H$_2^{16}$O/H$_2^{18}$O'], dtype='<U27')"
      ]
     },
     "execution_count": 7,
     "metadata": {},
     "output_type": "execute_result"
    }
   ],
   "source": [
    "np.append(labels,['C/O','[C/H]',r'log $^{12}$CO/$^{13}$CO',r'log $^{12}$CO/C$^{17}$O',\n",
    "                r'log $^{12}$CO/C$^{18}$O',r'log H$_2^{16}$O/H$_2^{18}$O'])"
   ]
  },
  {
   "cell_type": "code",
   "execution_count": 7,
   "metadata": {},
   "outputs": [
    {
     "name": "stdout",
     "output_type": "stream",
     "text": [
      "10.967323084915495 10.476608990519589\n",
      "11.46658982486478 13.001542009971573\n"
     ]
    }
   ],
   "source": [
    "# determine sigma difference between freechem/equchem/quechem\n",
    "\n",
    "import pathlib\n",
    "import pickle\n",
    "from scipy.special import lambertw as W\n",
    "from scipy.special import erfcinv\n",
    "import numpy as np\n",
    "\n",
    "def compare_evidence(ln_Z_A,ln_Z_B):\n",
    "\n",
    "    ln_B = ln_Z_A-ln_Z_B\n",
    "    sign=1\n",
    "    if ln_B<0: # ln_Z_B larger -> second model favored\n",
    "        sign=-1\n",
    "        ln_B*=sign # can't handle negative values (-> nan), multiply back later\n",
    "    try:\n",
    "        p = np.real(np.exp(W((-1.0/(np.exp(ln_B)*np.exp(1))),-1)))\n",
    "        sigma = np.sqrt(2)*erfcinv(p)\n",
    "    except RuntimeWarning:\n",
    "        sigma=np.inf \n",
    "    return ln_B*sign,sigma*sign\n",
    "\n",
    "def sigma_chem(BD):\n",
    "    path=pathlib.Path(f'/home/natalie/Desktop/atm_retrieval/{BD}/freechem_PTgrad_N400_ev0.5/params_dict.pickle')\n",
    "    with open(path,'rb') as file:\n",
    "        free=pickle.load(file)\n",
    "\n",
    "    path=pathlib.Path(f'/home/natalie/Desktop/atm_retrieval/{BD}/equchem_PTgrad_N400_ev0.5/params_dict.pickle')\n",
    "    with open(path,'rb') as file:\n",
    "        equ=pickle.load(file)\n",
    "\n",
    "        path=pathlib.Path(f'/home/natalie/Desktop/atm_retrieval/{BD}/quequchem_PTgrad_N400_ev0.5/params_dict.pickle')\n",
    "    with open(path,'rb') as file:\n",
    "        quequ=pickle.load(file)\n",
    "\n",
    "    free_lnL=free['lnZ']\n",
    "    equ_lnL=equ['lnZ']\n",
    "    quequ_lnL=quequ['lnZ']\n",
    "    _,sig_free_equ=compare_evidence(free_lnL,equ_lnL)\n",
    "    _,sig_free_quequ=compare_evidence(free_lnL,quequ_lnL)\n",
    "    print(sig_free_equ,sig_free_quequ)\n",
    "\n",
    "sigma_chem('2M0355')\n",
    "sigma_chem('2M1425')"
   ]
  },
  {
   "cell_type": "code",
   "execution_count": 20,
   "metadata": {},
   "outputs": [
    {
     "name": "stdout",
     "output_type": "stream",
     "text": [
      "l= 0.017506643868895968 + 0.0001226707298707247 - 0.00011422413590414862\n",
      "2.529924395558849\n",
      "a= 1.9013472452976266 + 0.011806248719554935 - 0.012046953743000355\n",
      "\n",
      "l= 0.012237882914209455 + 0.00016056378741224203 - 0.0001643796134057733\n",
      "1.7685239253458251\n",
      "a= 1.3885062194636257 + 0.014189585247940562 - 0.01267971938684509\n",
      "\n"
     ]
    }
   ],
   "source": [
    "import numpy as np\n",
    "import pathlib\n",
    "import pickle\n",
    "import numpy as np\n",
    "\n",
    "def get_corr_noise(BD):\n",
    "\n",
    "    path=pathlib.Path(f'/home/natalie/Desktop/atm_retrieval/{BD}/freechem_PTgrad_N400_ev0.5/params_dict.pickle')\n",
    "    with open(path,'rb') as file:\n",
    "        ret=pickle.load(file)\n",
    "\n",
    "    K2166=np.array([[[1921.318,1934.583], [1935.543,1948.213], [1949.097,1961.128]],\n",
    "                                [[1989.978,2003.709], [2004.701,2017.816], [2018.708,2031.165]],\n",
    "                                [[2063.711,2077.942], [2078.967,2092.559], [2093.479,2106.392]],\n",
    "                                [[2143.087,2157.855], [2158.914,2173.020], [2173.983,2187.386]],\n",
    "                                [[2228.786,2244.133], [2245.229,2259.888], [2260.904,2274.835]],\n",
    "                                [[2321.596,2337.568], [2338.704,2353.961], [2355.035,2369.534]],\n",
    "                                [[2422.415,2439.061], [2440.243,2456.145], [2457.275,2472.388]]])\n",
    "\n",
    "    # get mean nanometers per 2048 pixels\n",
    "    sum=0\n",
    "    for order in range(7):\n",
    "        for det in range(3):\n",
    "            sum+=K2166[order,det][1]-K2166[order,det][0]\n",
    "    mean=sum/21\n",
    "    nm_per_pix = mean/2048 # nanometers per pixel\n",
    "\n",
    "    d=3\n",
    "    l=10**(ret['log_l'])\n",
    "    l_merr=10**(ret['log_l']+ret['log_l_err'][0])\n",
    "    l_perr=10**(ret['log_l_err'][1]+ret['log_l'])\n",
    "    print('l=',l,\"+\",l_perr-l,'-',l-l_merr)\n",
    "    print(l/nm_per_pix)\n",
    "\n",
    "    a=10**(ret['log_a'])\n",
    "    a_merr=10**(ret['log_a']+ret['log_a_err'][0])\n",
    "    a_perr=10**(ret['log_a_err'][1]+ret['log_a'])\n",
    "    print('a=',a,\"+\",a_perr-a,'-',a-a_merr)\n",
    "    print('')\n",
    "\n",
    "get_corr_noise('2M0355')\n",
    "get_corr_noise('2M1425')\n"
   ]
  },
  {
   "cell_type": "code",
   "execution_count": null,
   "metadata": {},
   "outputs": [
    {
     "name": "stdout",
     "output_type": "stream",
     "text": [
      "95.49925860214358 + 6.8300406259317725 - 6.374164788769036\n",
      "109.64781961431851 + 10.578623847422804 - 9.647819614318507\n"
     ]
    }
   ],
   "source": [
    "print(10**(1.98),'+',10**(1.98+0.03)-10**1.98,'-',10**1.98-10**(1.98-0.03))\n",
    "\n",
    "\n",
    "print(10**(2.04),'+',10**(2.04+0.04)-10**2.04,'-',10**2.04-10**(2.04-0.04))\n",
    "\n",
    "\n"
   ]
  },
  {
   "cell_type": "code",
   "execution_count": 4,
   "metadata": {},
   "outputs": [
    {
     "name": "stdout",
     "output_type": "stream",
     "text": [
      "-9.296662296200228\n",
      "-6\n",
      "51067.570473816326 51047.7735839059\n",
      "19.796889910423488 6.608774600648049\n"
     ]
    },
    {
     "data": {
      "image/png": "[encoded data removed]",
      "text/plain": [
       "<Figure size 432x288 with 1 Axes>"
      ]
     },
     "metadata": {
      "needs_background": "light"
     },
     "output_type": "display_data"
    }
   ],
   "source": [
    "# try adding CH4 to 2M0355 model fit and evaluate sigma  from lnL Bm\n",
    "from pRT_model import pRT_spectrum\n",
    "import matplotlib.pyplot as plt\n",
    "\n",
    "orig_dict=retrieval.params_dict.copy()\n",
    "\n",
    "retrieval.parameters.params=retrieval.params_dict\n",
    "print(retrieval.parameters.params['log_CH4'])\n",
    "model_orig=pRT_spectrum(retrieval).make_spectrum()\n",
    "lnZ_orig=retrieval.LogLike(model_orig, retrieval.Cov)\n",
    "\n",
    "# add H2S at low level and see\n",
    "retrieval.parameters.params['log_CH4']=-6\n",
    "print(retrieval.parameters.params['log_CH4'])\n",
    "model_wH2S=pRT_spectrum(retrieval).make_spectrum()\n",
    "lnZ_wH2S=retrieval.LogLike(model_wH2S, retrieval.Cov)\n",
    "\n",
    "plt.plot(model_wH2S.flatten())\n",
    "plt.plot(model_orig.flatten())\n",
    "\n",
    "\n",
    "print(lnZ_orig,lnZ_wH2S)\n",
    "lnB, sigma = retrieval.compare_evidence(lnZ_orig,lnZ_wH2S)\n",
    "retrieval.parameters.params=orig_dict #set back\n",
    "print(lnB,sigma)"
   ]
  },
  {
   "cell_type": "code",
   "execution_count": 6,
   "metadata": {},
   "outputs": [
    {
     "name": "stdout",
     "output_type": "stream",
     "text": [
      "-8.997980828138326\n",
      "-5\n",
      "61304.159461462295 61294.40643855627\n",
      "9.753022906028491 4.798040052527595\n"
     ]
    },
    {
     "data": {
      "image/png": "[encoded data removed]",
      "text/plain": [
       "<Figure size 432x288 with 1 Axes>"
      ]
     },
     "metadata": {
      "needs_background": "light"
     },
     "output_type": "display_data"
    }
   ],
   "source": [
    "# try adding H2S to 2M1425 model fit and evaluate sigma  from lnL Bm\n",
    "from pRT_model import pRT_spectrum\n",
    "import matplotlib.pyplot as plt\n",
    "\n",
    "orig_dict=retrieval2.params_dict.copy()\n",
    "\n",
    "retrieval2.parameters.params=retrieval2.params_dict\n",
    "print(retrieval2.parameters.params['log_H2S'])\n",
    "model_orig=pRT_spectrum(retrieval2).make_spectrum()\n",
    "lnZ_orig=retrieval2.LogLike(model_orig, retrieval2.Cov)\n",
    "\n",
    "# add H2S at low level and see\n",
    "retrieval2.parameters.params['log_H2S']=-5\n",
    "print(retrieval2.parameters.params['log_H2S'])\n",
    "model_wH2S=pRT_spectrum(retrieval2).make_spectrum()\n",
    "lnZ_wH2S=retrieval2.LogLike(model_wH2S, retrieval2.Cov)\n",
    "\n",
    "plt.plot(model_wH2S.flatten())\n",
    "plt.plot(model_orig.flatten())\n",
    "\n",
    "\n",
    "print(lnZ_orig,lnZ_wH2S)\n",
    "lnB, sigma = retrieval2.compare_evidence(lnZ_orig,lnZ_wH2S)\n",
    "retrieval2.parameters.params=orig_dict #set back\n",
    "print(lnB,sigma)"
   ]
  },
  {
   "cell_type": "code",
   "execution_count": 2,
   "metadata": {},
   "outputs": [
    {
     "data": {
      "text/plain": [
       "1.667247212551061"
      ]
     },
     "execution_count": 2,
     "metadata": {},
     "output_type": "execute_result"
    }
   ],
   "source": [
    "import numpy as np\n",
    "10**(4.975)/(10**(4.753))"
   ]
  },
  {
   "cell_type": "code",
   "execution_count": 16,
   "metadata": {},
   "outputs": [
    {
     "data": {
      "text/plain": [
       "[<matplotlib.lines.Line2D at 0x7f7c6f0e3910>]"
      ]
     },
     "execution_count": 16,
     "metadata": {},
     "output_type": "execute_result"
    },
    {
     "data": {
      "image/png": "[encoded data removed]",
      "text/plain": [
       "<Figure size 432x288 with 1 Axes>"
      ]
     },
     "metadata": {
      "needs_background": "light"
     },
     "output_type": "display_data"
    }
   ],
   "source": [
    "plt.plot(model_wH2S.flatten()-model_orig.flatten())"
   ]
  },
  {
   "cell_type": "code",
   "execution_count": null,
   "metadata": {},
   "outputs": [],
   "source": [
    "import matplotlib.pyplot as plt\n",
    "from matplotlib.lines import Line2D\n",
    "import pathlib\n",
    "\n",
    "def CCFs_molecules(retrieval_object1,retrieval_object2,molecules,noiserange=100):\n",
    "\n",
    "    RVs=np.arange(-500,500,1) # km/s\n",
    "    comparison_dir=pathlib.Path(f'{retrieval_object1.output_dir}/comparison') # store output in separate folder\n",
    "    comparison_dir.mkdir(parents=True, exist_ok=True)\n",
    "\n",
    "    fig,ax=plt.subplots(len(molecules),1,figsize=(5,len(molecules)*1.5),dpi=200)\n",
    "    for i in range(len(molecules)):\n",
    "        ax[i].axvspan(-noiserange,noiserange,color='k',alpha=0.05)\n",
    "        ax[i].set_xlim(np.min(RVs),np.max(RVs))\n",
    "        ax[i].axvline(x=0,color='k',lw=0.6,alpha=0.3)\n",
    "        ax[i].axhline(y=0,color='k',lw=0.6,alpha=0.3)\n",
    "\n",
    "    for i,molecule in enumerate(molecules):\n",
    "\n",
    "        CCF_norm1=retrieval_object1.CCF_list[i]\n",
    "        ACF_norm1=retrieval_object1.ACF_list[i]\n",
    "        SNR1=CCF_norm1[np.where(RVs==0)[0][0]]\n",
    "        CCF_norm2=retrieval_object2.CCF_list[i]\n",
    "        ACF_norm2=retrieval_object2.ACF_list[i]\n",
    "        SNR2=CCF_norm2[np.where(RVs==0)[0][0]]\n",
    "\n",
    "        ax[i].plot(RVs,CCF_norm1,color=retrieval_object1.color1,label=f'{retrieval_object1.target.name}')\n",
    "        ax[i].plot(RVs,ACF_norm1,color=retrieval_object1.color1,linestyle='dashed',alpha=0.5)\n",
    "        ax[i].plot(RVs,CCF_norm2,color=retrieval_object2.color1,label=f'{retrieval_object2.target.name}')\n",
    "        ax[i].plot(RVs,ACF_norm2,color=retrieval_object2.color1,linestyle='dashed',alpha=0.5)\n",
    "        ax[i].set_ylabel('S/N')\n",
    "        molecule_label=str(retrieval_object1.parameters.param_mathtext[f'log_{molecule}'][4:]) # remove log_\n",
    "        ax[i].text(0.05, 0.9, molecule_label,transform=ax[i].transAxes,fontsize=14,verticalalignment='top')\n",
    "\n",
    "    lines = [Line2D([0], [0], color=retrieval_object1.color1,linewidth=2,label=f'{retrieval_object1.target.name}'),\n",
    "                 Line2D([0], [0], color=retrieval_object2.color1,linewidth=2,label=f'{retrieval_object2.target.name}'),\n",
    "                 Line2D([0], [0], color='k',linewidth=2,alpha=0.5,label='CCF'),\n",
    "                 Line2D([0], [0], color='k',linestyle='--',linewidth=2,alpha=0.2,label='ACF')]\n",
    "    ax[0].legend(handles=lines,fontsize=9,loc='upper right')\n",
    "    ax[len(molecules)-1].set_xlabel(r'$v_{\\rm rad}$ (km/s)')\n",
    "    fig.tight_layout()\n",
    "    plt.subplots_adjust(wspace=0, hspace=0)\n",
    "    filename=f'CCFs_{len(molecules)}.pdf'\n",
    "    fig.savefig(f'{comparison_dir}/{filename}',bbox_inches=\"tight\",dpi=200)\n",
    "    plt.close()\n",
    "\n",
    "CCFs_molecules(retrieval,retrieval2,['13CO','HF'])"
   ]
  },
  {
   "cell_type": "markdown",
   "metadata": {},
   "source": [
    "# Clouds"
   ]
  },
  {
   "cell_type": "code",
   "execution_count": null,
   "metadata": {},
   "outputs": [
    {
     "name": "stdout",
     "output_type": "stream",
     "text": [
      "[[1.e-07 1.e+01 1.e+01 1.e+01 1.e+01]\n",
      " [1.e-07 1.e+01 1.e+01 1.e+01 1.e+01]]\n",
      "[1.e-06 1.e-04 1.e-02 1.e+00 1.e+02]\n"
     ]
    }
   ],
   "source": [
    "# shouldn't opacity below cloud be high, to block all emission from deeper layers?\n",
    "# if it's zero, there is effectively no cloud\n",
    "\n",
    "import numpy as np\n",
    "\n",
    "params={'log_P_base_gray':-4,'log_opa_base_gray':1,'fsed_gray':4}\n",
    "wave_micron=np.linspace(1,3,2)\n",
    "pressure = np.logspace(-6,2,5)\n",
    "opa_gray_cloud = np.zeros((len(wave_micron),len(pressure))) # gray cloud = independent of wavelength\n",
    "opa_gray_cloud[:,pressure>10**(params['log_P_base_gray'])] = 10**(params['log_opa_base_gray']) # [bar] constant below cloud base\n",
    "# Opacity decreases with power-law above the base\n",
    "above_clouds = (pressure<=10**(params['log_P_base_gray']))\n",
    "opa_gray_cloud[:,above_clouds]=(10**(params['log_opa_base_gray']))*(pressure[above_clouds]/10**(params['log_P_base_gray']))**params['fsed_gray']\n",
    "\n",
    "print(opa_gray_cloud)\n",
    "print(pressure)"
   ]
  },
  {
   "cell_type": "markdown",
   "metadata": {},
   "source": [
    "# Table for paper"
   ]
  },
  {
   "cell_type": "code",
   "execution_count": 1,
   "metadata": {},
   "outputs": [],
   "source": [
    "import pathlib\n",
    "import pickle\n",
    "import numpy as np\n",
    "\n",
    "path=pathlib.Path('/home/natalie/Desktop/atm_retrieval/2M0355/freechem_PTgrad_N400_ev0.5/params_dict.pickle')\n",
    "with open(path,'rb') as file:\n",
    "    final_params=pickle.load(file)\n",
    "\n",
    "path=pathlib.Path('/home/natalie/Desktop/atm_retrieval/2M1425/freechem_PTgrad_N400_ev0.5/params_dict.pickle')\n",
    "with open(path,'rb') as file:\n",
    "    final_params2=pickle.load(file)"
   ]
  },
  {
   "cell_type": "code",
   "execution_count": 3,
   "metadata": {},
   "outputs": [
    {
     "name": "stdout",
     "output_type": "stream",
     "text": [
      "C/O & 0.65 $^{+ 0.01 }_{ -0.01 }$ & 0.66 $^{+ 0.0 }_{ -0.0 }$ \\\\\n",
      "$[$C/H$]$ & 0.58 $^{+ 0.03 }_{ -0.03 }$ & 0.4 $^{+ 0.01 }_{ -0.01 }$ \\\\\n",
      "log $^{12}$CO/$^{13}$CO & 1.98 $^{+ 0.03 }_{ -0.03 }$ & 2.04 $^{+ 0.04 }_{ -0.04 }$ \\\\\n",
      "log $^{12}$CO/C$^{17}$O & 6.29 $^{+ 1.5 }_{ -1.42 }$ & 5.52 $^{+ 1.39 }_{ -1.17 }$ \\\\\n",
      "log $^{12}$CO/C$^{18}$O & 5.22 $^{+ 1.9 }_{ -1.6 }$ & 6.31 $^{+ 1.31 }_{ -1.4 }$ \\\\\n",
      "log H$_2$O/H$_2^{18}$O & 4.31 $^{+ 3.11 }_{ -1.49 }$ & 2.71 $^{+ 3.05 }_{ -0.2 }$ \\\\\n"
     ]
    }
   ],
   "source": [
    "dec=2\n",
    "table=[\"C/O &\",\"$[$C/H$]$ &\",\"log $^{12}$CO/$^{13}$CO &\",\"log $^{12}$CO/C$^{17}$O &\",\n",
    "       \"log $^{12}$CO/C$^{18}$O &\",\"log H$_2$O/H$_2^{18}$O &\"]\n",
    "ratios=[\"C/O\",\"C/H\",'log_12CO/13CO','log_12CO/C17O','log_12CO/C18O','log_H2O/H2(18)O']\n",
    "\n",
    "for i,r in enumerate(ratios):\n",
    "      print(table[i],np.round(final_params[r][0],decimals=dec),\n",
    "              \"$^{+\",np.round(final_params[f'{r}_err'][1][0],decimals=dec),\"}_{\",\n",
    "              np.round(final_params[f'{r}_err'][0][0],decimals=dec),\"}$ &\",\n",
    "              np.round(final_params2[r][0],decimals=dec),\n",
    "              \"$^{+\",np.round(final_params2[f'{r}_err'][1][0],decimals=dec),\"}_{\",\n",
    "              np.round(final_params2[f'{r}_err'][0][0],decimals=dec),\"}$ \\\\\\\\\")"
   ]
  },
  {
   "cell_type": "code",
   "execution_count": 4,
   "metadata": {},
   "outputs": [
    {
     "name": "stdout",
     "output_type": "stream",
     "text": [
      "$^{13}$CO & 12.4 & 13.4 & 3.5 & 8.0 \\\\\n",
      "HF & 16.9 & 11.6 & 5.5 & 15.8 \\\\\n",
      "H$_2$S & 6.2 & 4.6 & -0.5 & 9.3 \\\\\n",
      "H$_2^{18}$O & 2.6 & 1.1 & 1.5 & 3.0 \\\\\n",
      "CH$_4$ & -0.7 & 2.2 & 4.9 & 5.5 \\\\\n"
     ]
    }
   ],
   "source": [
    "import pathlib\n",
    "import pickle\n",
    "import numpy as np\n",
    "\n",
    "path=pathlib.Path('/home/natalie/Desktop/atm_retrieval/2M0355/freechem_PTgrad_N400_ev0.5/evidence_dict.pickle')\n",
    "with open(path,'rb') as file:\n",
    "    evidence=pickle.load(file)\n",
    "\n",
    "path=pathlib.Path('/home/natalie/Desktop/atm_retrieval/2M1425/freechem_PTgrad_N400_ev0.5/evidence_dict.pickle')\n",
    "with open(path,'rb') as file:\n",
    "    evidence2=pickle.load(file)\n",
    "\n",
    "dec=1\n",
    "table=[\"$^{13}$CO\",'HF','H$_2$S','H$_2^{18}$O','CH$_4$']\n",
    "molec=['13CO','HF','H2S','H2(18)O', 'CH4']\n",
    "\n",
    "for i,m in enumerate(molec):\n",
    "      print(table[i],'&',\n",
    "            np.round(final_params[f'SNR_{m}'],decimals=dec),\"&\",\n",
    "            np.round(evidence[f'sigma_{m}'],decimals=dec),\"&\",\n",
    "            np.round(final_params2[f'SNR_{m}'],decimals=dec),\"&\",\n",
    "            np.round(evidence2[f'sigma_{m}'],decimals=dec),\"\\\\\\\\\")"
   ]
  },
  {
   "cell_type": "code",
   "execution_count": 4,
   "metadata": {},
   "outputs": [
    {
     "name": "stdout",
     "output_type": "stream",
     "text": [
      "$v_{\\text{rad}}$ [km/s] & Radial velocity & $\\mathcal{U}$(2,20) & 13.251 $^{+ 0.009 }_{ -0.009 }$ & 5.538 $^{+ 0.045 }_{ -0.046 }$ \\\\\n",
      "$v\\text{sin}i$ [km/s] & Projected rotational velocity & $\\mathcal{U}$(0,40) & 3.043 $^{+ 0.081 }_{ -0.081 }$ & 31.575 $^{+ 0.186 }_{ -0.232 }$ \\\\\n",
      "log $g$ [cm/s$^2$] & Surface gravity & $\\mathcal{U}$(3,5) & 4.753 $^{+ 0.034 }_{ -0.034 }$ & 4.975 $^{+ 0.01 }_{ -0.011 }$ \\\\\n",
      "$\\epsilon_\\mathrm{limb}$ & Limb-darkening coefficient & $\\mathcal{U}$(0.2,1) & 0.721 $^{+ 0.141 }_{ -0.155 }$ & 0.741 $^{+ 0.036 }_{ -0.048 }$ \\\\\n",
      "\\hline\n",
      "log H$_2$O & log$_{10}$ VMR of H$_2$O & $\\mathcal{U}$(-12,-1) &  -2.999 $^{+ 0.026 }_{ -0.031 }$ & -3.197 $^{+ 0.008 }_{ -0.01 }$ \\\\\n",
      "log $^{12}$CO & log$_{10}$ VMR of $^{12}$CO & $\\mathcal{U}$(-12,-1) & -2.735 $^{+ 0.026 }_{ -0.035 }$ & -2.92 $^{+ 0.01 }_{ -0.013 }$ \\\\\n",
      "log $^{13}$CO & log$_{10}$ VMR of $^{13}$CO & $\\mathcal{U}$(-12,-1) &  -4.717 $^{+ 0.04 }_{ -0.044 }$ & -4.958 $^{+ 0.037 }_{ -0.039 }$ \\\\\n",
      "log C$^{18}$O & log$_{10}$ VMR of C$^{18}$O & $\\mathcal{U}$(-12,-1) & -7.959 $^{+ 1.599 }_{ -1.903 }$ & -9.224 $^{+ 1.381 }_{ -1.314 }$ \\\\\n",
      "log C$^{17}$O & log$_{10}$ VMR of C$^{17}$O & $\\mathcal{U}$(-12,-1) & -9.037 $^{+ 1.415 }_{ -1.491 }$ & -8.445 $^{+ 1.178 }_{ -1.396 }$ \\\\\n",
      "log CH$_4$ & log$_{10}$ VMR of CH$_4$ & $\\mathcal{U}$(-12,-1) & -9.297 $^{+ 1.111 }_{ -1.189 }$ & -5.345 $^{+ 0.05 }_{ -0.078 }$ \\\\\n",
      "log NH$_3$ & log$_{10}$ VMR of NH$_3$ & $\\mathcal{U}$(-12,-1) &  -8.97 $^{+ 1.128 }_{ -1.27 }$ & -6.493 $^{+ 0.254 }_{ -0.563 }$ \\\\\n",
      "log HCN & log$_{10}$ VMR of HCN & $\\mathcal{U}$(-12,-1) & -8.764 $^{+ 1.803 }_{ -1.483 }$ & -8.222 $^{+ 1.197 }_{ -1.188 }$ \\\\\n",
      "log HF & log$_{10}$ VMR of HF & $\\mathcal{U}$(-12,-1) &  -6.956 $^{+ 0.061 }_{ -0.061 }$ & -7.086 $^{+ 0.037 }_{ -0.039 }$ \\\\\n",
      "log H$_2$S & log$_{10}$ VMR of H$_2$S & $\\mathcal{U}$(-12,-1) &  -4.151 $^{+ 0.063 }_{ -0.075 }$ & -8.998 $^{+ 1.301 }_{ -1.269 }$ \\\\\n",
      "log H$_2^{18}$O & log$_{10}$ VMR of H$_2^{18}$O & $\\mathcal{U}$(-12,-1) & -7.303 $^{+ 1.466 }_{ -3.1 }$ & -5.902 $^{+ 0.2 }_{ -3.06 }$ \\\\\n",
      "\\hline\n",
      "$T_0$ [K] & Temperature at $P_0=10^2\\,$bar& $\\mathcal{U}$(1000,4000) & 2398.49 $^{+ 112.472 }_{ -93.197 }$ & 3833.867 $^{+ 62.89 }_{ -59.623 }$ \\\\\n",
      " $\\nabla T_0$ & Temperature gradient at $P_0=10^2\\,$bar& $\\mathcal{U}$(0,0.4) & 0.186 $^{+ 0.091 }_{ -0.095 }$ & 0.282 $^{+ 0.06 }_{ -0.069 }$ \\\\\n",
      "$\\nabla T_1$ & Temperature gradient at $P_1=10^0\\,$bar& $\\mathcal{U}$(0,0.4) & 0.243 $^{+ 0.019 }_{ -0.02 }$ & 0.263 $^{+ 0.052 }_{ -0.05 }$ \\\\\n",
      "$\\nabla T_2$ & Temperature gradient at $P_2=10^0\\,$bar& $\\mathcal{U}$(0,0.4) & 0.042 $^{+ 0.002 }_{ -0.002 }$ & 0.046 $^{+ 0.006 }_{ -0.005 }$ \\\\\n",
      "$\\nabla T_3$ & Temperature gradient at $P_3=10^0\\,$bar& $\\mathcal{U}$(0,0.4) & 0.045 $^{+ 0.001 }_{ -0.001 }$ & 0.084 $^{+ 0.001 }_{ -0.001 }$ \\\\\n",
      "$\\nabla T_4$ & Temperature gradient at $P_4=10^0\\,$bar& $\\mathcal{U}$(0,0.4) & 0.152 $^{+ 0.025 }_{ -0.023 }$ & 0.289 $^{+ 0.011 }_{ -0.011 }$ \\\\\n",
      "\\hline\n",
      "log $\\kappa_{\\mathrm{cl},0}$ [cm$^2$/g] & Opacity at cloud base & $\\mathcal{U}$(-10,3) &  -5.789 $^{+ 2.245 }_{ -2.091 }$ & -4.166 $^{+ 1.834 }_{ -1.818 }$ \\\\\n",
      "log $P_{\\mathrm{cl},0}$ [bar] & Cloud base pressure & $\\mathcal{U}$(-6,3) & -2.29 $^{+ 2.07 }_{ -1.888 }$ & -1.453 $^{+ 2.524 }_{ -2.32 }$ \\\\\n",
      "$f_\\mathrm{sed}$ & Cloud decay power & $\\mathcal{U}$(0,20) & 11.346 $^{+ 3.926 }_{ -4.148 }$ & 8.301 $^{+ 4.602 }_{ -4.076 }$ \\\\\n",
      "\\hline\n",
      "log $a$ & GP amplitude & $\\mathcal{U}$(-1,1) & 0.279 $^{+ 0.003 }_{ -0.003 }$ & 0.143 $^{+ 0.004 }_{ -0.004 }$ \\\\\n",
      "log $l$ [nm] & GP length-scale & $\\mathcal{U}$(-3,0) & -1.757 $^{+ 0.003 }_{ -0.003 }$ & -1.912 $^{+ 0.006 }_{ -0.006 }$ \\\\\n"
     ]
    }
   ],
   "source": [
    "dec=3\n",
    "\n",
    "table=[\"$v_{\\\\text{rad}}$ [km/s] & Radial velocity & $\\mathcal{U}$(2,20) &\",\n",
    "       \"$v\\\\text{sin}i$ [km/s] & Projected rotational velocity & $\\mathcal{U}$(0,40) &\",\n",
    "       \"log $g$ [cm/s$^2$] & Surface gravity & $\\mathcal{U}$(3,5) &\",\n",
    "       \"$\\epsilon_\\mathrm{limb}$ & Limb-darkening coefficient & $\\mathcal{U}$(0.2,1) &\",\n",
    "       \"\",\n",
    "       \"log H$_2$O & log$_{10}$ VMR of H$_2$O & $\\mathcal{U}$(-12,-1) & \",\n",
    "       \"log $^{12}$CO & log$_{10}$ VMR of $^{12}$CO & $\\mathcal{U}$(-12,-1) &\",\n",
    "       \"log $^{13}$CO & log$_{10}$ VMR of $^{13}$CO & $\\mathcal{U}$(-12,-1) & \",\n",
    "       \"log C$^{18}$O & log$_{10}$ VMR of C$^{18}$O & $\\mathcal{U}$(-12,-1) &\",\n",
    "       \"log C$^{17}$O & log$_{10}$ VMR of C$^{17}$O & $\\mathcal{U}$(-12,-1) &\",\n",
    "       \"log CH$_4$ & log$_{10}$ VMR of CH$_4$ & $\\mathcal{U}$(-12,-1) &\",\n",
    "       \"log NH$_3$ & log$_{10}$ VMR of NH$_3$ & $\\mathcal{U}$(-12,-1) & \",\n",
    "       \"log HCN & log$_{10}$ VMR of HCN & $\\mathcal{U}$(-12,-1) &\",\n",
    "       \"log HF & log$_{10}$ VMR of HF & $\\mathcal{U}$(-12,-1) & \",\n",
    "       \"log H$_2$S & log$_{10}$ VMR of H$_2$S & $\\mathcal{U}$(-12,-1) & \",\n",
    "       \"log H$_2^{18}$O & log$_{10}$ VMR of H$_2^{18}$O & $\\mathcal{U}$(-12,-1) &\",\n",
    "      \"\",\n",
    "      \"$T_0$ [K] & Temperature at $P_0=10^2\\,$bar& $\\mathcal{U}$(1000,4000) &\",\n",
    "      \" $\\\\nabla T_0$ & Temperature gradient at $P_0=10^2\\,$bar& $\\mathcal{U}$(0,0.4) &\",\n",
    "      \"$\\\\nabla T_1$ & Temperature gradient at $P_1=10^0\\,$bar& $\\mathcal{U}$(0,0.4) &\",\n",
    "      \"$\\\\nabla T_2$ & Temperature gradient at $P_2=10^0\\,$bar& $\\mathcal{U}$(0,0.4) &\",\n",
    "      \"$\\\\nabla T_3$ & Temperature gradient at $P_3=10^0\\,$bar& $\\mathcal{U}$(0,0.4) &\",\n",
    "      \"$\\\\nabla T_4$ & Temperature gradient at $P_4=10^0\\,$bar& $\\mathcal{U}$(0,0.4) &\",\n",
    "      \"\",\n",
    "      \"log $\\kappa_{\\mathrm{cl},0}$ [cm$^2$/g] & Opacity at cloud base & $\\mathcal{U}$(-10,3) & \",\n",
    "      \"log $P_{\\mathrm{cl},0}$ [bar] & Cloud base pressure & $\\mathcal{U}$(-6,3) &\",\n",
    "      \"$f_\\mathrm{sed}$ & Cloud decay power & $\\mathcal{U}$(0,20) &\",\n",
    "      \"\",\n",
    "      \"log $a$ & GP amplitude & $\\mathcal{U}$(-1,1) &\",\n",
    "      \"log $l$ [nm] & GP length-scale & $\\mathcal{U}$(-3,0) &\"]\n",
    "table_vals=['rv','vsini','log_g','epsilon_limb',\"\",'log_H2O',\"log_12CO\",\"log_13CO\",\n",
    "            \"log_C18O\",\"log_C17O\",\"log_CH4\",\"log_NH3\",\"log_HCN\",\"log_HF\",\"log_H2S\",\n",
    "            \"log_H2(18)O\",\"\",'T0','dlnT_dlnP_0','dlnT_dlnP_1','dlnT_dlnP_2',\n",
    "            'dlnT_dlnP_3','dlnT_dlnP_4',\"\",\"log_opa_base_gray\",\"log_P_base_gray\",\n",
    "            \"fsed_gray\",\"\",\"log_a\",\"log_l\"]\n",
    "\n",
    "if True:\n",
    "      for i,tpar in enumerate(table_vals):\n",
    "            if tpar==\"\":\n",
    "                  print(\"\\hline\")\n",
    "            else:\n",
    "                  print(table[i],np.round(final_params[tpar],decimals=dec),\n",
    "                        \"$^{+\",np.round(final_params[f'{tpar}_err'][1],decimals=dec),\"}_{\",\n",
    "                        np.round(final_params[f'{tpar}_err'][0],decimals=dec),\"}$ &\",\n",
    "                        np.round(final_params2[tpar],decimals=dec),\n",
    "                        \"$^{+\",np.round(final_params2[f'{tpar}_err'][1],decimals=dec),\"}_{\",\n",
    "                        np.round(final_params2[f'{tpar}_err'][0],decimals=dec),\"}$ \\\\\\\\\")"
   ]
  },
  {
   "cell_type": "markdown",
   "metadata": {},
   "source": [
    "# Make plots for presentation"
   ]
  },
  {
   "cell_type": "code",
   "execution_count": null,
   "metadata": {},
   "outputs": [],
   "source": [
    "import getpass\n",
    "import os\n",
    "import numpy as np\n",
    "import matplotlib.pyplot as plt\n",
    "os.environ['OMP_NUM_THREADS'] = '1' # to avoid using too many CPUs\n",
    "\n",
    "if getpass.getuser() == \"grasser\": # when runnig from LEM\n",
    "    os.environ['pRT_input_data_path'] =\"/net/lem/data2/pRT_input_data\"\n",
    "    os.environ['OMP_NUM_THREADS'] = '1' # important for MPI\n",
    "    from mpi4py import MPI \n",
    "    comm = MPI.COMM_WORLD # important for MPI\n",
    "    rank = comm.Get_rank() # important for MPI\n",
    "    from atm_retrieval.target import Target\n",
    "    from atm_retrieval.likelihood import Retrieval\n",
    "    from atm_retrieval.parameters import Parameters\n",
    "    import matplotlib\n",
    "    matplotlib.use('Agg') # disable interactive plotting\n",
    "elif getpass.getuser() == \"natalie\": # when testing from my laptop\n",
    "    os.environ['pRT_input_data_path'] = \"/home/natalie/.local/lib/python3.8/site-packages/petitRADTRANS/input_data_std/input_data\"\n",
    "    from target import Target\n",
    "    from likelihood import Retrieval\n",
    "    from parameters import Parameters\n",
    "    from pRT_model import pRT_spectrum\n",
    "\n",
    "\n",
    "M0355 = Target('2M0355')\n",
    "data_wave,data_flux,data_err=M0355.load_spectrum()\n",
    "\n",
    "constant_params = {'vsini': 2, # rotational velocity\n",
    "                'rv': 11.92,\n",
    "                'log_Kzz': 7.5, # eddy diffusion parameter (atmospheric mixing)\n",
    "                'fsed': 2, # sedimentation parameter for particles\n",
    "                'P_base_gray': 1, # pressure of gray cloud deck\n",
    "                'fsed_gray': 2,\n",
    "                'opa_base_gray': 0.8, # opacity of gray cloud deck\n",
    "                'sigma_lnorm': 1.05, # width of the log-normal particle distribution of MgSiO3\n",
    "                'log_MgSiO3' : 0, # scaling wrt chem equilibrium, 0 = equilibrium abundance \n",
    "                'log_H2O': -2.9,#-2.9,\n",
    "                'log_12CO': -2.67,#-2.66,\n",
    "                'log_13CO':-4.9,\n",
    "                'log_C18O':-12, #-8.3,\n",
    "                'log_C17O':-12,  #-8.7,\n",
    "                'log_CH4':-12, #-8.6,\n",
    "                'log_NH3':-12, #-8.9,\n",
    "                'log_HCN':-12, #-8,\n",
    "                'T1' : 2500, # bottom of the atmosphere (hotter)\n",
    "                'T2' : 1500,\n",
    "                'T3' : 1270,\n",
    "                'T4' : 313, # top of atmosphere (cooler)\n",
    "                'log_g':4.95,\n",
    "                } \n",
    "\n",
    "free_params = {}\n",
    "parameters = Parameters(free_params,constant_params)\n",
    "params=parameters.params\n",
    "\n",
    "\n",
    "output='2M0355_test4'\n",
    "retrieval=Retrieval(target=M0355,parameters=parameters,output_name=output)\n",
    "atmosphere_objects=retrieval.atmosphere_objects\n",
    "\n",
    "species=retrieval.get_species(param_dict=parameters.params)\n",
    "model_flux=pRT_spectrum(parameters=params,data_wave=data_wave,target=M0355,\n",
    "                        atmosphere_objects=atmosphere_objects,species=species,\n",
    "                        free_chem=True).make_spectrum()\n"
   ]
  },
  {
   "cell_type": "code",
   "execution_count": null,
   "metadata": {},
   "outputs": [],
   "source": [
    "params_H2O=params.copy()\n",
    "params_H2O['log_12CO']=-12\n",
    "params_H2O['log_13CO']=-12\n",
    "H2O_flux=pRT_spectrum(parameters=params_H2O,data_wave=data_wave,target=M0355,\n",
    "                        atmosphere_objects=atmosphere_objects,species=species,\n",
    "                        free_chem=True).make_spectrum()\n",
    "\n",
    "params_CO=params.copy()\n",
    "params_CO['log_H2O']=-12\n",
    "params_CO['log_13CO']=-12\n",
    "CO_flux=pRT_spectrum(parameters=params_CO,data_wave=data_wave,target=M0355,\n",
    "                        atmosphere_objects=atmosphere_objects,species=species,\n",
    "                        free_chem=True).make_spectrum()"
   ]
  },
  {
   "cell_type": "code",
   "execution_count": null,
   "metadata": {},
   "outputs": [],
   "source": [
    "fig,ax=plt.subplots(2,1,figsize=(7,3),dpi=200,sharex=True)\n",
    "order=5\n",
    "det=0\n",
    "for i in range(2):\n",
    "    ax[i].plot(data_wave[order,det],data_flux[order,det],lw=1,alpha=0.8,c='k',label='data')\n",
    "    ax[i].set_xlim(np.nanmin(data_wave[order,det]),np.nanmax(data_wave[order,det]))\n",
    "    ax[i].yaxis.set_visible(False) # remove ylabels because anyway unitless\n",
    "\n",
    "ax[0].plot(data_wave[order,det],model_flux[order,det],lw=1,alpha=0.8,c='c',label='model')\n",
    "ax[1].plot(data_wave[order,det],H2O_flux[order,det],lw=1,alpha=0.8,c='tab:blue',label='H$_2$O')\n",
    "ax[1].plot(data_wave[order,det],CO_flux[order,det],lw=1,alpha=0.8,c='tab:orange',label='CO')\n",
    "\n",
    "ax[0].legend(fontsize=8)\n",
    "ax[1].legend(fontsize=8)\n",
    "ax[1].set_xlabel('Wavelength [nm]')\n",
    "fig.tight_layout(h_pad=-0.1)\n",
    "fig.savefig('/home/natalie/Desktop/PhD/SupJup/plots/spectrum.jpg')"
   ]
  },
  {
   "cell_type": "code",
   "execution_count": null,
   "metadata": {},
   "outputs": [],
   "source": [
    "fig,ax=plt.subplots(1,1,figsize=(7,2),dpi=200,sharex=True)\n",
    "order=5\n",
    "det=0\n",
    "#ax.plot(data_wave[order,det],data_flux[order,det],lw=1,alpha=0.8,c='k',label='data')\n",
    "ax.set_xlim(np.nanmin(data_wave[order,det]),np.nanmax(data_wave[order,det]))\n",
    "ax.plot(data_wave[order,det],model_flux[order,det],lw=1,alpha=0.8,c='c',label='model')\n",
    "#ax.legend(fontsize=8)\n",
    "ax.yaxis.set_visible(False) # remove ylabels because anyway unitless\n",
    "ax.set_xlabel('Wavelength [nm]')\n",
    "fig.tight_layout()\n",
    "fig.savefig('/home/natalie/Desktop/PhD/SupJup/plots/model.jpg')"
   ]
  },
  {
   "cell_type": "code",
   "execution_count": null,
   "metadata": {},
   "outputs": [],
   "source": [
    "params_bad=params.copy()\n",
    "params_bad['log_H2O']=-3.5\n",
    "params_bad['log_CO']=-2\n",
    "params_bad['vsini']=7\n",
    "params_bad['T1']=1700\n",
    "bad_flux=pRT_spectrum(parameters=params_bad,data_wave=data_wave,target=M0355,\n",
    "                        atmosphere_objects=atmosphere_objects,species=species,\n",
    "                        free_chem=True).make_spectrum()\n",
    "fig,ax=plt.subplots(1,1,figsize=(7,2),dpi=200,sharex=True)\n",
    "order=5\n",
    "det=0\n",
    "#ax.plot(data_wave[order,det],data_flux[order,det],lw=1,alpha=0.8,c='k',label='data')\n",
    "ax.set_xlim(np.nanmin(data_wave[order,det]),np.nanmax(data_wave[order,det]))\n",
    "ax.plot(data_wave[order,det],bad_flux[order,det],lw=1,alpha=1,c='c',label='model')\n",
    "#ax.legend(fontsize=8)\n",
    "ax.yaxis.set_visible(False) # remove ylabels because anyway unitless\n",
    "ax.set_xlabel('Wavelength [nm]')\n",
    "fig.tight_layout()\n",
    "fig.savefig('/home/natalie/Desktop/PhD/SupJup/plots/bad_model1.jpg')"
   ]
  }
 ],
 "metadata": {
  "kernelspec": {
   "display_name": "Python 3",
   "language": "python",
   "name": "python3"
  },
  "language_info": {
   "codemirror_mode": {
    "name": "ipython",
    "version": 3
   },
   "file_extension": ".py",
   "mimetype": "text/x-python",
   "name": "python",
   "nbconvert_exporter": "python",
   "pygments_lexer": "ipython3",
   "version": "3.8.10"
  }
 },
 "nbformat": 4,
 "nbformat_minor": 2
}
