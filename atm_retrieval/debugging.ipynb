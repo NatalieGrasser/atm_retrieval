{
 "cells": [
  {
   "cell_type": "code",
   "execution_count": 11,
   "metadata": {},
   "outputs": [],
   "source": [
    "import numpy as np\n",
    "import os\n",
    "os.environ['pRT_input_data_path'] = \"/home/natalie/.local/lib/python3.8/site-packages/petitRADTRANS/input_data_std/input_data\"\n",
    "from target import Target\n",
    "from retrieval import Retrieval\n",
    "from parameters import Parameters\n",
    "import figures as figs\n",
    "\n",
    "def init_retrieval(brown_dwarf='2M0355',PT_type='PTgrad',chem='freechem',\n",
    "                   Nlive=400,tol=0.5,cloud_mode='gray',GP=True):\n",
    "\n",
    "    brown_dwarf = Target(brown_dwarf)\n",
    "    output=f'{chem}_{PT_type}_N{Nlive}_ev{tol}' # output folder name\n",
    "\n",
    "    constant_params={} # add if needed\n",
    "    free_params = {'rv': ([2,20],r'$v_{\\rm rad}$'),\n",
    "                'vsini': ([0,40],r'$v$ sin$i$'),\n",
    "                'log_g':([3,5],r'log $g$'),\n",
    "                'epsilon_limb': [(0.2,1), r'$\\epsilon_\\mathrm{limb}$']} # limb-darkening coefficient (0-1)\n",
    "\n",
    "    if PT_type=='PTknot':\n",
    "        pt_params={'T0' : ([1000,4000], r'$T_0$'), # bottom of the atmosphere (hotter)\n",
    "                'T1' : ([0,4000], r'$T_1$'),\n",
    "                'T2' : ([0,4000], r'$T_2$'),\n",
    "                'T3' : ([0,4000], r'$T_3$'),\n",
    "                'T4' : ([0,4000], r'$T_4$'),} # top of atmosphere (cooler)\n",
    "        free_params.update(pt_params)\n",
    "\n",
    "    if PT_type=='PTgrad':\n",
    "        pt_params={'dlnT_dlnP_0': ([0.,0.4], r'$\\nabla T_0$'), # gradient at T0 \n",
    "                'dlnT_dlnP_1': ([0.,0.4], r'$\\nabla T_1$'), \n",
    "                'dlnT_dlnP_2': ([0.,0.4], r'$\\nabla T_2$'), \n",
    "                'dlnT_dlnP_3': ([0.,0.4], r'$\\nabla T_3$'), \n",
    "                'dlnT_dlnP_4': ([0.,0.4], r'$\\nabla T_4$'), \n",
    "                'T0': ([1000,4000], r'$T_0$')} # at bottom of atmosphere\n",
    "        free_params.update(pt_params)\n",
    "\n",
    "    # if equilibrium chemistry, define [Fe/H], C/O, and isotopologue ratios\n",
    "    if chem=='equchem':\n",
    "        chemistry={'C/O':([0,1], r'C/O'), \n",
    "                'Fe/H': ([-1.5,1.5], r'[Fe/H]'), \n",
    "                'log_C12_13_ratio': ([1,12], r'log $\\mathrm{^{12}C/^{13}C}$'), \n",
    "                'log_O16_18_ratio': ([1,12], r'log $\\mathrm{^{16}O/^{18}O}$'), \n",
    "                'log_O16_17_ratio': ([1,12], r'log $\\mathrm{^{16}O/^{17}O}$')}\n",
    "            \n",
    "    if chem=='quequchem': # quenched equilibrium chemistry\n",
    "        chemistry={'C/O':([0,1], r'C/O'), \n",
    "                'Fe/H': ([-1.5,1.5], r'[Fe/H]'), \n",
    "                'log_C12_13_ratio': ([1,12], r'log $\\mathrm{^{12}C/^{13}C}$'), \n",
    "                'log_O16_18_ratio': ([1,12], r'log $\\mathrm{^{16}O/^{18}O}$'), \n",
    "                'log_O16_17_ratio': ([1,12], r'log $\\mathrm{^{16}O/^{17}O}$'),\n",
    "                'log_Pqu_CO_CH4': ([-6,2], r'log P$_{qu}$(CO,CH$_4$,H$_2$O)'),\n",
    "                'log_Pqu_NH3': ([-6,2], r'log P$_{qu}$(NH$_3$)'),\n",
    "                'log_Pqu_HCN': ([-6,2], r'log P$_{qu}$(HCN)')}  \n",
    "        \n",
    "    # if free chemistry, define VMRs\n",
    "    if chem=='freechem': \n",
    "        chemistry={'log_H2O':([-12,-1],r'log H$_2$O'),\n",
    "                'log_12CO':([-12,-1],r'log $^{12}$CO'),\n",
    "                'log_13CO':([-12,-1],r'log $^{13}$CO'),\n",
    "                'log_C18O':([-12,-1],r'log C$^{18}$O'),\n",
    "                'log_C17O':([-12,-1],r'log C$^{17}$O'),\n",
    "                'log_CH4':([-12,-1],r'log CH$_4$'),\n",
    "                'log_NH3':([-12,-1],r'log NH$_3$'),\n",
    "                'log_HCN':([-12,-1],r'log HCN'),\n",
    "                'log_HF':([-12,-1],r'log HF'),\n",
    "                'log_H2(18)O':([-12,-1],r'log H$_2^{18}$O'),\n",
    "                'log_H2S':([-12,-1],r'log H$_2$S')}\n",
    "        \n",
    "    if cloud_mode=='gray':\n",
    "        cloud_props={'log_opa_base_gray': ([-10,3], r'log $\\kappa_{\\mathrm{cl},0}$'),  \n",
    "                    'log_P_base_gray': ([-6,3], r'log $P_{\\mathrm{cl},0}$'), # pressure of gray cloud deck\n",
    "                    'fsed_gray': ([0,20], r'$f_\\mathrm{sed}$')} # sedimentation parameter for particles\n",
    "        free_params.update(cloud_props)\n",
    "\n",
    "    if cloud_mode=='MgSiO3':\n",
    "        cloud_props={'fsed': ([0,20], r'$f_\\mathrm{sed}$'), # sedimentation parameter for particles\n",
    "                    'sigma_lnorm': ([0.8,1.5], r'$\\sigma_{l,norm}$'), # width of the log-normal particle distribution\n",
    "                    'log_Kzz':([5,15],r'log $K_{zz}$')} # eddy diffusion parameter (atmospheric mixing)\n",
    "        free_params.update(cloud_props)\n",
    "        \n",
    "    if GP==True: # add uncertainty scaling\n",
    "        GP_params={'log_a': ([-1,1], r'$\\log\\ a$'), # one is enough, will be multipled with order/det error\n",
    "                'log_l': ([-3,0], r'$\\log\\ l$')}\n",
    "        free_params.update(GP_params)\n",
    "\n",
    "    free_params.update(chemistry)\n",
    "    parameters = Parameters(free_params, constant_params)\n",
    "    cube = np.random.rand(parameters.n_params)\n",
    "    parameters(cube)\n",
    "\n",
    "    retrieval=Retrieval(target=brown_dwarf,parameters=parameters,\n",
    "                    output_name=output,chemistry=chem,PT_type=PT_type)\n",
    "    return retrieval\n",
    "\n",
    "#retrieval=init_retrieval(brown_dwarf='2M0355',PT_type='PTgrad',chem='freechem',Nlive=400,tol=0.5)\n",
    "#retrieval.evaluate(makefigs=False)\n",
    "\n",
    "#retrieval2=init_retrieval(brown_dwarf='2M1425',PT_type='PTgrad',chem='freechem',Nlive=400,tol=0.5)\n",
    "#retrieval2.evaluate(makefigs=False)\n"
   ]
  },
  {
   "cell_type": "code",
   "execution_count": null,
   "metadata": {},
   "outputs": [],
   "source": [
    "retrieval=init_retrieval(brown_dwarf='2M0355',PT_type='PTgrad',chem='freechem',Nlive=400,tol=0.5)\n",
    "retrieval.evaluate(makefigs=False)\n",
    "\n",
    "\n",
    "only_params=['log_g','v_sini']\n",
    "\n",
    "if only_params is not None: # keys of specified parameters to plot\n",
    "    indices=[]\n",
    "    for key in only_params:\n",
    "        idx=list(retrieval.parameters.params).index(key)\n",
    "        indices.append(idx)\n",
    "    plot_posterior=np.array([retrieval.posterior[:,i] for i in indices]).T\n",
    "    labels=np.array([labels[i] for i in indices])\n",
    "    medians=np.array([medians[i] for i in indices])\n",
    "\n",
    "total_posterior=np.hstack([plot_posterior,retrieval.ratios_posterior])\n"
   ]
  },
  {
   "cell_type": "code",
   "execution_count": 7,
   "metadata": {},
   "outputs": [
    {
     "name": "stdout",
     "output_type": "stream",
     "text": [
      "10.967323084915495 10.476608990519589\n",
      "11.46658982486478 13.001542009971573\n"
     ]
    }
   ],
   "source": [
    "# determine sigma difference between freechem/equchem/quechem\n",
    "\n",
    "import pathlib\n",
    "import pickle\n",
    "from scipy.special import lambertw as W\n",
    "from scipy.special import erfcinv\n",
    "import numpy as np\n",
    "\n",
    "def compare_evidence(ln_Z_A,ln_Z_B):\n",
    "\n",
    "    ln_B = ln_Z_A-ln_Z_B\n",
    "    sign=1\n",
    "    if ln_B<0: # ln_Z_B larger -> second model favored\n",
    "        sign=-1\n",
    "        ln_B*=sign # can't handle negative values (-> nan), multiply back later\n",
    "    try:\n",
    "        p = np.real(np.exp(W((-1.0/(np.exp(ln_B)*np.exp(1))),-1)))\n",
    "        sigma = np.sqrt(2)*erfcinv(p)\n",
    "    except RuntimeWarning:\n",
    "        sigma=np.inf \n",
    "    return ln_B*sign,sigma*sign\n",
    "\n",
    "def sigma_chem(BD):\n",
    "    path=pathlib.Path(f'/home/natalie/Desktop/atm_retrieval/{BD}/freechem_PTgrad_N400_ev0.5/params_dict.pickle')\n",
    "    with open(path,'rb') as file:\n",
    "        free=pickle.load(file)\n",
    "\n",
    "    path=pathlib.Path(f'/home/natalie/Desktop/atm_retrieval/{BD}/equchem_PTgrad_N400_ev0.5/params_dict.pickle')\n",
    "    with open(path,'rb') as file:\n",
    "        equ=pickle.load(file)\n",
    "\n",
    "        path=pathlib.Path(f'/home/natalie/Desktop/atm_retrieval/{BD}/quequchem_PTgrad_N400_ev0.5/params_dict.pickle')\n",
    "    with open(path,'rb') as file:\n",
    "        quequ=pickle.load(file)\n",
    "\n",
    "    free_lnL=free['lnZ']\n",
    "    equ_lnL=equ['lnZ']\n",
    "    quequ_lnL=quequ['lnZ']\n",
    "    _,sig_free_equ=compare_evidence(free_lnL,equ_lnL)\n",
    "    _,sig_free_quequ=compare_evidence(free_lnL,quequ_lnL)\n",
    "    print(sig_free_equ,sig_free_quequ)\n",
    "\n",
    "sigma_chem('2M0355')\n",
    "sigma_chem('2M1425')"
   ]
  },
  {
   "cell_type": "code",
   "execution_count": 20,
   "metadata": {},
   "outputs": [
    {
     "name": "stdout",
     "output_type": "stream",
     "text": [
      "l= 0.017506643868895968 + 0.0001226707298707247 - 0.00011422413590414862\n",
      "2.529924395558849\n",
      "a= 1.9013472452976266 + 0.011806248719554935 - 0.012046953743000355\n",
      "\n",
      "l= 0.012237882914209455 + 0.00016056378741224203 - 0.0001643796134057733\n",
      "1.7685239253458251\n",
      "a= 1.3885062194636257 + 0.014189585247940562 - 0.01267971938684509\n",
      "\n"
     ]
    }
   ],
   "source": [
    "import numpy as np\n",
    "import pathlib\n",
    "import pickle\n",
    "import numpy as np\n",
    "\n",
    "def get_corr_noise(BD):\n",
    "\n",
    "    path=pathlib.Path(f'/home/natalie/Desktop/atm_retrieval/{BD}/freechem_PTgrad_N400_ev0.5/params_dict.pickle')\n",
    "    with open(path,'rb') as file:\n",
    "        ret=pickle.load(file)\n",
    "\n",
    "    K2166=np.array([[[1921.318,1934.583], [1935.543,1948.213], [1949.097,1961.128]],\n",
    "                                [[1989.978,2003.709], [2004.701,2017.816], [2018.708,2031.165]],\n",
    "                                [[2063.711,2077.942], [2078.967,2092.559], [2093.479,2106.392]],\n",
    "                                [[2143.087,2157.855], [2158.914,2173.020], [2173.983,2187.386]],\n",
    "                                [[2228.786,2244.133], [2245.229,2259.888], [2260.904,2274.835]],\n",
    "                                [[2321.596,2337.568], [2338.704,2353.961], [2355.035,2369.534]],\n",
    "                                [[2422.415,2439.061], [2440.243,2456.145], [2457.275,2472.388]]])\n",
    "\n",
    "    # get mean nanometers per 2048 pixels\n",
    "    sum=0\n",
    "    for order in range(7):\n",
    "        for det in range(3):\n",
    "            sum+=K2166[order,det][1]-K2166[order,det][0]\n",
    "    mean=sum/21\n",
    "    nm_per_pix = mean/2048 # nanometers per pixel\n",
    "\n",
    "    d=3\n",
    "    l=10**(ret['log_l'])\n",
    "    l_merr=10**(ret['log_l']+ret['log_l_err'][0])\n",
    "    l_perr=10**(ret['log_l_err'][1]+ret['log_l'])\n",
    "    print('l=',l,\"+\",l_perr-l,'-',l-l_merr)\n",
    "    print(l/nm_per_pix)\n",
    "\n",
    "    a=10**(ret['log_a'])\n",
    "    a_merr=10**(ret['log_a']+ret['log_a_err'][0])\n",
    "    a_perr=10**(ret['log_a_err'][1]+ret['log_a'])\n",
    "    print('a=',a,\"+\",a_perr-a,'-',a-a_merr)\n",
    "    print('')\n",
    "\n",
    "get_corr_noise('2M0355')\n",
    "get_corr_noise('2M1425')\n"
   ]
  },
  {
   "cell_type": "code",
   "execution_count": null,
   "metadata": {},
   "outputs": [
    {
     "name": "stdout",
     "output_type": "stream",
     "text": [
      "95.49925860214358 + 6.8300406259317725 - 6.374164788769036\n",
      "109.64781961431851 + 10.578623847422804 - 9.647819614318507\n"
     ]
    }
   ],
   "source": [
    "print(10**(1.98),'+',10**(1.98+0.03)-10**1.98,'-',10**1.98-10**(1.98-0.03))\n",
    "\n",
    "\n",
    "print(10**(2.04),'+',10**(2.04+0.04)-10**2.04,'-',10**2.04-10**(2.04-0.04))\n",
    "\n",
    "\n"
   ]
  },
  {
   "cell_type": "code",
   "execution_count": 4,
   "metadata": {},
   "outputs": [
    {
     "name": "stdout",
     "output_type": "stream",
     "text": [
      "-9.296662296200228\n",
      "-6\n",
      "51067.570473816326 51047.7735839059\n",
      "19.796889910423488 6.608774600648049\n"
     ]
    },
    {
     "data": {
      "image/png": "[encoded data removed]",
      "text/plain": [
       "<Figure size 432x288 with 1 Axes>"
      ]
     },
     "metadata": {
      "needs_background": "light"
     },
     "output_type": "display_data"
    }
   ],
   "source": [
    "# try adding CH4 to 2M0355 model fit and evaluate sigma  from lnL Bm\n",
    "from pRT_model import pRT_spectrum\n",
    "import matplotlib.pyplot as plt\n",
    "\n",
    "orig_dict=retrieval.params_dict.copy()\n",
    "\n",
    "retrieval.parameters.params=retrieval.params_dict\n",
    "print(retrieval.parameters.params['log_CH4'])\n",
    "model_orig=pRT_spectrum(retrieval).make_spectrum()\n",
    "lnZ_orig=retrieval.LogLike(model_orig, retrieval.Cov)\n",
    "\n",
    "# add H2S at low level and see\n",
    "retrieval.parameters.params['log_CH4']=-6\n",
    "print(retrieval.parameters.params['log_CH4'])\n",
    "model_wH2S=pRT_spectrum(retrieval).make_spectrum()\n",
    "lnZ_wH2S=retrieval.LogLike(model_wH2S, retrieval.Cov)\n",
    "\n",
    "plt.plot(model_wH2S.flatten())\n",
    "plt.plot(model_orig.flatten())\n",
    "\n",
    "\n",
    "print(lnZ_orig,lnZ_wH2S)\n",
    "lnB, sigma = retrieval.compare_evidence(lnZ_orig,lnZ_wH2S)\n",
    "retrieval.parameters.params=orig_dict #set back\n",
    "print(lnB,sigma)"
   ]
  },
  {
   "cell_type": "code",
   "execution_count": 6,
   "metadata": {},
   "outputs": [
    {
     "name": "stdout",
     "output_type": "stream",
     "text": [
      "-8.997980828138326\n",
      "-5\n",
      "61304.159461462295 61294.40643855627\n",
      "9.753022906028491 4.798040052527595\n"
     ]
    },
    {
     "data": {
      "image/png": "[encoded data removed]",
      "text/plain": [
       "<Figure size 432x288 with 1 Axes>"
      ]
     },
     "metadata": {
      "needs_background": "light"
     },
     "output_type": "display_data"
    }
   ],
   "source": [
    "# try adding H2S to 2M1425 model fit and evaluate sigma  from lnL Bm\n",
    "from pRT_model import pRT_spectrum\n",
    "import matplotlib.pyplot as plt\n",
    "\n",
    "orig_dict=retrieval2.params_dict.copy()\n",
    "\n",
    "retrieval2.parameters.params=retrieval2.params_dict\n",
    "print(retrieval2.parameters.params['log_H2S'])\n",
    "model_orig=pRT_spectrum(retrieval2).make_spectrum()\n",
    "lnZ_orig=retrieval2.LogLike(model_orig, retrieval2.Cov)\n",
    "\n",
    "# add H2S at low level and see\n",
    "retrieval2.parameters.params['log_H2S']=-5\n",
    "print(retrieval2.parameters.params['log_H2S'])\n",
    "model_wH2S=pRT_spectrum(retrieval2).make_spectrum()\n",
    "lnZ_wH2S=retrieval2.LogLike(model_wH2S, retrieval2.Cov)\n",
    "\n",
    "plt.plot(model_wH2S.flatten())\n",
    "plt.plot(model_orig.flatten())\n",
    "\n",
    "\n",
    "print(lnZ_orig,lnZ_wH2S)\n",
    "lnB, sigma = retrieval2.compare_evidence(lnZ_orig,lnZ_wH2S)\n",
    "retrieval2.parameters.params=orig_dict #set back\n",
    "print(lnB,sigma)"
   ]
  },
  {
   "cell_type": "code",
   "execution_count": 2,
   "metadata": {},
   "outputs": [
    {
     "data": {
      "text/plain": [
       "1.667247212551061"
      ]
     },
     "execution_count": 2,
     "metadata": {},
     "output_type": "execute_result"
    }
   ],
   "source": [
    "import numpy as np\n",
    "10**(4.975)/(10**(4.753))"
   ]
  },
  {
   "cell_type": "code",
   "execution_count": 16,
   "metadata": {},
   "outputs": [
    {
     "data": {
      "text/plain": [
       "[<matplotlib.lines.Line2D at 0x7f7c6f0e3910>]"
      ]
     },
     "execution_count": 16,
     "metadata": {},
     "output_type": "execute_result"
    },
    {
     "data": {
      "image/png": "[encoded data removed]",
      "text/plain": [
       "<Figure size 432x288 with 1 Axes>"
      ]
     },
     "metadata": {
      "needs_background": "light"
     },
     "output_type": "display_data"
    }
   ],
   "source": [
    "plt.plot(model_wH2S.flatten()-model_orig.flatten())"
   ]
  },
  {
   "cell_type": "code",
   "execution_count": null,
   "metadata": {},
   "outputs": [],
   "source": [
    "import matplotlib.pyplot as plt\n",
    "from matplotlib.lines import Line2D\n",
    "import pathlib\n",
    "\n",
    "def CCFs_molecules(retrieval_object1,retrieval_object2,molecules,noiserange=100):\n",
    "\n",
    "    RVs=np.arange(-500,500,1) # km/s\n",
    "    comparison_dir=pathlib.Path(f'{retrieval_object1.output_dir}/comparison') # store output in separate folder\n",
    "    comparison_dir.mkdir(parents=True, exist_ok=True)\n",
    "\n",
    "    fig,ax=plt.subplots(len(molecules),1,figsize=(5,len(molecules)*1.5),dpi=200)\n",
    "    for i in range(len(molecules)):\n",
    "        ax[i].axvspan(-noiserange,noiserange,color='k',alpha=0.05)\n",
    "        ax[i].set_xlim(np.min(RVs),np.max(RVs))\n",
    "        ax[i].axvline(x=0,color='k',lw=0.6,alpha=0.3)\n",
    "        ax[i].axhline(y=0,color='k',lw=0.6,alpha=0.3)\n",
    "\n",
    "    for i,molecule in enumerate(molecules):\n",
    "\n",
    "        CCF_norm1=retrieval_object1.CCF_list[i]\n",
    "        ACF_norm1=retrieval_object1.ACF_list[i]\n",
    "        SNR1=CCF_norm1[np.where(RVs==0)[0][0]]\n",
    "        CCF_norm2=retrieval_object2.CCF_list[i]\n",
    "        ACF_norm2=retrieval_object2.ACF_list[i]\n",
    "        SNR2=CCF_norm2[np.where(RVs==0)[0][0]]\n",
    "\n",
    "        ax[i].plot(RVs,CCF_norm1,color=retrieval_object1.color1,label=f'{retrieval_object1.target.name}')\n",
    "        ax[i].plot(RVs,ACF_norm1,color=retrieval_object1.color1,linestyle='dashed',alpha=0.5)\n",
    "        ax[i].plot(RVs,CCF_norm2,color=retrieval_object2.color1,label=f'{retrieval_object2.target.name}')\n",
    "        ax[i].plot(RVs,ACF_norm2,color=retrieval_object2.color1,linestyle='dashed',alpha=0.5)\n",
    "        ax[i].set_ylabel('S/N')\n",
    "        molecule_label=str(retrieval_object1.parameters.param_mathtext[f'log_{molecule}'][4:]) # remove log_\n",
    "        ax[i].text(0.05, 0.9, molecule_label,transform=ax[i].transAxes,fontsize=14,verticalalignment='top')\n",
    "\n",
    "    lines = [Line2D([0], [0], color=retrieval_object1.color1,linewidth=2,label=f'{retrieval_object1.target.name}'),\n",
    "                 Line2D([0], [0], color=retrieval_object2.color1,linewidth=2,label=f'{retrieval_object2.target.name}'),\n",
    "                 Line2D([0], [0], color='k',linewidth=2,alpha=0.5,label='CCF'),\n",
    "                 Line2D([0], [0], color='k',linestyle='--',linewidth=2,alpha=0.2,label='ACF')]\n",
    "    ax[0].legend(handles=lines,fontsize=9,loc='upper right')\n",
    "    ax[len(molecules)-1].set_xlabel(r'$v_{\\rm rad}$ (km/s)')\n",
    "    fig.tight_layout()\n",
    "    plt.subplots_adjust(wspace=0, hspace=0)\n",
    "    filename=f'CCFs_{len(molecules)}.pdf'\n",
    "    fig.savefig(f'{comparison_dir}/{filename}',bbox_inches=\"tight\",dpi=200)\n",
    "    plt.close()\n",
    "\n",
    "CCFs_molecules(retrieval,retrieval2,['13CO','HF'])"
   ]
  },
  {
   "cell_type": "markdown",
   "metadata": {},
   "source": [
    "# Clouds"
   ]
  },
  {
   "cell_type": "code",
   "execution_count": null,
   "metadata": {},
   "outputs": [
    {
     "name": "stdout",
     "output_type": "stream",
     "text": [
      "[[1.e-07 1.e+01 1.e+01 1.e+01 1.e+01]\n",
      " [1.e-07 1.e+01 1.e+01 1.e+01 1.e+01]]\n",
      "[1.e-06 1.e-04 1.e-02 1.e+00 1.e+02]\n"
     ]
    }
   ],
   "source": [
    "# shouldn't opacity below cloud be high, to block all emission from deeper layers?\n",
    "# if it's zero, there is effectively no cloud\n",
    "\n",
    "import numpy as np\n",
    "\n",
    "params={'log_P_base_gray':-4,'log_opa_base_gray':1,'fsed_gray':4}\n",
    "wave_micron=np.linspace(1,3,2)\n",
    "pressure = np.logspace(-6,2,5)\n",
    "opa_gray_cloud = np.zeros((len(wave_micron),len(pressure))) # gray cloud = independent of wavelength\n",
    "opa_gray_cloud[:,pressure>10**(params['log_P_base_gray'])] = 10**(params['log_opa_base_gray']) # [bar] constant below cloud base\n",
    "# Opacity decreases with power-law above the base\n",
    "above_clouds = (pressure<=10**(params['log_P_base_gray']))\n",
    "opa_gray_cloud[:,above_clouds]=(10**(params['log_opa_base_gray']))*(pressure[above_clouds]/10**(params['log_P_base_gray']))**params['fsed_gray']\n",
    "\n",
    "print(opa_gray_cloud)\n",
    "print(pressure)"
   ]
  },
  {
   "cell_type": "markdown",
   "metadata": {},
   "source": [
    "# Table for paper"
   ]
  },
  {
   "cell_type": "code",
   "execution_count": 1,
   "metadata": {},
   "outputs": [],
   "source": [
    "import pathlib\n",
    "import pickle\n",
    "import numpy as np\n",
    "\n",
    "path=pathlib.Path('/home/natalie/Desktop/atm_retrieval/2M0355/freechem_PTgrad_N400_ev0.5/params_dict.pickle')\n",
    "with open(path,'rb') as file:\n",
    "    final_params=pickle.load(file)\n",
    "\n",
    "path=pathlib.Path('/home/natalie/Desktop/atm_retrieval/2M1425/freechem_PTgrad_N400_ev0.5/params_dict.pickle')\n",
    "with open(path,'rb') as file:\n",
    "    final_params2=pickle.load(file)"
   ]
  },
  {
   "cell_type": "code",
   "execution_count": 3,
   "metadata": {},
   "outputs": [
    {
     "name": "stdout",
     "output_type": "stream",
     "text": [
      "C/O & 0.65 $^{+ 0.01 }_{ -0.01 }$ & 0.66 $^{+ 0.0 }_{ -0.0 }$ \\\\\n",
      "$[$C/H$]$ & 0.58 $^{+ 0.03 }_{ -0.03 }$ & 0.4 $^{+ 0.01 }_{ -0.01 }$ \\\\\n",
      "log $^{12}$CO/$^{13}$CO & 1.98 $^{+ 0.03 }_{ -0.03 }$ & 2.04 $^{+ 0.04 }_{ -0.04 }$ \\\\\n",
      "log $^{12}$CO/C$^{17}$O & 6.29 $^{+ 1.5 }_{ -1.42 }$ & 5.52 $^{+ 1.39 }_{ -1.17 }$ \\\\\n",
      "log $^{12}$CO/C$^{18}$O & 5.22 $^{+ 1.9 }_{ -1.6 }$ & 6.31 $^{+ 1.31 }_{ -1.4 }$ \\\\\n",
      "log H$_2$O/H$_2^{18}$O & 4.31 $^{+ 3.11 }_{ -1.49 }$ & 2.71 $^{+ 3.05 }_{ -0.2 }$ \\\\\n"
     ]
    }
   ],
   "source": [
    "dec=2\n",
    "table=[\"C/O &\",\"$[$C/H$]$ &\",\"log $^{12}$CO/$^{13}$CO &\",\"log $^{12}$CO/C$^{17}$O &\",\n",
    "       \"log $^{12}$CO/C$^{18}$O &\",\"log H$_2$O/H$_2^{18}$O &\"]\n",
    "ratios=[\"C/O\",\"C/H\",'log_12CO/13CO','log_12CO/C17O','log_12CO/C18O','log_H2O/H2(18)O']\n",
    "\n",
    "for i,r in enumerate(ratios):\n",
    "      print(table[i],np.round(final_params[r][0],decimals=dec),\n",
    "              \"$^{+\",np.round(final_params[f'{r}_err'][1][0],decimals=dec),\"}_{\",\n",
    "              np.round(final_params[f'{r}_err'][0][0],decimals=dec),\"}$ &\",\n",
    "              np.round(final_params2[r][0],decimals=dec),\n",
    "              \"$^{+\",np.round(final_params2[f'{r}_err'][1][0],decimals=dec),\"}_{\",\n",
    "              np.round(final_params2[f'{r}_err'][0][0],decimals=dec),\"}$ \\\\\\\\\")"
   ]
  },
  {
   "cell_type": "code",
   "execution_count": 4,
   "metadata": {},
   "outputs": [
    {
     "name": "stdout",
     "output_type": "stream",
     "text": [
      "$^{13}$CO & 12.4 & 13.4 & 3.5 & 8.0 \\\\\n",
      "HF & 16.9 & 11.6 & 5.5 & 15.8 \\\\\n",
      "H$_2$S & 6.2 & 4.6 & -0.5 & 9.3 \\\\\n",
      "H$_2^{18}$O & 2.6 & 1.1 & 1.5 & 3.0 \\\\\n",
      "CH$_4$ & -0.7 & 2.2 & 4.9 & 5.5 \\\\\n"
     ]
    }
   ],
   "source": [
    "import pathlib\n",
    "import pickle\n",
    "import numpy as np\n",
    "\n",
    "path=pathlib.Path('/home/natalie/Desktop/atm_retrieval/2M0355/freechem_PTgrad_N400_ev0.5/evidence_dict.pickle')\n",
    "with open(path,'rb') as file:\n",
    "    evidence=pickle.load(file)\n",
    "\n",
    "path=pathlib.Path('/home/natalie/Desktop/atm_retrieval/2M1425/freechem_PTgrad_N400_ev0.5/evidence_dict.pickle')\n",
    "with open(path,'rb') as file:\n",
    "    evidence2=pickle.load(file)\n",
    "\n",
    "dec=1\n",
    "table=[\"$^{13}$CO\",'HF','H$_2$S','H$_2^{18}$O','CH$_4$']\n",
    "molec=['13CO','HF','H2S','H2(18)O', 'CH4']\n",
    "\n",
    "for i,m in enumerate(molec):\n",
    "      print(table[i],'&',\n",
    "            np.round(final_params[f'SNR_{m}'],decimals=dec),\"&\",\n",
    "            np.round(evidence[f'sigma_{m}'],decimals=dec),\"&\",\n",
    "            np.round(final_params2[f'SNR_{m}'],decimals=dec),\"&\",\n",
    "            np.round(evidence2[f'sigma_{m}'],decimals=dec),\"\\\\\\\\\")"
   ]
  },
  {
   "cell_type": "code",
   "execution_count": 4,
   "metadata": {},
   "outputs": [
    {
     "name": "stdout",
     "output_type": "stream",
     "text": [
      "$v_{\\text{rad}}$ [km/s] & Radial velocity & $\\mathcal{U}$(2,20) & 13.251 $^{+ 0.009 }_{ -0.009 }$ & 5.538 $^{+ 0.045 }_{ -0.046 }$ \\\\\n",
      "$v\\text{sin}i$ [km/s] & Projected rotational velocity & $\\mathcal{U}$(0,40) & 3.043 $^{+ 0.081 }_{ -0.081 }$ & 31.575 $^{+ 0.186 }_{ -0.232 }$ \\\\\n",
      "log $g$ [cm/s$^2$] & Surface gravity & $\\mathcal{U}$(3,5) & 4.753 $^{+ 0.034 }_{ -0.034 }$ & 4.975 $^{+ 0.01 }_{ -0.011 }$ \\\\\n",
      "$\\epsilon_\\mathrm{limb}$ & Limb-darkening coefficient & $\\mathcal{U}$(0.2,1) & 0.721 $^{+ 0.141 }_{ -0.155 }$ & 0.741 $^{+ 0.036 }_{ -0.048 }$ \\\\\n",
      "\\hline\n",
      "log H$_2$O & log$_{10}$ VMR of H$_2$O & $\\mathcal{U}$(-12,-1) &  -2.999 $^{+ 0.026 }_{ -0.031 }$ & -3.197 $^{+ 0.008 }_{ -0.01 }$ \\\\\n",
      "log $^{12}$CO & log$_{10}$ VMR of $^{12}$CO & $\\mathcal{U}$(-12,-1) & -2.735 $^{+ 0.026 }_{ -0.035 }$ & -2.92 $^{+ 0.01 }_{ -0.013 }$ \\\\\n",
      "log $^{13}$CO & log$_{10}$ VMR of $^{13}$CO & $\\mathcal{U}$(-12,-1) &  -4.717 $^{+ 0.04 }_{ -0.044 }$ & -4.958 $^{+ 0.037 }_{ -0.039 }$ \\\\\n",
      "log C$^{18}$O & log$_{10}$ VMR of C$^{18}$O & $\\mathcal{U}$(-12,-1) & -7.959 $^{+ 1.599 }_{ -1.903 }$ & -9.224 $^{+ 1.381 }_{ -1.314 }$ \\\\\n",
      "log C$^{17}$O & log$_{10}$ VMR of C$^{17}$O & $\\mathcal{U}$(-12,-1) & -9.037 $^{+ 1.415 }_{ -1.491 }$ & -8.445 $^{+ 1.178 }_{ -1.396 }$ \\\\\n",
      "log CH$_4$ & log$_{10}$ VMR of CH$_4$ & $\\mathcal{U}$(-12,-1) & -9.297 $^{+ 1.111 }_{ -1.189 }$ & -5.345 $^{+ 0.05 }_{ -0.078 }$ \\\\\n",
      "log NH$_3$ & log$_{10}$ VMR of NH$_3$ & $\\mathcal{U}$(-12,-1) &  -8.97 $^{+ 1.128 }_{ -1.27 }$ & -6.493 $^{+ 0.254 }_{ -0.563 }$ \\\\\n",
      "log HCN & log$_{10}$ VMR of HCN & $\\mathcal{U}$(-12,-1) & -8.764 $^{+ 1.803 }_{ -1.483 }$ & -8.222 $^{+ 1.197 }_{ -1.188 }$ \\\\\n",
      "log HF & log$_{10}$ VMR of HF & $\\mathcal{U}$(-12,-1) &  -6.956 $^{+ 0.061 }_{ -0.061 }$ & -7.086 $^{+ 0.037 }_{ -0.039 }$ \\\\\n",
      "log H$_2$S & log$_{10}$ VMR of H$_2$S & $\\mathcal{U}$(-12,-1) &  -4.151 $^{+ 0.063 }_{ -0.075 }$ & -8.998 $^{+ 1.301 }_{ -1.269 }$ \\\\\n",
      "log H$_2^{18}$O & log$_{10}$ VMR of H$_2^{18}$O & $\\mathcal{U}$(-12,-1) & -7.303 $^{+ 1.466 }_{ -3.1 }$ & -5.902 $^{+ 0.2 }_{ -3.06 }$ \\\\\n",
      "\\hline\n",
      "$T_0$ [K] & Temperature at $P_0=10^2\\,$bar& $\\mathcal{U}$(1000,4000) & 2398.49 $^{+ 112.472 }_{ -93.197 }$ & 3833.867 $^{+ 62.89 }_{ -59.623 }$ \\\\\n",
      " $\\nabla T_0$ & Temperature gradient at $P_0=10^2\\,$bar& $\\mathcal{U}$(0,0.4) & 0.186 $^{+ 0.091 }_{ -0.095 }$ & 0.282 $^{+ 0.06 }_{ -0.069 }$ \\\\\n",
      "$\\nabla T_1$ & Temperature gradient at $P_1=10^0\\,$bar& $\\mathcal{U}$(0,0.4) & 0.243 $^{+ 0.019 }_{ -0.02 }$ & 0.263 $^{+ 0.052 }_{ -0.05 }$ \\\\\n",
      "$\\nabla T_2$ & Temperature gradient at $P_2=10^0\\,$bar& $\\mathcal{U}$(0,0.4) & 0.042 $^{+ 0.002 }_{ -0.002 }$ & 0.046 $^{+ 0.006 }_{ -0.005 }$ \\\\\n",
      "$\\nabla T_3$ & Temperature gradient at $P_3=10^0\\,$bar& $\\mathcal{U}$(0,0.4) & 0.045 $^{+ 0.001 }_{ -0.001 }$ & 0.084 $^{+ 0.001 }_{ -0.001 }$ \\\\\n",
      "$\\nabla T_4$ & Temperature gradient at $P_4=10^0\\,$bar& $\\mathcal{U}$(0,0.4) & 0.152 $^{+ 0.025 }_{ -0.023 }$ & 0.289 $^{+ 0.011 }_{ -0.011 }$ \\\\\n",
      "\\hline\n",
      "log $\\kappa_{\\mathrm{cl},0}$ [cm$^2$/g] & Opacity at cloud base & $\\mathcal{U}$(-10,3) &  -5.789 $^{+ 2.245 }_{ -2.091 }$ & -4.166 $^{+ 1.834 }_{ -1.818 }$ \\\\\n",
      "log $P_{\\mathrm{cl},0}$ [bar] & Cloud base pressure & $\\mathcal{U}$(-6,3) & -2.29 $^{+ 2.07 }_{ -1.888 }$ & -1.453 $^{+ 2.524 }_{ -2.32 }$ \\\\\n",
      "$f_\\mathrm{sed}$ & Cloud decay power & $\\mathcal{U}$(0,20) & 11.346 $^{+ 3.926 }_{ -4.148 }$ & 8.301 $^{+ 4.602 }_{ -4.076 }$ \\\\\n",
      "\\hline\n",
      "log $a$ & GP amplitude & $\\mathcal{U}$(-1,1) & 0.279 $^{+ 0.003 }_{ -0.003 }$ & 0.143 $^{+ 0.004 }_{ -0.004 }$ \\\\\n",
      "log $l$ [nm] & GP length-scale & $\\mathcal{U}$(-3,0) & -1.757 $^{+ 0.003 }_{ -0.003 }$ & -1.912 $^{+ 0.006 }_{ -0.006 }$ \\\\\n"
     ]
    }
   ],
   "source": [
    "dec=3\n",
    "\n",
    "table=[\"$v_{\\\\text{rad}}$ [km/s] & Radial velocity & $\\mathcal{U}$(2,20) &\",\n",
    "       \"$v\\\\text{sin}i$ [km/s] & Projected rotational velocity & $\\mathcal{U}$(0,40) &\",\n",
    "       \"log $g$ [cm/s$^2$] & Surface gravity & $\\mathcal{U}$(3,5) &\",\n",
    "       \"$\\epsilon_\\mathrm{limb}$ & Limb-darkening coefficient & $\\mathcal{U}$(0.2,1) &\",\n",
    "       \"\",\n",
    "       \"log H$_2$O & log$_{10}$ VMR of H$_2$O & $\\mathcal{U}$(-12,-1) & \",\n",
    "       \"log $^{12}$CO & log$_{10}$ VMR of $^{12}$CO & $\\mathcal{U}$(-12,-1) &\",\n",
    "       \"log $^{13}$CO & log$_{10}$ VMR of $^{13}$CO & $\\mathcal{U}$(-12,-1) & \",\n",
    "       \"log C$^{18}$O & log$_{10}$ VMR of C$^{18}$O & $\\mathcal{U}$(-12,-1) &\",\n",
    "       \"log C$^{17}$O & log$_{10}$ VMR of C$^{17}$O & $\\mathcal{U}$(-12,-1) &\",\n",
    "       \"log CH$_4$ & log$_{10}$ VMR of CH$_4$ & $\\mathcal{U}$(-12,-1) &\",\n",
    "       \"log NH$_3$ & log$_{10}$ VMR of NH$_3$ & $\\mathcal{U}$(-12,-1) & \",\n",
    "       \"log HCN & log$_{10}$ VMR of HCN & $\\mathcal{U}$(-12,-1) &\",\n",
    "       \"log HF & log$_{10}$ VMR of HF & $\\mathcal{U}$(-12,-1) & \",\n",
    "       \"log H$_2$S & log$_{10}$ VMR of H$_2$S & $\\mathcal{U}$(-12,-1) & \",\n",
    "       \"log H$_2^{18}$O & log$_{10}$ VMR of H$_2^{18}$O & $\\mathcal{U}$(-12,-1) &\",\n",
    "      \"\",\n",
    "      \"$T_0$ [K] & Temperature at $P_0=10^2\\,$bar& $\\mathcal{U}$(1000,4000) &\",\n",
    "      \" $\\\\nabla T_0$ & Temperature gradient at $P_0=10^2\\,$bar& $\\mathcal{U}$(0,0.4) &\",\n",
    "      \"$\\\\nabla T_1$ & Temperature gradient at $P_1=10^0\\,$bar& $\\mathcal{U}$(0,0.4) &\",\n",
    "      \"$\\\\nabla T_2$ & Temperature gradient at $P_2=10^0\\,$bar& $\\mathcal{U}$(0,0.4) &\",\n",
    "      \"$\\\\nabla T_3$ & Temperature gradient at $P_3=10^0\\,$bar& $\\mathcal{U}$(0,0.4) &\",\n",
    "      \"$\\\\nabla T_4$ & Temperature gradient at $P_4=10^0\\,$bar& $\\mathcal{U}$(0,0.4) &\",\n",
    "      \"\",\n",
    "      \"log $\\kappa_{\\mathrm{cl},0}$ [cm$^2$/g] & Opacity at cloud base & $\\mathcal{U}$(-10,3) & \",\n",
    "      \"log $P_{\\mathrm{cl},0}$ [bar] & Cloud base pressure & $\\mathcal{U}$(-6,3) &\",\n",
    "      \"$f_\\mathrm{sed}$ & Cloud decay power & $\\mathcal{U}$(0,20) &\",\n",
    "      \"\",\n",
    "      \"log $a$ & GP amplitude & $\\mathcal{U}$(-1,1) &\",\n",
    "      \"log $l$ [nm] & GP length-scale & $\\mathcal{U}$(-3,0) &\"]\n",
    "table_vals=['rv','vsini','log_g','epsilon_limb',\"\",'log_H2O',\"log_12CO\",\"log_13CO\",\n",
    "            \"log_C18O\",\"log_C17O\",\"log_CH4\",\"log_NH3\",\"log_HCN\",\"log_HF\",\"log_H2S\",\n",
    "            \"log_H2(18)O\",\"\",'T0','dlnT_dlnP_0','dlnT_dlnP_1','dlnT_dlnP_2',\n",
    "            'dlnT_dlnP_3','dlnT_dlnP_4',\"\",\"log_opa_base_gray\",\"log_P_base_gray\",\n",
    "            \"fsed_gray\",\"\",\"log_a\",\"log_l\"]\n",
    "\n",
    "if True:\n",
    "      for i,tpar in enumerate(table_vals):\n",
    "            if tpar==\"\":\n",
    "                  print(\"\\hline\")\n",
    "            else:\n",
    "                  print(table[i],np.round(final_params[tpar],decimals=dec),\n",
    "                        \"$^{+\",np.round(final_params[f'{tpar}_err'][1],decimals=dec),\"}_{\",\n",
    "                        np.round(final_params[f'{tpar}_err'][0],decimals=dec),\"}$ &\",\n",
    "                        np.round(final_params2[tpar],decimals=dec),\n",
    "                        \"$^{+\",np.round(final_params2[f'{tpar}_err'][1],decimals=dec),\"}_{\",\n",
    "                        np.round(final_params2[f'{tpar}_err'][0],decimals=dec),\"}$ \\\\\\\\\")"
   ]
  },
  {
   "cell_type": "markdown",
   "metadata": {},
   "source": [
    "# Make plots for presentation"
   ]
  },
  {
   "cell_type": "code",
   "execution_count": null,
   "metadata": {},
   "outputs": [],
   "source": [
    "import getpass\n",
    "import os\n",
    "import numpy as np\n",
    "import matplotlib.pyplot as plt\n",
    "os.environ['OMP_NUM_THREADS'] = '1' # to avoid using too many CPUs\n",
    "\n",
    "if getpass.getuser() == \"grasser\": # when runnig from LEM\n",
    "    os.environ['pRT_input_data_path'] =\"/net/lem/data2/pRT_input_data\"\n",
    "    os.environ['OMP_NUM_THREADS'] = '1' # important for MPI\n",
    "    from mpi4py import MPI \n",
    "    comm = MPI.COMM_WORLD # important for MPI\n",
    "    rank = comm.Get_rank() # important for MPI\n",
    "    from atm_retrieval.target import Target\n",
    "    from atm_retrieval.likelihood import Retrieval\n",
    "    from atm_retrieval.parameters import Parameters\n",
    "    import matplotlib\n",
    "    matplotlib.use('Agg') # disable interactive plotting\n",
    "elif getpass.getuser() == \"natalie\": # when testing from my laptop\n",
    "    os.environ['pRT_input_data_path'] = \"/home/natalie/.local/lib/python3.8/site-packages/petitRADTRANS/input_data_std/input_data\"\n",
    "    from target import Target\n",
    "    from likelihood import Retrieval\n",
    "    from parameters import Parameters\n",
    "    from pRT_model import pRT_spectrum\n",
    "\n",
    "\n",
    "M0355 = Target('2M0355')\n",
    "data_wave,data_flux,data_err=M0355.load_spectrum()\n",
    "\n",
    "constant_params = {'vsini': 2, # rotational velocity\n",
    "                'rv': 11.92,\n",
    "                'log_Kzz': 7.5, # eddy diffusion parameter (atmospheric mixing)\n",
    "                'fsed': 2, # sedimentation parameter for particles\n",
    "                'P_base_gray': 1, # pressure of gray cloud deck\n",
    "                'fsed_gray': 2,\n",
    "                'opa_base_gray': 0.8, # opacity of gray cloud deck\n",
    "                'sigma_lnorm': 1.05, # width of the log-normal particle distribution of MgSiO3\n",
    "                'log_MgSiO3' : 0, # scaling wrt chem equilibrium, 0 = equilibrium abundance \n",
    "                'log_H2O': -2.9,#-2.9,\n",
    "                'log_12CO': -2.67,#-2.66,\n",
    "                'log_13CO':-4.9,\n",
    "                'log_C18O':-12, #-8.3,\n",
    "                'log_C17O':-12,  #-8.7,\n",
    "                'log_CH4':-12, #-8.6,\n",
    "                'log_NH3':-12, #-8.9,\n",
    "                'log_HCN':-12, #-8,\n",
    "                'T1' : 2500, # bottom of the atmosphere (hotter)\n",
    "                'T2' : 1500,\n",
    "                'T3' : 1270,\n",
    "                'T4' : 313, # top of atmosphere (cooler)\n",
    "                'log_g':4.95,\n",
    "                } \n",
    "\n",
    "free_params = {}\n",
    "parameters = Parameters(free_params,constant_params)\n",
    "params=parameters.params\n",
    "\n",
    "\n",
    "output='2M0355_test4'\n",
    "retrieval=Retrieval(target=M0355,parameters=parameters,output_name=output)\n",
    "atmosphere_objects=retrieval.atmosphere_objects\n",
    "\n",
    "species=retrieval.get_species(param_dict=parameters.params)\n",
    "model_flux=pRT_spectrum(parameters=params,data_wave=data_wave,target=M0355,\n",
    "                        atmosphere_objects=atmosphere_objects,species=species,\n",
    "                        free_chem=True).make_spectrum()\n"
   ]
  },
  {
   "cell_type": "code",
   "execution_count": null,
   "metadata": {},
   "outputs": [],
   "source": [
    "params_H2O=params.copy()\n",
    "params_H2O['log_12CO']=-12\n",
    "params_H2O['log_13CO']=-12\n",
    "H2O_flux=pRT_spectrum(parameters=params_H2O,data_wave=data_wave,target=M0355,\n",
    "                        atmosphere_objects=atmosphere_objects,species=species,\n",
    "                        free_chem=True).make_spectrum()\n",
    "\n",
    "params_CO=params.copy()\n",
    "params_CO['log_H2O']=-12\n",
    "params_CO['log_13CO']=-12\n",
    "CO_flux=pRT_spectrum(parameters=params_CO,data_wave=data_wave,target=M0355,\n",
    "                        atmosphere_objects=atmosphere_objects,species=species,\n",
    "                        free_chem=True).make_spectrum()"
   ]
  },
  {
   "cell_type": "code",
   "execution_count": null,
   "metadata": {},
   "outputs": [],
   "source": [
    "fig,ax=plt.subplots(2,1,figsize=(7,3),dpi=200,sharex=True)\n",
    "order=5\n",
    "det=0\n",
    "for i in range(2):\n",
    "    ax[i].plot(data_wave[order,det],data_flux[order,det],lw=1,alpha=0.8,c='k',label='data')\n",
    "    ax[i].set_xlim(np.nanmin(data_wave[order,det]),np.nanmax(data_wave[order,det]))\n",
    "    ax[i].yaxis.set_visible(False) # remove ylabels because anyway unitless\n",
    "\n",
    "ax[0].plot(data_wave[order,det],model_flux[order,det],lw=1,alpha=0.8,c='c',label='model')\n",
    "ax[1].plot(data_wave[order,det],H2O_flux[order,det],lw=1,alpha=0.8,c='tab:blue',label='H$_2$O')\n",
    "ax[1].plot(data_wave[order,det],CO_flux[order,det],lw=1,alpha=0.8,c='tab:orange',label='CO')\n",
    "\n",
    "ax[0].legend(fontsize=8)\n",
    "ax[1].legend(fontsize=8)\n",
    "ax[1].set_xlabel('Wavelength [nm]')\n",
    "fig.tight_layout(h_pad=-0.1)\n",
    "fig.savefig('/home/natalie/Desktop/PhD/SupJup/plots/spectrum.jpg')"
   ]
  },
  {
   "cell_type": "code",
   "execution_count": null,
   "metadata": {},
   "outputs": [],
   "source": [
    "fig,ax=plt.subplots(1,1,figsize=(7,2),dpi=200,sharex=True)\n",
    "order=5\n",
    "det=0\n",
    "#ax.plot(data_wave[order,det],data_flux[order,det],lw=1,alpha=0.8,c='k',label='data')\n",
    "ax.set_xlim(np.nanmin(data_wave[order,det]),np.nanmax(data_wave[order,det]))\n",
    "ax.plot(data_wave[order,det],model_flux[order,det],lw=1,alpha=0.8,c='c',label='model')\n",
    "#ax.legend(fontsize=8)\n",
    "ax.yaxis.set_visible(False) # remove ylabels because anyway unitless\n",
    "ax.set_xlabel('Wavelength [nm]')\n",
    "fig.tight_layout()\n",
    "fig.savefig('/home/natalie/Desktop/PhD/SupJup/plots/model.jpg')"
   ]
  },
  {
   "cell_type": "code",
   "execution_count": null,
   "metadata": {},
   "outputs": [],
   "source": [
    "params_bad=params.copy()\n",
    "params_bad['log_H2O']=-3.5\n",
    "params_bad['log_CO']=-2\n",
    "params_bad['vsini']=7\n",
    "params_bad['T1']=1700\n",
    "bad_flux=pRT_spectrum(parameters=params_bad,data_wave=data_wave,target=M0355,\n",
    "                        atmosphere_objects=atmosphere_objects,species=species,\n",
    "                        free_chem=True).make_spectrum()\n",
    "fig,ax=plt.subplots(1,1,figsize=(7,2),dpi=200,sharex=True)\n",
    "order=5\n",
    "det=0\n",
    "#ax.plot(data_wave[order,det],data_flux[order,det],lw=1,alpha=0.8,c='k',label='data')\n",
    "ax.set_xlim(np.nanmin(data_wave[order,det]),np.nanmax(data_wave[order,det]))\n",
    "ax.plot(data_wave[order,det],bad_flux[order,det],lw=1,alpha=1,c='c',label='model')\n",
    "#ax.legend(fontsize=8)\n",
    "ax.yaxis.set_visible(False) # remove ylabels because anyway unitless\n",
    "ax.set_xlabel('Wavelength [nm]')\n",
    "fig.tight_layout()\n",
    "fig.savefig('/home/natalie/Desktop/PhD/SupJup/plots/bad_model1.jpg')"
   ]
  }
 ],
 "metadata": {
  "kernelspec": {
   "display_name": "base",
   "language": "python",
   "name": "python3"
  },
  "language_info": {
   "codemirror_mode": {
    "name": "ipython",
    "version": 3
   },
   "file_extension": ".py",
   "mimetype": "text/x-python",
   "name": "python",
   "nbconvert_exporter": "python",
   "pygments_lexer": "ipython3",
   "version": "3.8.5"
  }
 },
 "nbformat": 4,
 "nbformat_minor": 2
}
