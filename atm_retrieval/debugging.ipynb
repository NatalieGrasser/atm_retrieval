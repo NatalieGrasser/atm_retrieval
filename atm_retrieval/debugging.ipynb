{
 "cells": [
  {
   "cell_type": "code",
   "execution_count": 1,
   "metadata": {},
   "outputs": [],
   "source": [
    "import numpy as np\n",
    "import os\n",
    "os.environ['pRT_input_data_path'] = \"/home/natalie/.local/lib/python3.8/site-packages/petitRADTRANS/input_data_std/input_data\"\n",
    "from target import Target\n",
    "from retrieval import Retrieval\n",
    "from parameters import Parameters\n",
    "\n",
    "brown_dwarf = '2M0355' # options: 2M0355 or 2M1425\n",
    "chem = 'freechem' # options: freechem or equchem\n",
    "PT_type = 'PTgrad' # options: PTknot or PTgrad\n",
    "Nlive=400 # number of live points\n",
    "tol=0.3 # evidence tolerance\n",
    "output=f'{chem}_{PT_type}_N{Nlive}_ev{tol}' # output folder name\n",
    "\n",
    "brown_dwarf = Target(brown_dwarf)\n",
    "\n",
    "cloud_mode='gray' # options: None, gray, or MgSiO3\n",
    "GP=True # options: True/False\n",
    "\n",
    "constant_params={} # add if needed\n",
    "free_params = {'rv': ([2,20],r'$v_{\\rm rad}$'),\n",
    "               'vsini': ([0,40],r'$v$ sin$i$'),\n",
    "               'log_g':([3,5],r'log $g$'),\n",
    "               'epsilon_limb': [(0.2,1), r'$\\epsilon_\\mathrm{limb}$']} # limb-darkening coefficient (0-1)\n",
    "\n",
    "if PT_type=='PTknot':\n",
    "    pt_params={'T0' : ([1000,4000], r'$T_0$'), # bottom of the atmosphere (hotter)\n",
    "            'T1' : ([0,4000], r'$T_1$'),\n",
    "            'T2' : ([0,4000], r'$T_2$'),\n",
    "            'T3' : ([0,4000], r'$T_3$'),\n",
    "            'T4' : ([0,4000], r'$T_4$'),} # top of atmosphere (cooler)\n",
    "    free_params.update(pt_params)\n",
    "\n",
    "if PT_type=='PTgrad':\n",
    "    pt_params={'dlnT_dlnP_0': ([0.,0.4], r'$\\nabla T_0$'), # gradient at T0 \n",
    "            'dlnT_dlnP_1': ([0.,0.4], r'$\\nabla T_1$'), \n",
    "            'dlnT_dlnP_2': ([0.,0.4], r'$\\nabla T_2$'), \n",
    "            'dlnT_dlnP_3': ([0.,0.4], r'$\\nabla T_3$'), \n",
    "            'dlnT_dlnP_4': ([0.,0.4], r'$\\nabla T_4$'), \n",
    "            'T0': ([1000,4000], r'$T_0$')} # at bottom of atmosphere\n",
    "    free_params.update(pt_params)\n",
    "\n",
    "# if equilibrium chemistry, define [Fe/H], C/O, and isotopologue ratios\n",
    "if chem=='equchem':\n",
    "    chemistry={'C/O':([0,1], r'C/O'), \n",
    "            'Fe/H': ([-1.5,1.5], r'[Fe/H]'), \n",
    "            'C13_12_ratio': ([1e-10,1e-1], r'$\\mathrm{^{13}C/^{12}C}$'), \n",
    "            'O18_16_ratio': ([1e-10,1e-1], r'$\\mathrm{^{18}O/^{16}O}$'), \n",
    "            'O17_16_ratio': ([1e-10,1e-1], r'$\\mathrm{^{17}O/^{12}O}$')}\n",
    "    \n",
    "# if free chemistry, define VMRs\n",
    "if chem=='freechem': \n",
    "    chemistry={'log_H2O':([-12,-1],r'log H$_2$O'),\n",
    "            'log_12CO':([-12,-1],r'log $^{12}$CO'),\n",
    "            'log_13CO':([-12,-1],r'log $^{13}$CO'),\n",
    "            'log_C18O':([-12,-1],r'log C$^{18}$O'),\n",
    "            'log_C17O':([-12,-1],r'log C$^{17}$O'),\n",
    "            'log_CH4':([-12,-1],r'log CH$_4$'),\n",
    "            'log_NH3':([-12,-1],r'log NH$_3$'),\n",
    "            'log_HCN':([-12,-1],r'log HCN'),\n",
    "            'log_HF':([-12,-1],r'log HF'),\n",
    "            'log_H2(18)O':([-12,-1],r'log H$_2^{18}$O'),\n",
    "            'log_H2S':([-12,-1],r'log H$_2$S'),\n",
    "            #'log_OH':([-12,-1],r'log OH'),\n",
    "            #'log_CO2':([-12,-1],r'log CO$_2$')\n",
    "            }\n",
    "    \n",
    "if cloud_mode=='gray':\n",
    "    cloud_props={'log_opa_base_gray': ([-10,3], r'log $\\kappa_{\\mathrm{cl},0}$'),  \n",
    "                'log_P_base_gray': ([-6,3], r'log $P_{\\mathrm{cl},0}$'), # pressure of gray cloud deck\n",
    "                'fsed_gray': ([0,20], r'$f_\\mathrm{sed}$')} # sedimentation parameter for particles\n",
    "    free_params.update(cloud_props)\n",
    "\n",
    "if cloud_mode=='MgSiO3':\n",
    "    cloud_props={'fsed': ([0,20], r'$f_\\mathrm{sed}$'), # sedimentation parameter for particles\n",
    "                'sigma_lnorm': ([0.8,1.5], r'$\\sigma_{l,norm}$'), # width of the log-normal particle distribution\n",
    "                'log_Kzz':([5,15],r'log $K_{zz}$')} # eddy diffusion parameter (atmospheric mixing)\n",
    "    free_params.update(cloud_props)\n",
    "    \n",
    "if GP==True: # add uncertainty scaling\n",
    "    GP_params={'log_a': ([-1,1], r'$\\log\\ a$'), # one is enough, will be multipled with order/det error\n",
    "               'log_l': ([-3,0], r'$\\log\\ l$')}\n",
    "    free_params.update(GP_params)\n",
    "\n",
    "free_params.update(chemistry)\n",
    "parameters = Parameters(free_params, constant_params)\n",
    "cube = np.random.rand(parameters.n_params)\n",
    "parameters(cube)\n",
    "params=parameters.params\n",
    "\n",
    "retrieval=Retrieval(target=brown_dwarf,parameters=parameters,\n",
    "                    output_name=output,chemistry=chem,\n",
    "                    cloud_mode=cloud_mode,GP=GP,PT_type=PT_type)\n",
    "\n",
    "only_params=['rv','vsini','log_g','T0','log_H2O','log_12CO',\n",
    "                'log_13CO','log_HF','log_H2(18)O','log_H2S']\n",
    "#retrieval.evaluate(only_params=only_params,split_corner=False)"
   ]
  },
  {
   "cell_type": "code",
   "execution_count": 7,
   "metadata": {},
   "outputs": [
    {
     "name": "stdout",
     "output_type": "stream",
     "text": [
      "[-12, -12]\n",
      "{'rv': 17.03273852603783, 'vsini': 2.0410250056134815, 'log_g': 3.29659145282959, 'epsilon_limb': 0.9535111763350723, 'dlnT_dlnP_0': 0.0808736006733542, 'dlnT_dlnP_1': 0.1317580917893779, 'dlnT_dlnP_2': 0.12707641476037637, 'dlnT_dlnP_3': 0.2809863555528977, 'dlnT_dlnP_4': 0.3260846835875244, 'T0': 3968.905902169725, 'log_opa_base_gray': 1.1791247031692773, 'log_P_base_gray': -3.28596019605481, 'fsed_gray': 4.311694748314623, 'log_a': -0.2196306458792301, 'log_l': -0.28181516270888984, 'log_12CO': -6.639224063085864, 'log_13CO': -3.5330302437605408, 'log_C18O': -2.739136391280063, 'log_C17O': -6.508354986353428, 'log_CH4': -4.61199270691444, 'log_NH3': -10.5294732452953, 'log_HCN': -2.3433355972922048, 'log_HF': -4.141149234661453, 'log_H2(18)O': -1.496343689540545, 'log_H2S': -6.407110440032939, 'log_H2O': -12}\n"
     ]
    },
    {
     "data": {
      "image/png": "[encoded data removed]",
      "text/plain": [
       "<Figure size 432x288 with 1 Axes>"
      ]
     },
     "metadata": {
      "needs_background": "light"
     },
     "output_type": "display_data"
    }
   ],
   "source": [
    "key='log_H2O'\n",
    "if key in retrieval.parameters.params: del retrieval.parameters.params[key]\n",
    "retrieval.parameters.params[key]=-12\n",
    "retrieval.parameters.param_priors[key]=[-12,-12]\n",
    "print(retrieval.parameters.param_priors[key])\n",
    "\n",
    "print(retrieval.parameters.params)\n",
    "lnL=retrieval.PMN_lnL()"
   ]
  },
  {
   "cell_type": "code",
   "execution_count": null,
   "metadata": {},
   "outputs": [],
   "source": []
  },
  {
   "cell_type": "code",
   "execution_count": 2,
   "metadata": {},
   "outputs": [
    {
     "name": "stderr",
     "output_type": "stream",
     "text": [
      "/home/natalie/.local/lib/python3.8/site-packages/numpy/lib/nanfunctions.py:1216: RuntimeWarning: Mean of empty slice\n",
      "  return np.nanmean(a, axis, out=out, keepdims=keepdims)\n"
     ]
    },
    {
     "name": "stdout",
     "output_type": "stream",
     "text": [
      "  analysing data from /home/natalie/Desktop/files/uni/PhD/SupJup/codes/retrieval_base/atm_retrieval/atm_retrieval/2M1425/freechem_PTgrad_N400_ev0.4/pmn_.txt\n"
     ]
    }
   ],
   "source": [
    "retrieval2=Retrieval(target=Target('2M1425'),parameters=parameters,\n",
    "                    output_name=output,chemistry=chem,\n",
    "                    cloud_mode=cloud_mode,GP=GP,PT_type=PT_type)\n",
    "retrieval2.evaluate()\n",
    "#import figures as figs\n",
    "#figs.compare_two(retrieval,retrieval2)"
   ]
  },
  {
   "cell_type": "code",
   "execution_count": 10,
   "metadata": {},
   "outputs": [
    {
     "data": {
      "text/plain": [
       "(647.0056393424456, 36.07429433880975)"
      ]
     },
     "execution_count": 10,
     "metadata": {},
     "output_type": "execute_result"
    }
   ],
   "source": [
    "import numpy as np\n",
    "def compare_evidence(ln_Z_A,ln_Z_B):\n",
    "    '''\n",
    "    Convert log-evidences of two models to a sigma confidence level\n",
    "    Originally from Benneke & Seager (2013)\n",
    "    Adapted from samderegt/retrieval_base\n",
    "    '''\n",
    "\n",
    "    from scipy.special import lambertw as W\n",
    "    from scipy.special import erfcinv\n",
    "\n",
    "    ln_B = ln_Z_A-ln_Z_B\n",
    "    sign=1\n",
    "    if ln_B<0:\n",
    "        sign=-1\n",
    "        ln_B*=sign\n",
    "    p = np.real(np.exp(W((-1.0/(np.exp(ln_B)*np.exp(1))),-1)))\n",
    "    sigma = np.sqrt(2)*erfcinv(p)\n",
    "    return ln_B*sign,sigma*sign\n",
    "\n",
    "lnZ= 167251.46782319646\n",
    "lnZ_HF= 167898.4734625389\n",
    "compare_evidence(lnZ,lnZ_HF)"
   ]
  },
  {
   "cell_type": "code",
   "execution_count": 12,
   "metadata": {},
   "outputs": [
    {
     "ename": "NameError",
     "evalue": "name 'retrieval' is not defined",
     "output_type": "error",
     "traceback": [
      "\u001b[0;31m---------------------------------------------------------------------------\u001b[0m",
      "\u001b[0;31mNameError\u001b[0m                                 Traceback (most recent call last)",
      "\u001b[0;32m<ipython-input-12-75ee8fda51d7>\u001b[0m in \u001b[0;36m<module>\u001b[0;34m\u001b[0m\n\u001b[0;32m----> 1\u001b[0;31m \u001b[0mretrieval\u001b[0m\u001b[0;34m.\u001b[0m\u001b[0mfinal_params\u001b[0m\u001b[0;34m\u001b[0m\u001b[0;34m\u001b[0m\u001b[0m\n\u001b[0m",
      "\u001b[0;31mNameError\u001b[0m: name 'retrieval' is not defined"
     ]
    }
   ],
   "source": [
    "retrieval.final_params"
   ]
  },
  {
   "cell_type": "code",
   "execution_count": 13,
   "metadata": {},
   "outputs": [
    {
     "data": {
      "text/plain": [
       "{'rv': 5.427544891610722,\n",
       " 'rv_err': (-0.06123101171666345, 0.06436143325772203),\n",
       " 'rv_bf': 5.350368719347969,\n",
       " 'vsini': 32.796589826226935,\n",
       " 'vsini_err': (-0.14599098621172857, 0.16615147049439827),\n",
       " 'vsini_bf': 32.69333809984731,\n",
       " 'log_g': 4.834052035564744,\n",
       " 'log_g_err': (-0.05188758930216952, 0.05619431632564176),\n",
       " 'log_g_bf': 4.841740937906182,\n",
       " 'epsilon_limb': 0.8577908832621695,\n",
       " 'epsilon_limb_err': (-0.025182121600887397, 0.02899101252920422),\n",
       " 'epsilon_limb_bf': 0.8456588033669117,\n",
       " 'dlnT_dlnP_0': 0.1886384235763101,\n",
       " 'dlnT_dlnP_0_err': (-0.09004876810713845, 0.09112191426474558),\n",
       " 'dlnT_dlnP_0_bf': 0.17914395305816413,\n",
       " 'dlnT_dlnP_1': 0.13862962197521653,\n",
       " 'dlnT_dlnP_1_err': (-0.06773092806111285, 0.08183009748913098),\n",
       " 'dlnT_dlnP_1_bf': 0.07957096003487979,\n",
       " 'dlnT_dlnP_2': 0.02115663282605522,\n",
       " 'dlnT_dlnP_2_err': (-0.006742061427912281, 0.008121187280679523),\n",
       " 'dlnT_dlnP_2_bf': 0.016216275451631595,\n",
       " 'dlnT_dlnP_3': 0.088307136133925,\n",
       " 'dlnT_dlnP_3_err': (-0.0028797872177736827, 0.00285024257555877),\n",
       " 'dlnT_dlnP_3_bf': 0.08900298642165659,\n",
       " 'dlnT_dlnP_4': 0.16385280567813587,\n",
       " 'dlnT_dlnP_4_err': (-0.056738996250923976, 0.04660324268233809),\n",
       " 'dlnT_dlnP_4_bf': 0.18875260561508972,\n",
       " 'T0': 3185.0267408242003,\n",
       " 'T0_err': (-263.0890554912471, 250.65357820226654),\n",
       " 'T0_bf': 3314.7127675774714,\n",
       " 'log_opa_base_gray': -5.3945714515492025,\n",
       " 'log_opa_base_gray_err': (-2.1857947657584935, 2.477607267779547),\n",
       " 'log_opa_base_gray_bf': -4.332943062934224,\n",
       " 'log_P_base_gray': -2.3794764527655645,\n",
       " 'log_P_base_gray_err': (-1.8695692708806155, 2.1465999017218285),\n",
       " 'log_P_base_gray_bf': -1.3015123279516363,\n",
       " 'fsed_gray': 11.353733072254377,\n",
       " 'fsed_gray_err': (-4.727491649039768, 4.256957393147516),\n",
       " 'fsed_gray_bf': 13.058704167777664,\n",
       " 'log_a': 0.03890436864172897,\n",
       " 'log_a_err': (-0.005648589655039532, 0.00708045871397818),\n",
       " 'log_a_bf': 0.037820071644184994,\n",
       " 'log_l': -0.841888638827923,\n",
       " 'log_l_err': (-0.012313826368068215, 0.011512796585373408),\n",
       " 'log_l_bf': -0.8387774525728973,\n",
       " 'log_H2O': -3.241250320987529,\n",
       " 'log_H2O_err': (-0.03548238893243427, 0.03900507385927465),\n",
       " 'log_H2O_bf': -3.257852164031899,\n",
       " 'log_12CO': -2.8603766935295543,\n",
       " 'log_12CO_err': (-0.04375659964267875, 0.040065510901466705),\n",
       " 'log_12CO_bf': -2.862959572289599,\n",
       " 'log_13CO': -4.880549578441395,\n",
       " 'log_13CO_err': (-0.12352275785892264, 0.10169703860391177),\n",
       " 'log_13CO_bf': -4.832846111559978,\n",
       " 'log_C18O': -9.316524421962386,\n",
       " 'log_C18O_err': (-1.2736391700078507, 1.390699881670705),\n",
       " 'log_C18O_bf': -8.64466408175673,\n",
       " 'log_C17O': -8.901730750267255,\n",
       " 'log_C17O_err': (-1.4320667831435951, 1.5158010160802222),\n",
       " 'log_C17O_bf': -8.169108334409785,\n",
       " 'log_CH4': -8.531546603994014,\n",
       " 'log_CH4_err': (-1.5155781755752784, 1.449927635802319),\n",
       " 'log_CH4_bf': -8.73581012704442,\n",
       " 'log_NH3': -8.714223676986391,\n",
       " 'log_NH3_err': (-1.3790130618572167, 1.0085765850556454),\n",
       " 'log_NH3_bf': -8.846131674756545,\n",
       " 'log_HCN': -9.110749592436338,\n",
       " 'log_HCN_err': (-1.5228348859001422, 1.6973974568595773),\n",
       " 'log_HCN_bf': -9.925309088923179,\n",
       " 'log_HF': -7.392068193026084,\n",
       " 'log_HF_err': (-0.17347216777047425, 0.16488803086296677),\n",
       " 'log_HF_bf': -7.37556593909604,\n",
       " 'log_H2(18)O': -8.519143762017679,\n",
       " 'log_H2(18)O_err': (-1.6445009095169905, 1.7949687677217696),\n",
       " 'log_H2(18)O_bf': -5.657455576858172,\n",
       " 'log_H2S': -8.858124358473766,\n",
       " 'log_H2S_err': (-1.5974173778351233, 1.797977245696467),\n",
       " 'log_H2S_bf': -6.577739177468101,\n",
       " '12CO/13CO': 104.75454742887337,\n",
       " '12CO/C18O': 2858562.738962585,\n",
       " '12CO/C17O': 1099902.1646032687,\n",
       " 'H2O/H2(18)O': 189624.06004566132,\n",
       " 'Fe/H': 0.45401424617503366,\n",
       " 'C/O': 0.7081673477192377,\n",
       " 'phi_ij': array([[[1.        ],\n",
       "         [0.81790568],\n",
       "         [0.61762618]],\n",
       " \n",
       "        [[0.81791944],\n",
       "         [0.81556212],\n",
       "         [0.8085401 ]],\n",
       " \n",
       "        [[0.77151592],\n",
       "         [0.79269929],\n",
       "         [0.81716831]],\n",
       " \n",
       "        [[0.8325992 ],\n",
       "         [0.85064982],\n",
       "         [0.87561785]],\n",
       " \n",
       "        [[0.87761716],\n",
       "         [0.88696918],\n",
       "         [0.89295343]],\n",
       " \n",
       "        [[0.89117553],\n",
       "         [0.90381223],\n",
       "         [0.93339757]],\n",
       " \n",
       "        [[1.04396397],\n",
       "         [1.14652966],\n",
       "         [1.25006533]]]),\n",
       " 's2_ij': array([[1.00000000e+00, 8.95995024e+02, 9.83028966e+02],\n",
       "        [9.94389190e+02, 7.48686904e+02, 6.91576595e+02],\n",
       "        [8.11654955e+02, 7.90318788e+02, 7.09607927e+02],\n",
       "        [8.06350875e+02, 8.28859709e+02, 8.60856464e+02],\n",
       "        [9.85709856e+02, 9.81041156e+02, 9.95474231e+02],\n",
       "        [1.14748382e+03, 1.10486604e+03, 1.15026747e+03],\n",
       "        [1.36337106e+03, 1.46057522e+03, 1.47830821e+03]]),\n",
       " 'lnBm_H2O': 2.4801349860208575,\n",
       " 'sigma_H2O': 2.7463590474713513}"
      ]
     },
     "execution_count": 13,
     "metadata": {},
     "output_type": "execute_result"
    }
   ],
   "source": [
    "import pickle\n",
    "import pathlib\n",
    "path=pathlib.Path('/home/natalie/Desktop/atm_retrieval/2M1425/freechem_PTgrad_N400_ev0.3/final_params_dict.pickle')\n",
    "with open(path,'rb') as file:\n",
    "    final_params=pickle.load(file)\n",
    "final_params"
   ]
  },
  {
   "cell_type": "code",
   "execution_count": 26,
   "metadata": {},
   "outputs": [
    {
     "data": {
      "text/plain": [
       "(0.05974278284146701, 0.05072152823398621)"
      ]
     },
     "execution_count": 26,
     "metadata": {},
     "output_type": "execute_result"
    }
   ],
   "source": [
    "def error_propagation_division(f,A,Ame,Ape,B,Bme,Bpe):\n",
    "    fme=np.sqrt(f**2*((Ame/A)**2+(Bme/B)**2)) # minus error of f when f=A*B\n",
    "    fpe=np.sqrt(f**2*((Ape/A)**2+(Bpe/B)**2)) # plus error of f when f=A*B\n",
    "    return fme,fpe\n",
    "\n",
    "VMR_12CO=(final_params['log_12CO'])\n",
    "VMR_12CO_me=(final_params['log_12CO_err'][0]) # minus error\n",
    "VMR_12CO_pe=(final_params['log_12CO_err'][1]) # plus error\n",
    "VMR_13CO=(final_params['log_13CO'])\n",
    "VMR_13CO_me=(final_params['log_13CO_err'][0]) # minus error\n",
    "VMR_13CO_pe=(final_params['log_13CO_err'][1]) # plus error\n",
    "C1213=VMR_12CO-VMR_13CO\n",
    "error_propagation_division(C1213,VMR_12CO,VMR_12CO_me,VMR_12CO_pe,VMR_13CO,VMR_13CO_me,VMR_13CO_pe)\n",
    "#print(10**C1213,10**fme,10**fpe)"
   ]
  },
  {
   "cell_type": "code",
   "execution_count": 30,
   "metadata": {},
   "outputs": [
    {
     "data": {
      "text/plain": [
       "{'key': 1, 'key2': 2, 'key3': 3}"
      ]
     },
     "execution_count": 30,
     "metadata": {},
     "output_type": "execute_result"
    }
   ],
   "source": [
    "dict1={'key':1}\n",
    "dict2={'key2':2,'key3':3}\n",
    "dict1.update(dict2)\n",
    "dict1"
   ]
  },
  {
   "cell_type": "code",
   "execution_count": null,
   "metadata": {},
   "outputs": [],
   "source": [
    "path=pathlib.Path('/home/natalie/Desktop/atm_retrieval/test/freechem_PTgrad_N100_ev5.0/evidence_retrievals/final_wo13CO_params_dict.pickle')\n",
    "with open(path,'rb') as file:\n",
    "    final_params=pickle.load(file)\n",
    "final_params#['sigma_13CO']"
   ]
  },
  {
   "cell_type": "markdown",
   "metadata": {},
   "source": [
    "# Fix plots"
   ]
  },
  {
   "cell_type": "code",
   "execution_count": null,
   "metadata": {},
   "outputs": [],
   "source": [
    "import matplotlib.pyplot as plt\n",
    "import cloud_cond as cloud_cond\n",
    "import numpy as np\n",
    "from labellines import labelLine, labelLines\n",
    "from matplotlib.lines import Line2D\n",
    "\n",
    "fig,ax=plt.subplots(1,1,figsize=(5,5),dpi=100)\n",
    "\n",
    "pressure = np.logspace(-6,2,50)\n",
    "\n",
    "\n",
    "#ax.plot(temperature,pressure,color='deepskyblue',lw=2)\n",
    "#ax.scatter(retrieval.final_object.t_samp,10**retrieval.final_object.p_samp,color='deepskyblue')\n",
    "#xmin=np.min(retrieval.final_object.t_samp)-100\n",
    "#xmax=np.max(retrieval.final_object.t_samp)+100\n",
    "\n",
    "ax.set(xlabel='Temperature [K]', ylabel='Pressure [bar]', yscale='log', \n",
    "    ylim=(np.nanmax(pressure),np.nanmin(pressure)))\n",
    "    #xlim=(xmin,xmax))\n",
    "\n",
    "# T=1400K, logg=4.65 -> 10**(4.65)/100 =  446 m/s²\n",
    "file=np.loadtxt('t1400g562nc_m0.0.dat')\n",
    "pres=file[:,1] # bar\n",
    "temp=file[:,2] # K\n",
    "ax.plot(temp,pres,linestyle='dashdot',c='blueviolet',linewidth=2)\n",
    "\n",
    "# https://github.com/cphyc/matplotlib-label-lines\n",
    "labelLines(ax.get_lines(),align=False,fontsize=9,drop_label=True)\n",
    "lines = [Line2D([0], [0], marker='o', color='deepskyblue', markerfacecolor='deepskyblue' ,linewidth=2, linestyle='-'),\n",
    "        Line2D([0], [0], color='blueviolet', linewidth=2, linestyle='dashdot'),\n",
    "        Line2D([0], [0], color='gold', linewidth=1.5, linestyle='--')]\n",
    "labels = ['This retrieval', 'Sonora Bobcat \\n$T=1400\\,$K, log$\\,g=4.75$','Contribution']\n",
    "ax.legend(lines,labels,fontsize=9)\n",
    "\n",
    "callback_label='live_'\n",
    "params_pm=np.load(f'{output_dir}/{callback_label}params_pm.npy')\n",
    "indices=[]\n",
    "for key in ['T1','T2','T3','T4']:\n",
    "    idx=list(params).index(key)\n",
    "    indices.append(idx)\n",
    "T_pm=np.array([params_pm[:,i] for i in indices]).T # mean, lower, upper\n",
    "lowers=T_pm[1][::-1] # reverse order so that T4,T3,T2,T1\n",
    "uppers=T_pm[2][::-1]\n",
    "from scipy.interpolate import CubicSpline\n",
    "p_samp= np.linspace(np.log10(np.nanmin(pressure)),np.log10(np.nanmax(pressure)),len(uppers))\n",
    "#sort = np.argsort(p_samp)\n",
    "lower = CubicSpline(p_samp,lowers)(np.log10(pressure))\n",
    "upper = CubicSpline(p_samp,uppers)(np.log10(pressure))\n",
    "#ax.plot(self.final_object.temperature, self.final_object.pressure,color='deepskyblue',lw=2\n",
    "ax.scatter(lowers,10**p_samp)\n",
    "ax.scatter(uppers,10**p_samp)\n",
    "ax.fill_betweenx(pressure,lower,upper,color='deepskyblue',alpha=0.2)\n",
    "#ax.plot(T_pm[0],p_samp,color='deepskyblue',lw=2)"
   ]
  },
  {
   "cell_type": "code",
   "execution_count": null,
   "metadata": {},
   "outputs": [],
   "source": [
    "import corner\n",
    "\n",
    "output_dir='/home/natalie/Desktop/PhD/SupJup/codes/retrieval_base/atm_retrieval/atm_retrieval/2M0355_test7'\n",
    "posterior=np.load(f'{output_dir}/live_posterior.npy')\n",
    "abunds=['log_H2O','log_12CO']\n",
    "indices=[]\n",
    "for key in abunds:\n",
    "    idx=list(params).index(key)\n",
    "    indices.append(idx)\n",
    "new_posterior=np.array([posterior[:,i] for i in indices]).T\n",
    "\n",
    "fig = corner.corner(new_posterior, \n",
    "                    labels=abunds, \n",
    "                    title_kwargs={'fontsize': 12},\n",
    "                    color='slateblue',\n",
    "                    linewidths=0.5,\n",
    "                    fill_contours=True,\n",
    "                    quantiles=[0.16,0.84],\n",
    "                    show_titles=True\n",
    "                    )\n",
    "\n",
    "quantiles = np.array([np.percentile(new_posterior[:,i], [16.0,50.0,84.0], axis=-1) for i in range(new_posterior.shape[1])])\n",
    "means=quantiles[:,1] # mean of all params\n",
    "uppers=quantiles[:,2]-means # +error\n",
    "lowers=quantiles[:,0]-means # -error\n",
    "corner.overplot_lines(fig, means,color='r',lw=1,linestyle='solid') # plot mean, second column\n",
    "#corner.overplot_lines(fig, means+uppers,color='c',lw=1,linestyle='solid')\n",
    "#corner.overplot_lines(fig, means+lowers,color='m',lw=1,linestyle='solid')\n"
   ]
  },
  {
   "cell_type": "markdown",
   "metadata": {},
   "source": [
    "# Check species missing in fit, lines not included in model"
   ]
  },
  {
   "cell_type": "code",
   "execution_count": null,
   "metadata": {},
   "outputs": [],
   "source": []
  },
  {
   "cell_type": "markdown",
   "metadata": {},
   "source": [
    "# Make plots for presentation"
   ]
  },
  {
   "cell_type": "code",
   "execution_count": null,
   "metadata": {},
   "outputs": [],
   "source": [
    "import getpass\n",
    "import os\n",
    "import numpy as np\n",
    "import matplotlib.pyplot as plt\n",
    "os.environ['OMP_NUM_THREADS'] = '1' # to avoid using too many CPUs\n",
    "\n",
    "if getpass.getuser() == \"grasser\": # when runnig from LEM\n",
    "    os.environ['pRT_input_data_path'] =\"/net/lem/data2/pRT_input_data\"\n",
    "    os.environ['OMP_NUM_THREADS'] = '1' # important for MPI\n",
    "    from mpi4py import MPI \n",
    "    comm = MPI.COMM_WORLD # important for MPI\n",
    "    rank = comm.Get_rank() # important for MPI\n",
    "    from atm_retrieval.target import Target\n",
    "    from atm_retrieval.likelihood import Retrieval\n",
    "    from atm_retrieval.parameters import Parameters\n",
    "    import matplotlib\n",
    "    matplotlib.use('Agg') # disable interactive plotting\n",
    "elif getpass.getuser() == \"natalie\": # when testing from my laptop\n",
    "    os.environ['pRT_input_data_path'] = \"/home/natalie/.local/lib/python3.8/site-packages/petitRADTRANS/input_data_std/input_data\"\n",
    "    from target import Target\n",
    "    from likelihood import Retrieval\n",
    "    from parameters import Parameters\n",
    "    from pRT_model import pRT_spectrum\n",
    "\n",
    "\n",
    "M0355 = Target('2M0355')\n",
    "data_wave,data_flux,data_err=M0355.load_spectrum()\n",
    "\n",
    "constant_params = {'vsini': 2, # rotational velocity\n",
    "                'rv': 11.92,\n",
    "                'log_Kzz': 7.5, # eddy diffusion parameter (atmospheric mixing)\n",
    "                'fsed': 2, # sedimentation parameter for particles\n",
    "                'P_base_gray': 1, # pressure of gray cloud deck\n",
    "                'fsed_gray': 2,\n",
    "                'opa_base_gray': 0.8, # opacity of gray cloud deck\n",
    "                'sigma_lnorm': 1.05, # width of the log-normal particle distribution of MgSiO3\n",
    "                'log_MgSiO3' : 0, # scaling wrt chem equilibrium, 0 = equilibrium abundance \n",
    "                'log_H2O': -2.9,#-2.9,\n",
    "                'log_12CO': -2.67,#-2.66,\n",
    "                'log_13CO':-4.9,\n",
    "                'log_C18O':-12, #-8.3,\n",
    "                'log_C17O':-12,  #-8.7,\n",
    "                'log_CH4':-12, #-8.6,\n",
    "                'log_NH3':-12, #-8.9,\n",
    "                'log_HCN':-12, #-8,\n",
    "                'T1' : 2500, # bottom of the atmosphere (hotter)\n",
    "                'T2' : 1500,\n",
    "                'T3' : 1270,\n",
    "                'T4' : 313, # top of atmosphere (cooler)\n",
    "                'log_g':4.95,\n",
    "                } \n",
    "\n",
    "free_params = {}\n",
    "parameters = Parameters(free_params,constant_params)\n",
    "params=parameters.params\n",
    "\n",
    "\n",
    "output='2M0355_test4'\n",
    "retrieval=Retrieval(target=M0355,parameters=parameters,output_name=output)\n",
    "atmosphere_objects=retrieval.atmosphere_objects\n",
    "\n",
    "species=retrieval.get_species(param_dict=parameters.params)\n",
    "model_flux=pRT_spectrum(parameters=params,data_wave=data_wave,target=M0355,\n",
    "                        atmosphere_objects=atmosphere_objects,species=species,\n",
    "                        free_chem=True).make_spectrum()\n"
   ]
  },
  {
   "cell_type": "code",
   "execution_count": null,
   "metadata": {},
   "outputs": [],
   "source": [
    "params_H2O=params.copy()\n",
    "params_H2O['log_12CO']=-12\n",
    "params_H2O['log_13CO']=-12\n",
    "H2O_flux=pRT_spectrum(parameters=params_H2O,data_wave=data_wave,target=M0355,\n",
    "                        atmosphere_objects=atmosphere_objects,species=species,\n",
    "                        free_chem=True).make_spectrum()\n",
    "\n",
    "params_CO=params.copy()\n",
    "params_CO['log_H2O']=-12\n",
    "params_CO['log_13CO']=-12\n",
    "CO_flux=pRT_spectrum(parameters=params_CO,data_wave=data_wave,target=M0355,\n",
    "                        atmosphere_objects=atmosphere_objects,species=species,\n",
    "                        free_chem=True).make_spectrum()"
   ]
  },
  {
   "cell_type": "code",
   "execution_count": null,
   "metadata": {},
   "outputs": [],
   "source": [
    "fig,ax=plt.subplots(2,1,figsize=(7,3),dpi=200,sharex=True)\n",
    "order=5\n",
    "det=0\n",
    "for i in range(2):\n",
    "    ax[i].plot(data_wave[order,det],data_flux[order,det],lw=1,alpha=0.8,c='k',label='data')\n",
    "    ax[i].set_xlim(np.nanmin(data_wave[order,det]),np.nanmax(data_wave[order,det]))\n",
    "    ax[i].yaxis.set_visible(False) # remove ylabels because anyway unitless\n",
    "\n",
    "ax[0].plot(data_wave[order,det],model_flux[order,det],lw=1,alpha=0.8,c='c',label='model')\n",
    "ax[1].plot(data_wave[order,det],H2O_flux[order,det],lw=1,alpha=0.8,c='tab:blue',label='H$_2$O')\n",
    "ax[1].plot(data_wave[order,det],CO_flux[order,det],lw=1,alpha=0.8,c='tab:orange',label='CO')\n",
    "\n",
    "ax[0].legend(fontsize=8)\n",
    "ax[1].legend(fontsize=8)\n",
    "ax[1].set_xlabel('Wavelength [nm]')\n",
    "fig.tight_layout(h_pad=-0.1)\n",
    "fig.savefig('/home/natalie/Desktop/PhD/SupJup/plots/spectrum.jpg')"
   ]
  },
  {
   "cell_type": "code",
   "execution_count": null,
   "metadata": {},
   "outputs": [],
   "source": [
    "fig,ax=plt.subplots(1,1,figsize=(7,2),dpi=200,sharex=True)\n",
    "order=5\n",
    "det=0\n",
    "#ax.plot(data_wave[order,det],data_flux[order,det],lw=1,alpha=0.8,c='k',label='data')\n",
    "ax.set_xlim(np.nanmin(data_wave[order,det]),np.nanmax(data_wave[order,det]))\n",
    "ax.plot(data_wave[order,det],model_flux[order,det],lw=1,alpha=0.8,c='c',label='model')\n",
    "#ax.legend(fontsize=8)\n",
    "ax.yaxis.set_visible(False) # remove ylabels because anyway unitless\n",
    "ax.set_xlabel('Wavelength [nm]')\n",
    "fig.tight_layout()\n",
    "fig.savefig('/home/natalie/Desktop/PhD/SupJup/plots/model.jpg')"
   ]
  },
  {
   "cell_type": "code",
   "execution_count": null,
   "metadata": {},
   "outputs": [],
   "source": [
    "params_bad=params.copy()\n",
    "params_bad['log_H2O']=-3.5\n",
    "params_bad['log_CO']=-2\n",
    "params_bad['vsini']=7\n",
    "params_bad['T1']=1700\n",
    "bad_flux=pRT_spectrum(parameters=params_bad,data_wave=data_wave,target=M0355,\n",
    "                        atmosphere_objects=atmosphere_objects,species=species,\n",
    "                        free_chem=True).make_spectrum()\n",
    "fig,ax=plt.subplots(1,1,figsize=(7,2),dpi=200,sharex=True)\n",
    "order=5\n",
    "det=0\n",
    "#ax.plot(data_wave[order,det],data_flux[order,det],lw=1,alpha=0.8,c='k',label='data')\n",
    "ax.set_xlim(np.nanmin(data_wave[order,det]),np.nanmax(data_wave[order,det]))\n",
    "ax.plot(data_wave[order,det],bad_flux[order,det],lw=1,alpha=1,c='c',label='model')\n",
    "#ax.legend(fontsize=8)\n",
    "ax.yaxis.set_visible(False) # remove ylabels because anyway unitless\n",
    "ax.set_xlabel('Wavelength [nm]')\n",
    "fig.tight_layout()\n",
    "fig.savefig('/home/natalie/Desktop/PhD/SupJup/plots/bad_model1.jpg')"
   ]
  }
 ],
 "metadata": {
  "kernelspec": {
   "display_name": "Python 3",
   "language": "python",
   "name": "python3"
  },
  "language_info": {
   "codemirror_mode": {
    "name": "ipython",
    "version": 3
   },
   "file_extension": ".py",
   "mimetype": "text/x-python",
   "name": "python",
   "nbconvert_exporter": "python",
   "pygments_lexer": "ipython3",
   "version": "3.8.10"
  }
 },
 "nbformat": 4,
 "nbformat_minor": 2
}
