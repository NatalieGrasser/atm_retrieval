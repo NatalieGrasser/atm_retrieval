{
 "cells": [
  {
   "cell_type": "code",
   "execution_count": 1,
   "metadata": {},
   "outputs": [
    {
     "name": "stderr",
     "output_type": "stream",
     "text": [
      "/home/natalie/.local/lib/python3.8/site-packages/numpy/lib/nanfunctions.py:1215: RuntimeWarning: Mean of empty slice\n",
      "  return np.nanmean(a, axis, out=out, keepdims=keepdims)\n"
     ]
    },
    {
     "name": "stdout",
     "output_type": "stream",
     "text": [
      "  analysing data from /home/natalie/Desktop/files/uni/PhD/SupJup/codes/retrieval_base/atm_retrieval/atm_retrieval/2M1425/freechem_PTgrad_N400_ev0.5/pmn_.txt\n"
     ]
    }
   ],
   "source": [
    "import numpy as np\n",
    "import os\n",
    "os.environ['pRT_input_data_path'] = \"/home/natalie/.local/lib/python3.8/site-packages/petitRADTRANS/input_data_std/input_data\"\n",
    "from target import Target\n",
    "from retrieval import Retrieval\n",
    "from parameters import Parameters\n",
    "import figures as figs\n",
    "\n",
    "def init_retrieval(brown_dwarf='2M0355',PT_type='PTgrad',chem='freechem',\n",
    "                   Nlive=400,tol=0.5,cloud_mode='gray',GP=True):\n",
    "\n",
    "    brown_dwarf = Target(brown_dwarf)\n",
    "    output=f'{chem}_{PT_type}_N{Nlive}_ev{tol}' # output folder name\n",
    "\n",
    "    constant_params={} # add if needed\n",
    "    free_params = {'rv': ([2,20],r'$v_{\\rm rad}$'),\n",
    "                'vsini': ([0,40],r'$v$ sin$i$'),\n",
    "                'log_g':([3,5],r'log $g$'),\n",
    "                'epsilon_limb': [(0.2,1), r'$\\epsilon_\\mathrm{limb}$']} # limb-darkening coefficient (0-1)\n",
    "\n",
    "    if PT_type=='PTknot':\n",
    "        pt_params={'T0' : ([1000,4000], r'$T_0$'), # bottom of the atmosphere (hotter)\n",
    "                'T1' : ([0,4000], r'$T_1$'),\n",
    "                'T2' : ([0,4000], r'$T_2$'),\n",
    "                'T3' : ([0,4000], r'$T_3$'),\n",
    "                'T4' : ([0,4000], r'$T_4$'),} # top of atmosphere (cooler)\n",
    "        free_params.update(pt_params)\n",
    "\n",
    "    if PT_type=='PTgrad':\n",
    "        pt_params={'dlnT_dlnP_0': ([0.,0.4], r'$\\nabla T_0$'), # gradient at T0 \n",
    "                'dlnT_dlnP_1': ([0.,0.4], r'$\\nabla T_1$'), \n",
    "                'dlnT_dlnP_2': ([0.,0.4], r'$\\nabla T_2$'), \n",
    "                'dlnT_dlnP_3': ([0.,0.4], r'$\\nabla T_3$'), \n",
    "                'dlnT_dlnP_4': ([0.,0.4], r'$\\nabla T_4$'), \n",
    "                'T0': ([1000,4000], r'$T_0$')} # at bottom of atmosphere\n",
    "        free_params.update(pt_params)\n",
    "\n",
    "    # if equilibrium chemistry, define [Fe/H], C/O, and isotopologue ratios\n",
    "    if chem=='equchem':\n",
    "        chemistry={'C/O':([0,1], r'C/O'), \n",
    "                'Fe/H': ([-1.5,1.5], r'[Fe/H]'), \n",
    "                'log_C12_13_ratio': ([1,12], r'log $\\mathrm{^{12}C/^{13}C}$'), \n",
    "                'log_O16_18_ratio': ([1,12], r'log $\\mathrm{^{16}O/^{18}O}$'), \n",
    "                'log_O16_17_ratio': ([1,12], r'log $\\mathrm{^{16}O/^{17}O}$')}\n",
    "            \n",
    "    if chem=='quequchem': # quenched equilibrium chemistry\n",
    "        chemistry={'C/O':([0,1], r'C/O'), \n",
    "                'Fe/H': ([-1.5,1.5], r'[Fe/H]'), \n",
    "                'log_C12_13_ratio': ([1,12], r'log $\\mathrm{^{12}C/^{13}C}$'), \n",
    "                'log_O16_18_ratio': ([1,12], r'log $\\mathrm{^{16}O/^{18}O}$'), \n",
    "                'log_O16_17_ratio': ([1,12], r'log $\\mathrm{^{16}O/^{17}O}$'),\n",
    "                'log_Pqu_CO_CH4': ([-6,2], r'log P$_{qu}$(CO,CH$_4$,H$_2$O)'),\n",
    "                'log_Pqu_NH3': ([-6,2], r'log P$_{qu}$(NH$_3$)'),\n",
    "                'log_Pqu_HCN': ([-6,2], r'log P$_{qu}$(HCN)')}  \n",
    "        \n",
    "    # if free chemistry, define VMRs\n",
    "    if chem=='freechem': \n",
    "        chemistry={'log_H2O':([-12,-1],r'log H$_2$O'),\n",
    "                'log_12CO':([-12,-1],r'log $^{12}$CO'),\n",
    "                'log_13CO':([-12,-1],r'log $^{13}$CO'),\n",
    "                'log_C18O':([-12,-1],r'log C$^{18}$O'),\n",
    "                'log_C17O':([-12,-1],r'log C$^{17}$O'),\n",
    "                'log_CH4':([-12,-1],r'log CH$_4$'),\n",
    "                'log_NH3':([-12,-1],r'log NH$_3$'),\n",
    "                'log_HCN':([-12,-1],r'log HCN'),\n",
    "                'log_HF':([-12,-1],r'log HF'),\n",
    "                'log_H2(18)O':([-12,-1],r'log H$_2^{18}$O'),\n",
    "                'log_H2S':([-12,-1],r'log H$_2$S')}\n",
    "        \n",
    "    if cloud_mode=='gray':\n",
    "        cloud_props={'log_opa_base_gray': ([-10,3], r'log $\\kappa_{\\mathrm{cl},0}$'),  \n",
    "                    'log_P_base_gray': ([-6,3], r'log $P_{\\mathrm{cl},0}$'), # pressure of gray cloud deck\n",
    "                    'fsed_gray': ([0,20], r'$f_\\mathrm{sed}$')} # sedimentation parameter for particles\n",
    "        free_params.update(cloud_props)\n",
    "\n",
    "    if cloud_mode=='MgSiO3':\n",
    "        cloud_props={'fsed': ([0,20], r'$f_\\mathrm{sed}$'), # sedimentation parameter for particles\n",
    "                    'sigma_lnorm': ([0.8,1.5], r'$\\sigma_{l,norm}$'), # width of the log-normal particle distribution\n",
    "                    'log_Kzz':([5,15],r'log $K_{zz}$')} # eddy diffusion parameter (atmospheric mixing)\n",
    "        free_params.update(cloud_props)\n",
    "        \n",
    "    if GP==True: # add uncertainty scaling\n",
    "        GP_params={'log_a': ([-1,1], r'$\\log\\ a$'), # one is enough, will be multipled with order/det error\n",
    "                'log_l': ([-3,0], r'$\\log\\ l$')}\n",
    "        free_params.update(GP_params)\n",
    "\n",
    "    free_params.update(chemistry)\n",
    "    parameters = Parameters(free_params, constant_params)\n",
    "    cube = np.random.rand(parameters.n_params)\n",
    "    parameters(cube)\n",
    "\n",
    "    retrieval=Retrieval(target=brown_dwarf,parameters=parameters,\n",
    "                    output_name=output,chemistry=chem,PT_type=PT_type)\n",
    "    return retrieval\n",
    "\n",
    "#retrieval=init_retrieval(brown_dwarf='2M0355',PT_type='PTgrad',chem='freechem',Nlive=400,tol=0.5)\n",
    "#retrieval.evaluate(makefigs=False)\n",
    "\n",
    "retrieval2=init_retrieval(brown_dwarf='2M1425',PT_type='PTgrad',chem='freechem',Nlive=400,tol=0.5)\n",
    "retrieval2.evaluate(makefigs=False)\n"
   ]
  },
  {
   "cell_type": "code",
   "execution_count": 2,
   "metadata": {},
   "outputs": [
    {
     "name": "stderr",
     "output_type": "stream",
     "text": [
      "/home/natalie/.local/lib/python3.8/site-packages/numpy/lib/nanfunctions.py:1215: RuntimeWarning: Mean of empty slice\n",
      "  return np.nanmean(a, axis, out=out, keepdims=keepdims)\n"
     ]
    }
   ],
   "source": [
    "figs.VMR_plot(retrieval2,comp_equ=True)"
   ]
  },
  {
   "cell_type": "code",
   "execution_count": 2,
   "metadata": {},
   "outputs": [
    {
     "name": "stdout",
     "output_type": "stream",
     "text": [
      "  analysing data from /home/natalie/Desktop/files/uni/PhD/SupJup/codes/retrieval_base/atm_retrieval/atm_retrieval/2M0355/equchem_PTgrad_N400_ev0.5/pmn_.txt\n"
     ]
    }
   ],
   "source": [
    "retrieval1=init_retrieval(brown_dwarf='2M0355',PT_type='PTgrad',chem='equchem',Nlive=400,tol=0.5)\n",
    "retrieval1.evaluate(makefigs=False)\n",
    "figs.VMR_plot(retrieval, retrieval_object2=retrieval1)\n"
   ]
  },
  {
   "cell_type": "code",
   "execution_count": 3,
   "metadata": {},
   "outputs": [
    {
     "data": {
      "text/plain": [
       "{'rv': 13.250582905650237,\n",
       " 'vsini': 3.043442653140225,\n",
       " 'log_g': 4.752514542183996,\n",
       " 'epsilon_limb': 0.7208374209733899,\n",
       " 'dlnT_dlnP_0': 0.18607612508082022,\n",
       " 'dlnT_dlnP_1': 0.24320744131937003,\n",
       " 'dlnT_dlnP_2': 0.04176788854646382,\n",
       " 'dlnT_dlnP_3': 0.045308875333507984,\n",
       " 'dlnT_dlnP_4': 0.1520234243244679,\n",
       " 'T0': 2398.4903022431427,\n",
       " 'log_opa_base_gray': -5.7891140202001825,\n",
       " 'log_P_base_gray': -2.28972803099281,\n",
       " 'fsed_gray': 11.345865727587707,\n",
       " 'log_a': 0.279061439824298,\n",
       " 'log_l': -1.7567971028554838,\n",
       " 'log_H2O': -2.9987802672284305,\n",
       " 'log_12CO': -2.7348787222107083,\n",
       " 'log_13CO': -4.716922483898317,\n",
       " 'log_C18O': -7.959108149101231,\n",
       " 'log_C17O': -9.036555915135231,\n",
       " 'log_CH4': -9.296662296200228,\n",
       " 'log_NH3': -8.970183456958985,\n",
       " 'log_HCN': -8.764322832168986,\n",
       " 'log_HF': -6.95579492161796,\n",
       " 'log_H2(18)O': -7.303118471549261,\n",
       " 'log_H2S': -4.150810056556256,\n",
       " 'rv_err': (-0.009167290215602364, 0.009478933463451966),\n",
       " 'vsini_err': (-0.08086278232456312, 0.08080681084267871),\n",
       " 'log_g_err': (-0.03369576855297929, 0.03395420561579865),\n",
       " 'epsilon_limb_err': (-0.15516095689069542, 0.14059149336108345),\n",
       " 'dlnT_dlnP_0_err': (-0.09475472350782649, 0.09139360630401316),\n",
       " 'dlnT_dlnP_1_err': (-0.0195400264814245, 0.01908387938636133),\n",
       " 'dlnT_dlnP_2_err': (-0.0017502387709135633, 0.0017664025178994666),\n",
       " 'dlnT_dlnP_3_err': (-0.0009519057455338736, 0.0012234743378410004),\n",
       " 'dlnT_dlnP_4_err': (-0.022947556562006977, 0.02498037254855015),\n",
       " 'T0_err': (-93.19700024784288, 112.47248584732188),\n",
       " 'log_opa_base_gray_err': (-2.0907279802560996, 2.2451826585775723),\n",
       " 'log_P_base_gray_err': (-1.8883805814533763, 2.0695743127627546),\n",
       " 'fsed_gray_err': (-4.147818365921382, 3.9256875695174536),\n",
       " 'log_a_err': (-0.0027604482336994196, 0.0026883754358444367),\n",
       " 'log_l_err': (-0.0028428894039862485, 0.003032530766839736),\n",
       " 'log_H2O_err': (-0.031327068223806265, 0.02639506487133847),\n",
       " 'log_12CO_err': (-0.034833958201902604, 0.02624168845172159),\n",
       " 'log_13CO_err': (-0.04350532405842511, 0.039747494984286647),\n",
       " 'log_C18O_err': (-1.9029783977800871, 1.5993529201051588),\n",
       " 'log_C17O_err': (-1.4910519518096734, 1.4145451190109455),\n",
       " 'log_CH4_err': (-1.1892296231824968, 1.1107452163326101),\n",
       " 'log_NH3_err': (-1.2697817685506632, 1.1281623550934423),\n",
       " 'log_HCN_err': (-1.482613747217238, 1.8034514744091634),\n",
       " 'log_HF_err': (-0.06061462242807725, 0.06092125058958864),\n",
       " 'log_H2(18)O_err': (-3.099892667000004, 1.4664154432486267),\n",
       " 'log_H2S_err': (-0.07473165908660473, 0.06337876131794928),\n",
       " 'log_12CO/13CO': array([1.9792178]),\n",
       " 'log_12CO/13CO_err': (array([-0.03082773]), array([0.03313663])),\n",
       " 'log_12CO/C17O': array([6.29463684]),\n",
       " 'log_12CO/C17O_err': (array([-1.41946178]), array([1.50434951])),\n",
       " 'log_12CO/C18O': array([5.22365543]),\n",
       " 'log_12CO/C18O_err': (array([-1.59992459]), array([1.90043125])),\n",
       " 'log_H2O/H2(18)O': array([4.31075303]),\n",
       " 'log_H2O/H2(18)O_err': (array([-1.48722325]), array([3.10901738])),\n",
       " 'C/O': 0.6497599357138362,\n",
       " 'C/O_err': (array([0.]), array([0.])),\n",
       " 'C/H': array([0.58013016]),\n",
       " 'C/H_err': (array([0.]), array([0.])),\n",
       " 'phi_ij': array([[[0.96303764],\n",
       "         [1.02252687],\n",
       "         [0.93289109]],\n",
       " \n",
       "        [[0.9110399 ],\n",
       "         [0.95467806],\n",
       "         [0.9099237 ]],\n",
       " \n",
       "        [[0.89599097],\n",
       "         [0.90986454],\n",
       "         [0.91557915]],\n",
       " \n",
       "        [[0.91846517],\n",
       "         [0.94838688],\n",
       "         [0.95345148]],\n",
       " \n",
       "        [[0.95104564],\n",
       "         [0.97019382],\n",
       "         [0.97936578]],\n",
       " \n",
       "        [[0.96941108],\n",
       "         [0.98128636],\n",
       "         [0.97976625]],\n",
       " \n",
       "        [[0.97408768],\n",
       "         [0.98720833],\n",
       "         [1.00532162]]]),\n",
       " 's2_ij': array([[122.26018259,  99.14523334,  95.80081153],\n",
       "        [ 90.5238462 , 194.68984262,  75.55214689],\n",
       "        [101.49162201, 113.52570291, 112.02412817],\n",
       "        [109.31291412, 108.80677053, 114.49138923],\n",
       "        [ 95.7227857 ,  88.60894768, 101.80790924],\n",
       "        [111.28756089, 100.30409662,  97.45226268],\n",
       "        [106.96099945, 117.75031959, 117.3124531 ]]),\n",
       " 'chi2': 11167.100064496053,\n",
       " 'lnZ': 63634.162014757385,\n",
       " 'Fe/H': 0.5801301602325905,\n",
       " 'log_C12_13_ratio': 1.9792177963445639,\n",
       " 'log_O16_18_ratio': 4.310753031171421,\n",
       " 'log_O16_17_ratio': 6.294636836956142}"
      ]
     },
     "execution_count": 3,
     "metadata": {},
     "output_type": "execute_result"
    }
   ],
   "source": [
    "retrieval.params_dict"
   ]
  },
  {
   "cell_type": "code",
   "execution_count": 7,
   "metadata": {},
   "outputs": [],
   "source": [
    "parameters_equ = retrieval.params_dict\n",
    "parameters_equ.update({'C/O': retrieval.params_dict['C/O'],\n",
    "                'Fe/H': retrieval.params_dict['C/H'][0],\n",
    "                'log_C12_13_ratio': retrieval.params_dict['log_12CO/13CO'][0],\n",
    "                'log_O16_18_ratio': retrieval.params_dict['log_H2O/H2(18)O'][0],\n",
    "                'log_O16_17_ratio': retrieval.params_dict['log_12CO/C17O'][0]})\n",
    "parameters_equ = Parameters({}, parameters_equ)\n",
    "parameters_equ.param_priors['log_l']=[-3,0]\n",
    "retrieval_equ = Retrieval(target=retrieval.target,parameters=parameters_equ, output_name=retrieval.output_name,\n",
    "                           chemistry='equchem',PT_type=retrieval.PT_type)\n"
   ]
  },
  {
   "cell_type": "code",
   "execution_count": 5,
   "metadata": {},
   "outputs": [
    {
     "data": {
      "text/plain": [
       "{'rv': 13.250582905650237,\n",
       " 'vsini': 3.043442653140225,\n",
       " 'log_g': 4.752514542183996,\n",
       " 'epsilon_limb': 0.7208374209733899,\n",
       " 'dlnT_dlnP_0': 0.18607612508082022,\n",
       " 'dlnT_dlnP_1': 0.24320744131937003,\n",
       " 'dlnT_dlnP_2': 0.04176788854646382,\n",
       " 'dlnT_dlnP_3': 0.045308875333507984,\n",
       " 'dlnT_dlnP_4': 0.1520234243244679,\n",
       " 'T0': 2398.4903022431427,\n",
       " 'log_opa_base_gray': -5.7891140202001825,\n",
       " 'log_P_base_gray': -2.28972803099281,\n",
       " 'fsed_gray': 11.345865727587707,\n",
       " 'log_a': 0.279061439824298,\n",
       " 'log_l': -1.7567971028554838,\n",
       " 'log_H2O': -2.9987802672284305,\n",
       " 'log_12CO': -2.7348787222107083,\n",
       " 'log_13CO': -4.716922483898317,\n",
       " 'log_C18O': -7.959108149101231,\n",
       " 'log_C17O': -9.036555915135231,\n",
       " 'log_CH4': -9.296662296200228,\n",
       " 'log_NH3': -8.970183456958985,\n",
       " 'log_HCN': -8.764322832168986,\n",
       " 'log_HF': -6.95579492161796,\n",
       " 'log_H2(18)O': -7.303118471549261,\n",
       " 'log_H2S': -4.150810056556256,\n",
       " 'rv_err': (-0.009167290215602364, 0.009478933463451966),\n",
       " 'vsini_err': (-0.08086278232456312, 0.08080681084267871),\n",
       " 'log_g_err': (-0.03369576855297929, 0.03395420561579865),\n",
       " 'epsilon_limb_err': (-0.15516095689069542, 0.14059149336108345),\n",
       " 'dlnT_dlnP_0_err': (-0.09475472350782649, 0.09139360630401316),\n",
       " 'dlnT_dlnP_1_err': (-0.0195400264814245, 0.01908387938636133),\n",
       " 'dlnT_dlnP_2_err': (-0.0017502387709135633, 0.0017664025178994666),\n",
       " 'dlnT_dlnP_3_err': (-0.0009519057455338736, 0.0012234743378410004),\n",
       " 'dlnT_dlnP_4_err': (-0.022947556562006977, 0.02498037254855015),\n",
       " 'T0_err': (-93.19700024784288, 112.47248584732188),\n",
       " 'log_opa_base_gray_err': (-2.0907279802560996, 2.2451826585775723),\n",
       " 'log_P_base_gray_err': (-1.8883805814533763, 2.0695743127627546),\n",
       " 'fsed_gray_err': (-4.147818365921382, 3.9256875695174536),\n",
       " 'log_a_err': (-0.0027604482336994196, 0.0026883754358444367),\n",
       " 'log_l_err': (-0.0028428894039862485, 0.003032530766839736),\n",
       " 'log_H2O_err': (-0.031327068223806265, 0.02639506487133847),\n",
       " 'log_12CO_err': (-0.034833958201902604, 0.02624168845172159),\n",
       " 'log_13CO_err': (-0.04350532405842511, 0.039747494984286647),\n",
       " 'log_C18O_err': (-1.9029783977800871, 1.5993529201051588),\n",
       " 'log_C17O_err': (-1.4910519518096734, 1.4145451190109455),\n",
       " 'log_CH4_err': (-1.1892296231824968, 1.1107452163326101),\n",
       " 'log_NH3_err': (-1.2697817685506632, 1.1281623550934423),\n",
       " 'log_HCN_err': (-1.482613747217238, 1.8034514744091634),\n",
       " 'log_HF_err': (-0.06061462242807725, 0.06092125058958864),\n",
       " 'log_H2(18)O_err': (-3.099892667000004, 1.4664154432486267),\n",
       " 'log_H2S_err': (-0.07473165908660473, 0.06337876131794928),\n",
       " 'log_12CO/13CO': array([1.9792178]),\n",
       " 'log_12CO/13CO_err': (array([-0.03082773]), array([0.03313663])),\n",
       " 'log_12CO/C17O': array([6.29463684]),\n",
       " 'log_12CO/C17O_err': (array([-1.41946178]), array([1.50434951])),\n",
       " 'log_12CO/C18O': array([5.22365543]),\n",
       " 'log_12CO/C18O_err': (array([-1.59992459]), array([1.90043125])),\n",
       " 'log_H2O/H2(18)O': array([4.31075303]),\n",
       " 'log_H2O/H2(18)O_err': (array([-1.48722325]), array([3.10901738])),\n",
       " 'C/O': 0.6497599357138362,\n",
       " 'C/O_err': (array([0.]), array([0.])),\n",
       " 'C/H': array([0.58013016]),\n",
       " 'C/H_err': (array([0.]), array([0.])),\n",
       " 'phi_ij': array([[[0.96303764],\n",
       "         [1.02252687],\n",
       "         [0.93289109]],\n",
       " \n",
       "        [[0.9110399 ],\n",
       "         [0.95467806],\n",
       "         [0.9099237 ]],\n",
       " \n",
       "        [[0.89599097],\n",
       "         [0.90986454],\n",
       "         [0.91557915]],\n",
       " \n",
       "        [[0.91846517],\n",
       "         [0.94838688],\n",
       "         [0.95345148]],\n",
       " \n",
       "        [[0.95104564],\n",
       "         [0.97019382],\n",
       "         [0.97936578]],\n",
       " \n",
       "        [[0.96941108],\n",
       "         [0.98128636],\n",
       "         [0.97976625]],\n",
       " \n",
       "        [[0.97408768],\n",
       "         [0.98720833],\n",
       "         [1.00532162]]]),\n",
       " 's2_ij': array([[122.26018259,  99.14523334,  95.80081153],\n",
       "        [ 90.5238462 , 194.68984262,  75.55214689],\n",
       "        [101.49162201, 113.52570291, 112.02412817],\n",
       "        [109.31291412, 108.80677053, 114.49138923],\n",
       "        [ 95.7227857 ,  88.60894768, 101.80790924],\n",
       "        [111.28756089, 100.30409662,  97.45226268],\n",
       "        [106.96099945, 117.75031959, 117.3124531 ]]),\n",
       " 'chi2': 11167.100064496053,\n",
       " 'lnZ': 63634.162014757385,\n",
       " 'Fe/H': 0.5801301602325905,\n",
       " 'log_C12_13_ratio': 1.9792177963445639,\n",
       " 'log_O16_18_ratio': 4.310753031171421,\n",
       " 'log_O16_17_ratio': 6.294636836956142}"
      ]
     },
     "execution_count": 5,
     "metadata": {},
     "output_type": "execute_result"
    }
   ],
   "source": [
    "parameters_equ.params"
   ]
  },
  {
   "cell_type": "code",
   "execution_count": 8,
   "metadata": {},
   "outputs": [
    {
     "data": {
      "text/plain": [
       "0.6497599357138362"
      ]
     },
     "execution_count": 8,
     "metadata": {},
     "output_type": "execute_result"
    }
   ],
   "source": [
    "retrieval.params_dict['C/O']"
   ]
  },
  {
   "cell_type": "code",
   "execution_count": 10,
   "metadata": {},
   "outputs": [
    {
     "name": "stdout",
     "output_type": "stream",
     "text": [
      "18.01468\n",
      "28.01\n",
      "29.002355\n",
      "30.010161\n",
      "29.010131\n",
      "16.04236\n",
      "17.03022\n",
      "27.02554\n",
      "20.014841\n",
      "34.08068\n",
      "44.009\n",
      "20.006243\n",
      "17.00684\n"
     ]
    }
   ],
   "source": [
    "import pandas as pd\n",
    "\n",
    "species_info = pd.read_csv(os.path.join('species_info.csv'))\n",
    "for spec in retrieval.chem_species:\n",
    "    mass=species_info.loc[species_info[\"name\"]==spec]['mass'].values[0]\n",
    "    print(mass)\n"
   ]
  },
  {
   "cell_type": "code",
   "execution_count": null,
   "metadata": {},
   "outputs": [
    {
     "data": {
      "text/plain": [
       "{'SNR_13CO': 12.504598284455263}"
      ]
     },
     "execution_count": 14,
     "metadata": {},
     "output_type": "execute_result"
    }
   ],
   "source": [
    "import pathlib\n",
    "import pickle\n",
    "import numpy as np\n",
    "\n",
    "path=pathlib.Path('/home/natalie/Desktop/atm_retrieval/2M0355/freechem_PTgrad_N400_ev0.5/params_dict.pickle')\n",
    "with open(path,'rb') as file:\n",
    "    final_params=pickle.load(file)\n",
    "retrieval.params_dict=final_params\n",
    "retrieval.cross_correlation('13CO')"
   ]
  },
  {
   "cell_type": "code",
   "execution_count": null,
   "metadata": {},
   "outputs": [],
   "source": []
  },
  {
   "cell_type": "code",
   "execution_count": 16,
   "metadata": {},
   "outputs": [
    {
     "ename": "AttributeError",
     "evalue": "'Retrieval' object has no attribute 'CCF_list'",
     "output_type": "error",
     "traceback": [
      "\u001b[0;31m---------------------------------------------------------------------------\u001b[0m",
      "\u001b[0;31mAttributeError\u001b[0m                            Traceback (most recent call last)",
      "\u001b[0;32m<ipython-input-16-b3f29d637c17>\u001b[0m in \u001b[0;36m<module>\u001b[0;34m\u001b[0m\n\u001b[1;32m      5\u001b[0m \u001b[0mretrieval2\u001b[0m\u001b[0;34m.\u001b[0m\u001b[0mcross_correlation\u001b[0m\u001b[0;34m(\u001b[0m\u001b[0;34m'13CO'\u001b[0m\u001b[0;34m)\u001b[0m\u001b[0;34m\u001b[0m\u001b[0;34m\u001b[0m\u001b[0m\n\u001b[1;32m      6\u001b[0m \u001b[0;34m\u001b[0m\u001b[0m\n\u001b[0;32m----> 7\u001b[0;31m \u001b[0mfigs\u001b[0m\u001b[0;34m.\u001b[0m\u001b[0mcompare_two_CCFs\u001b[0m\u001b[0;34m(\u001b[0m\u001b[0mretrieval\u001b[0m\u001b[0;34m,\u001b[0m\u001b[0mretrieval2\u001b[0m\u001b[0;34m,\u001b[0m\u001b[0;34m'13CO'\u001b[0m\u001b[0;34m)\u001b[0m\u001b[0;34m\u001b[0m\u001b[0;34m\u001b[0m\u001b[0m\n\u001b[0m",
      "\u001b[0;32m~/Desktop/files/uni/PhD/SupJup/codes/retrieval_base/atm_retrieval/atm_retrieval/figures.py\u001b[0m in \u001b[0;36mcompare_two_CCFs\u001b[0;34m(retrieval_object1, retrieval_object2, molecules, noiserange)\u001b[0m\n\u001b[1;32m    757\u001b[0m     \u001b[0;32mfor\u001b[0m \u001b[0mi\u001b[0m\u001b[0;34m,\u001b[0m\u001b[0mmolecule\u001b[0m \u001b[0;32min\u001b[0m \u001b[0menumerate\u001b[0m\u001b[0;34m(\u001b[0m\u001b[0mmolecules\u001b[0m\u001b[0;34m)\u001b[0m\u001b[0;34m:\u001b[0m\u001b[0;34m\u001b[0m\u001b[0;34m\u001b[0m\u001b[0m\n\u001b[1;32m    758\u001b[0m \u001b[0;34m\u001b[0m\u001b[0m\n\u001b[0;32m--> 759\u001b[0;31m         \u001b[0mCCF_norm1\u001b[0m\u001b[0;34m=\u001b[0m\u001b[0mretrieval_object1\u001b[0m\u001b[0;34m.\u001b[0m\u001b[0mCCF_list\u001b[0m\u001b[0;34m[\u001b[0m\u001b[0mi\u001b[0m\u001b[0;34m]\u001b[0m\u001b[0;34m\u001b[0m\u001b[0;34m\u001b[0m\u001b[0m\n\u001b[0m\u001b[1;32m    760\u001b[0m         \u001b[0mACF_norm1\u001b[0m\u001b[0;34m=\u001b[0m\u001b[0mretrieval_object1\u001b[0m\u001b[0;34m.\u001b[0m\u001b[0mACF_list\u001b[0m\u001b[0;34m[\u001b[0m\u001b[0mi\u001b[0m\u001b[0;34m]\u001b[0m\u001b[0;34m\u001b[0m\u001b[0;34m\u001b[0m\u001b[0m\n\u001b[1;32m    761\u001b[0m         \u001b[0mSNR1\u001b[0m\u001b[0;34m=\u001b[0m\u001b[0mCCF_norm1\u001b[0m\u001b[0;34m[\u001b[0m\u001b[0mnp\u001b[0m\u001b[0;34m.\u001b[0m\u001b[0mwhere\u001b[0m\u001b[0;34m(\u001b[0m\u001b[0mRVs\u001b[0m\u001b[0;34m==\u001b[0m\u001b[0;36m0\u001b[0m\u001b[0;34m)\u001b[0m\u001b[0;34m[\u001b[0m\u001b[0;36m0\u001b[0m\u001b[0;34m]\u001b[0m\u001b[0;34m[\u001b[0m\u001b[0;36m0\u001b[0m\u001b[0;34m]\u001b[0m\u001b[0;34m]\u001b[0m\u001b[0;34m\u001b[0m\u001b[0;34m\u001b[0m\u001b[0m\n",
      "\u001b[0;31mAttributeError\u001b[0m: 'Retrieval' object has no attribute 'CCF_list'"
     ]
    }
   ],
   "source": [
    "path=pathlib.Path('/home/natalie/Desktop/atm_retrieval/2M1425/freechem_PTgrad_N400_ev0.5/params_dict.pickle')\n",
    "with open(path,'rb') as file:\n",
    "    final_params2=pickle.load(file)\n",
    "retrieval2.params_dict=final_params2\n",
    "retrieval2.cross_correlation('13CO')\n",
    "\n",
    "figs.compare_two_CCFs(retrieval,retrieval2,'13CO')"
   ]
  },
  {
   "cell_type": "markdown",
   "metadata": {},
   "source": [
    "# Clouds"
   ]
  },
  {
   "cell_type": "code",
   "execution_count": null,
   "metadata": {},
   "outputs": [
    {
     "name": "stdout",
     "output_type": "stream",
     "text": [
      "[[1.e-07 1.e+01 1.e+01 1.e+01 1.e+01]\n",
      " [1.e-07 1.e+01 1.e+01 1.e+01 1.e+01]]\n",
      "[1.e-06 1.e-04 1.e-02 1.e+00 1.e+02]\n"
     ]
    }
   ],
   "source": [
    "# shouldn't opacity below cloud be high, to block all emission from deeper layers?\n",
    "# if it's zero, there is effectively no cloud\n",
    "\n",
    "import numpy as np\n",
    "\n",
    "params={'log_P_base_gray':-4,'log_opa_base_gray':1,'fsed_gray':4}\n",
    "wave_micron=np.linspace(1,3,2)\n",
    "pressure = np.logspace(-6,2,5)\n",
    "opa_gray_cloud = np.zeros((len(wave_micron),len(pressure))) # gray cloud = independent of wavelength\n",
    "opa_gray_cloud[:,pressure>10**(params['log_P_base_gray'])] = 10**(params['log_opa_base_gray']) # [bar] constant below cloud base\n",
    "# Opacity decreases with power-law above the base\n",
    "above_clouds = (pressure<=10**(params['log_P_base_gray']))\n",
    "opa_gray_cloud[:,above_clouds]=(10**(params['log_opa_base_gray']))*(pressure[above_clouds]/10**(params['log_P_base_gray']))**params['fsed_gray']\n",
    "\n",
    "print(opa_gray_cloud)\n",
    "print(pressure)"
   ]
  },
  {
   "cell_type": "markdown",
   "metadata": {},
   "source": [
    "# Table for paper"
   ]
  },
  {
   "cell_type": "code",
   "execution_count": 10,
   "metadata": {},
   "outputs": [],
   "source": [
    "import pathlib\n",
    "import pickle\n",
    "import numpy as np\n",
    "\n",
    "path=pathlib.Path('/home/natalie/Desktop/atm_retrieval/2M0355/freechem_PTgrad_N400_ev0.5/params_dict.pickle')\n",
    "with open(path,'rb') as file:\n",
    "    final_params=pickle.load(file)\n",
    "\n",
    "path=pathlib.Path('/home/natalie/Desktop/atm_retrieval/2M1425/freechem_PTgrad_N400_ev0.5/params_dict.pickle')\n",
    "with open(path,'rb') as file:\n",
    "    final_params2=pickle.load(file)"
   ]
  },
  {
   "cell_type": "code",
   "execution_count": 11,
   "metadata": {},
   "outputs": [
    {
     "name": "stdout",
     "output_type": "stream",
     "text": [
      "C/O & 0.649 $^{+ 0.006 }_{ -0.006 }$ & 0.658 $^{+ 0.003 }_{ -0.003 }$ \\\\\n",
      "$[$C/H$]$ & 0.58 $^{+ 0.026 }_{ -0.035 }$ & 0.395 $^{+ 0.01 }_{ -0.013 }$ \\\\\n",
      "log $^{12}$CO/$^{13}$CO & 1.979 $^{+ 0.033 }_{ -0.031 }$ & 2.037 $^{+ 0.037 }_{ -0.036 }$ \\\\\n",
      "log $^{12}$CO/C$^{17}$O & 6.295 $^{+ 1.504 }_{ -1.419 }$ & 5.524 $^{+ 1.387 }_{ -1.174 }$ \\\\\n",
      "log $^{12}$CO/C$^{18}$O & 5.224 $^{+ 1.9 }_{ -1.6 }$ & 6.306 $^{+ 1.312 }_{ -1.396 }$ \\\\\n",
      "log H$_2$O/H$_2^{18}$O & 4.311 $^{+ 3.109 }_{ -1.487 }$ & 2.708 $^{+ 3.052 }_{ -0.204 }$ \\\\\n"
     ]
    }
   ],
   "source": [
    "dec=3\n",
    "table=[\"C/O &\",\"$[$C/H$]$ &\",\"log $^{12}$CO/$^{13}$CO &\",\"log $^{12}$CO/C$^{17}$O &\",\n",
    "       \"log $^{12}$CO/C$^{18}$O &\",\"log H$_2$O/H$_2^{18}$O &\"]\n",
    "ratios=[\"C/O\",\"C/H\",'log_12CO/13CO','log_12CO/C17O','log_12CO/C18O','log_H2O/H2(18)O']\n",
    "\n",
    "for i,r in enumerate(ratios):\n",
    "      print(table[i],np.round(final_params[r][0],decimals=dec),\n",
    "              \"$^{+\",np.round(final_params[f'{r}_err'][1][0],decimals=dec),\"}_{\",\n",
    "              np.round(final_params[f'{r}_err'][0][0],decimals=dec),\"}$ &\",\n",
    "              np.round(final_params2[r][0],decimals=dec),\n",
    "              \"$^{+\",np.round(final_params2[f'{r}_err'][1][0],decimals=dec),\"}_{\",\n",
    "              np.round(final_params2[f'{r}_err'][0][0],decimals=dec),\"}$ \\\\\\\\\")"
   ]
  },
  {
   "cell_type": "code",
   "execution_count": 12,
   "metadata": {},
   "outputs": [
    {
     "name": "stdout",
     "output_type": "stream",
     "text": [
      "$^{13}$CO & 12.44 & 13.41 & 3.54 & 7.98 \\\\\n",
      "HF & 16.87 & 11.64 & 5.46 & 15.81 \\\\\n",
      "H$_2$S & 6.21 & 4.63 & -0.53 & 9.28 \\\\\n",
      "H$_2^{18}$O & 2.58 & 1.14 & 1.47 & 3.05 \\\\\n",
      "CH$_4$ & -0.67 & 2.2 & 4.89 & 5.49 \\\\\n"
     ]
    }
   ],
   "source": [
    "import pathlib\n",
    "import pickle\n",
    "import numpy as np\n",
    "\n",
    "path=pathlib.Path('/home/natalie/Desktop/atm_retrieval/2M0355/freechem_PTgrad_N400_ev0.5/evidence_dict.pickle')\n",
    "with open(path,'rb') as file:\n",
    "    evidence=pickle.load(file)\n",
    "\n",
    "path=pathlib.Path('/home/natalie/Desktop/atm_retrieval/2M1425/freechem_PTgrad_N400_ev0.5/evidence_dict.pickle')\n",
    "with open(path,'rb') as file:\n",
    "    evidence2=pickle.load(file)\n",
    "\n",
    "dec=2\n",
    "table=[\"$^{13}$CO\",'HF','H$_2$S','H$_2^{18}$O','CH$_4$']\n",
    "molec=['13CO','HF','H2S','H2(18)O', 'CH4']\n",
    "\n",
    "for i,m in enumerate(molec):\n",
    "      print(table[i],'&',\n",
    "            np.round(final_params[f'SNR_{m}'],decimals=dec),\"&\",\n",
    "            np.round(evidence[f'sigma_{m}'],decimals=dec),\"&\",\n",
    "            np.round(final_params2[f'SNR_{m}'],decimals=dec),\"&\",\n",
    "            np.round(evidence2[f'sigma_{m}'],decimals=dec),\"\\\\\\\\\")"
   ]
  },
  {
   "cell_type": "code",
   "execution_count": 4,
   "metadata": {},
   "outputs": [
    {
     "name": "stdout",
     "output_type": "stream",
     "text": [
      "$v_{\\text{rad}}$ [km/s] & Radial velocity & $\\mathcal{U}$(2,20) & 13.251 $^{+ 0.009 }_{ -0.009 }$ & 5.538 $^{+ 0.045 }_{ -0.046 }$ \\\\\n",
      "$v\\text{sin}i$ [km/s] & Projected rotational velocity & $\\mathcal{U}$(0,40) & 3.043 $^{+ 0.081 }_{ -0.081 }$ & 31.575 $^{+ 0.186 }_{ -0.232 }$ \\\\\n",
      "log $g$ [cm/s$^2$] & Surface gravity & $\\mathcal{U}$(3,5) & 4.753 $^{+ 0.034 }_{ -0.034 }$ & 4.975 $^{+ 0.01 }_{ -0.011 }$ \\\\\n",
      "$\\epsilon_\\mathrm{limb}$ & Limb-darkening coefficient & $\\mathcal{U}$(0.2,1) & 0.721 $^{+ 0.141 }_{ -0.155 }$ & 0.741 $^{+ 0.036 }_{ -0.048 }$ \\\\\n",
      "\\hline\n",
      "log H$_2$O & log$_{10}$ VMR of H$_2$O & $\\mathcal{U}$(-12,-1) &  -2.999 $^{+ 0.026 }_{ -0.031 }$ & -3.197 $^{+ 0.008 }_{ -0.01 }$ \\\\\n",
      "log $^{12}$CO & log$_{10}$ VMR of $^{12}$CO & $\\mathcal{U}$(-12,-1) & -2.735 $^{+ 0.026 }_{ -0.035 }$ & -2.92 $^{+ 0.01 }_{ -0.013 }$ \\\\\n",
      "log $^{13}$CO & log$_{10}$ VMR of $^{13}$CO & $\\mathcal{U}$(-12,-1) &  -4.717 $^{+ 0.04 }_{ -0.044 }$ & -4.958 $^{+ 0.037 }_{ -0.039 }$ \\\\\n",
      "log C$^{18}$O & log$_{10}$ VMR of C$^{18}$O & $\\mathcal{U}$(-12,-1) & -7.959 $^{+ 1.599 }_{ -1.903 }$ & -9.224 $^{+ 1.381 }_{ -1.314 }$ \\\\\n",
      "log C$^{17}$O & log$_{10}$ VMR of C$^{17}$O & $\\mathcal{U}$(-12,-1) & -9.037 $^{+ 1.415 }_{ -1.491 }$ & -8.445 $^{+ 1.178 }_{ -1.396 }$ \\\\\n",
      "log CH$_4$ & log$_{10}$ VMR of CH$_4$ & $\\mathcal{U}$(-12,-1) & -9.297 $^{+ 1.111 }_{ -1.189 }$ & -5.345 $^{+ 0.05 }_{ -0.078 }$ \\\\\n",
      "log NH$_3$ & log$_{10}$ VMR of NH$_3$ & $\\mathcal{U}$(-12,-1) &  -8.97 $^{+ 1.128 }_{ -1.27 }$ & -6.493 $^{+ 0.254 }_{ -0.563 }$ \\\\\n",
      "log HCN & log$_{10}$ VMR of HCN & $\\mathcal{U}$(-12,-1) & -8.764 $^{+ 1.803 }_{ -1.483 }$ & -8.222 $^{+ 1.197 }_{ -1.188 }$ \\\\\n",
      "log HF & log$_{10}$ VMR of HF & $\\mathcal{U}$(-12,-1) &  -6.956 $^{+ 0.061 }_{ -0.061 }$ & -7.086 $^{+ 0.037 }_{ -0.039 }$ \\\\\n",
      "log H$_2$S & log$_{10}$ VMR of H$_2$S & $\\mathcal{U}$(-12,-1) &  -4.151 $^{+ 0.063 }_{ -0.075 }$ & -8.998 $^{+ 1.301 }_{ -1.269 }$ \\\\\n",
      "log H$_2^{18}$O & log$_{10}$ VMR of H$_2^{18}$O & $\\mathcal{U}$(-12,-1) & -7.303 $^{+ 1.466 }_{ -3.1 }$ & -5.902 $^{+ 0.2 }_{ -3.06 }$ \\\\\n",
      "\\hline\n",
      "$T_0$ [K] & Temperature at $P_0=10^2\\,$bar& $\\mathcal{U}$(1000,4000) & 2398.49 $^{+ 112.472 }_{ -93.197 }$ & 3833.867 $^{+ 62.89 }_{ -59.623 }$ \\\\\n",
      " $\\nabla T_0$ & Temperature gradient at $P_0=10^2\\,$bar& $\\mathcal{U}$(0,0.4) & 0.186 $^{+ 0.091 }_{ -0.095 }$ & 0.282 $^{+ 0.06 }_{ -0.069 }$ \\\\\n",
      "$\\nabla T_1$ & Temperature gradient at $P_1=10^0\\,$bar& $\\mathcal{U}$(0,0.4) & 0.243 $^{+ 0.019 }_{ -0.02 }$ & 0.263 $^{+ 0.052 }_{ -0.05 }$ \\\\\n",
      "$\\nabla T_2$ & Temperature gradient at $P_2=10^0\\,$bar& $\\mathcal{U}$(0,0.4) & 0.042 $^{+ 0.002 }_{ -0.002 }$ & 0.046 $^{+ 0.006 }_{ -0.005 }$ \\\\\n",
      "$\\nabla T_3$ & Temperature gradient at $P_3=10^0\\,$bar& $\\mathcal{U}$(0,0.4) & 0.045 $^{+ 0.001 }_{ -0.001 }$ & 0.084 $^{+ 0.001 }_{ -0.001 }$ \\\\\n",
      "$\\nabla T_4$ & Temperature gradient at $P_4=10^0\\,$bar& $\\mathcal{U}$(0,0.4) & 0.152 $^{+ 0.025 }_{ -0.023 }$ & 0.289 $^{+ 0.011 }_{ -0.011 }$ \\\\\n",
      "\\hline\n",
      "log $\\kappa_{\\mathrm{cl},0}$ [cm$^2$/g] & Opacity at cloud base & $\\mathcal{U}$(-10,3) &  -5.789 $^{+ 2.245 }_{ -2.091 }$ & -4.166 $^{+ 1.834 }_{ -1.818 }$ \\\\\n",
      "log $P_{\\mathrm{cl},0}$ [bar] & Cloud base pressure & $\\mathcal{U}$(-6,3) & -2.29 $^{+ 2.07 }_{ -1.888 }$ & -1.453 $^{+ 2.524 }_{ -2.32 }$ \\\\\n",
      "$f_\\mathrm{sed}$ & Cloud decay power & $\\mathcal{U}$(0,20) & 11.346 $^{+ 3.926 }_{ -4.148 }$ & 8.301 $^{+ 4.602 }_{ -4.076 }$ \\\\\n",
      "\\hline\n",
      "log $a$ & GP amplitude & $\\mathcal{U}$(-1,1) & 0.279 $^{+ 0.003 }_{ -0.003 }$ & 0.143 $^{+ 0.004 }_{ -0.004 }$ \\\\\n",
      "log $l$ [nm] & GP length-scale & $\\mathcal{U}$(-3,0) & -1.757 $^{+ 0.003 }_{ -0.003 }$ & -1.912 $^{+ 0.006 }_{ -0.006 }$ \\\\\n"
     ]
    }
   ],
   "source": [
    "dec=3\n",
    "\n",
    "table=[\"$v_{\\\\text{rad}}$ [km/s] & Radial velocity & $\\mathcal{U}$(2,20) &\",\n",
    "       \"$v\\\\text{sin}i$ [km/s] & Projected rotational velocity & $\\mathcal{U}$(0,40) &\",\n",
    "       \"log $g$ [cm/s$^2$] & Surface gravity & $\\mathcal{U}$(3,5) &\",\n",
    "       \"$\\epsilon_\\mathrm{limb}$ & Limb-darkening coefficient & $\\mathcal{U}$(0.2,1) &\",\n",
    "       \"\",\n",
    "       \"log H$_2$O & log$_{10}$ VMR of H$_2$O & $\\mathcal{U}$(-12,-1) & \",\n",
    "       \"log $^{12}$CO & log$_{10}$ VMR of $^{12}$CO & $\\mathcal{U}$(-12,-1) &\",\n",
    "       \"log $^{13}$CO & log$_{10}$ VMR of $^{13}$CO & $\\mathcal{U}$(-12,-1) & \",\n",
    "       \"log C$^{18}$O & log$_{10}$ VMR of C$^{18}$O & $\\mathcal{U}$(-12,-1) &\",\n",
    "       \"log C$^{17}$O & log$_{10}$ VMR of C$^{17}$O & $\\mathcal{U}$(-12,-1) &\",\n",
    "       \"log CH$_4$ & log$_{10}$ VMR of CH$_4$ & $\\mathcal{U}$(-12,-1) &\",\n",
    "       \"log NH$_3$ & log$_{10}$ VMR of NH$_3$ & $\\mathcal{U}$(-12,-1) & \",\n",
    "       \"log HCN & log$_{10}$ VMR of HCN & $\\mathcal{U}$(-12,-1) &\",\n",
    "       \"log HF & log$_{10}$ VMR of HF & $\\mathcal{U}$(-12,-1) & \",\n",
    "       \"log H$_2$S & log$_{10}$ VMR of H$_2$S & $\\mathcal{U}$(-12,-1) & \",\n",
    "       \"log H$_2^{18}$O & log$_{10}$ VMR of H$_2^{18}$O & $\\mathcal{U}$(-12,-1) &\",\n",
    "      \"\",\n",
    "      \"$T_0$ [K] & Temperature at $P_0=10^2\\,$bar& $\\mathcal{U}$(1000,4000) &\",\n",
    "      \" $\\\\nabla T_0$ & Temperature gradient at $P_0=10^2\\,$bar& $\\mathcal{U}$(0,0.4) &\",\n",
    "      \"$\\\\nabla T_1$ & Temperature gradient at $P_1=10^0\\,$bar& $\\mathcal{U}$(0,0.4) &\",\n",
    "      \"$\\\\nabla T_2$ & Temperature gradient at $P_2=10^0\\,$bar& $\\mathcal{U}$(0,0.4) &\",\n",
    "      \"$\\\\nabla T_3$ & Temperature gradient at $P_3=10^0\\,$bar& $\\mathcal{U}$(0,0.4) &\",\n",
    "      \"$\\\\nabla T_4$ & Temperature gradient at $P_4=10^0\\,$bar& $\\mathcal{U}$(0,0.4) &\",\n",
    "      \"\",\n",
    "      \"log $\\kappa_{\\mathrm{cl},0}$ [cm$^2$/g] & Opacity at cloud base & $\\mathcal{U}$(-10,3) & \",\n",
    "      \"log $P_{\\mathrm{cl},0}$ [bar] & Cloud base pressure & $\\mathcal{U}$(-6,3) &\",\n",
    "      \"$f_\\mathrm{sed}$ & Cloud decay power & $\\mathcal{U}$(0,20) &\",\n",
    "      \"\",\n",
    "      \"log $a$ & GP amplitude & $\\mathcal{U}$(-1,1) &\",\n",
    "      \"log $l$ [nm] & GP length-scale & $\\mathcal{U}$(-3,0) &\"]\n",
    "table_vals=['rv','vsini','log_g','epsilon_limb',\"\",'log_H2O',\"log_12CO\",\"log_13CO\",\n",
    "            \"log_C18O\",\"log_C17O\",\"log_CH4\",\"log_NH3\",\"log_HCN\",\"log_HF\",\"log_H2S\",\n",
    "            \"log_H2(18)O\",\"\",'T0','dlnT_dlnP_0','dlnT_dlnP_1','dlnT_dlnP_2',\n",
    "            'dlnT_dlnP_3','dlnT_dlnP_4',\"\",\"log_opa_base_gray\",\"log_P_base_gray\",\n",
    "            \"fsed_gray\",\"\",\"log_a\",\"log_l\"]\n",
    "\n",
    "if True:\n",
    "      for i,tpar in enumerate(table_vals):\n",
    "            if tpar==\"\":\n",
    "                  print(\"\\hline\")\n",
    "            else:\n",
    "                  print(table[i],np.round(final_params[tpar],decimals=dec),\n",
    "                        \"$^{+\",np.round(final_params[f'{tpar}_err'][1],decimals=dec),\"}_{\",\n",
    "                        np.round(final_params[f'{tpar}_err'][0],decimals=dec),\"}$ &\",\n",
    "                        np.round(final_params2[tpar],decimals=dec),\n",
    "                        \"$^{+\",np.round(final_params2[f'{tpar}_err'][1],decimals=dec),\"}_{\",\n",
    "                        np.round(final_params2[f'{tpar}_err'][0],decimals=dec),\"}$ \\\\\\\\\")"
   ]
  },
  {
   "cell_type": "markdown",
   "metadata": {},
   "source": [
    "# Make plots for presentation"
   ]
  },
  {
   "cell_type": "code",
   "execution_count": null,
   "metadata": {},
   "outputs": [],
   "source": [
    "import getpass\n",
    "import os\n",
    "import numpy as np\n",
    "import matplotlib.pyplot as plt\n",
    "os.environ['OMP_NUM_THREADS'] = '1' # to avoid using too many CPUs\n",
    "\n",
    "if getpass.getuser() == \"grasser\": # when runnig from LEM\n",
    "    os.environ['pRT_input_data_path'] =\"/net/lem/data2/pRT_input_data\"\n",
    "    os.environ['OMP_NUM_THREADS'] = '1' # important for MPI\n",
    "    from mpi4py import MPI \n",
    "    comm = MPI.COMM_WORLD # important for MPI\n",
    "    rank = comm.Get_rank() # important for MPI\n",
    "    from atm_retrieval.target import Target\n",
    "    from atm_retrieval.likelihood import Retrieval\n",
    "    from atm_retrieval.parameters import Parameters\n",
    "    import matplotlib\n",
    "    matplotlib.use('Agg') # disable interactive plotting\n",
    "elif getpass.getuser() == \"natalie\": # when testing from my laptop\n",
    "    os.environ['pRT_input_data_path'] = \"/home/natalie/.local/lib/python3.8/site-packages/petitRADTRANS/input_data_std/input_data\"\n",
    "    from target import Target\n",
    "    from likelihood import Retrieval\n",
    "    from parameters import Parameters\n",
    "    from pRT_model import pRT_spectrum\n",
    "\n",
    "\n",
    "M0355 = Target('2M0355')\n",
    "data_wave,data_flux,data_err=M0355.load_spectrum()\n",
    "\n",
    "constant_params = {'vsini': 2, # rotational velocity\n",
    "                'rv': 11.92,\n",
    "                'log_Kzz': 7.5, # eddy diffusion parameter (atmospheric mixing)\n",
    "                'fsed': 2, # sedimentation parameter for particles\n",
    "                'P_base_gray': 1, # pressure of gray cloud deck\n",
    "                'fsed_gray': 2,\n",
    "                'opa_base_gray': 0.8, # opacity of gray cloud deck\n",
    "                'sigma_lnorm': 1.05, # width of the log-normal particle distribution of MgSiO3\n",
    "                'log_MgSiO3' : 0, # scaling wrt chem equilibrium, 0 = equilibrium abundance \n",
    "                'log_H2O': -2.9,#-2.9,\n",
    "                'log_12CO': -2.67,#-2.66,\n",
    "                'log_13CO':-4.9,\n",
    "                'log_C18O':-12, #-8.3,\n",
    "                'log_C17O':-12,  #-8.7,\n",
    "                'log_CH4':-12, #-8.6,\n",
    "                'log_NH3':-12, #-8.9,\n",
    "                'log_HCN':-12, #-8,\n",
    "                'T1' : 2500, # bottom of the atmosphere (hotter)\n",
    "                'T2' : 1500,\n",
    "                'T3' : 1270,\n",
    "                'T4' : 313, # top of atmosphere (cooler)\n",
    "                'log_g':4.95,\n",
    "                } \n",
    "\n",
    "free_params = {}\n",
    "parameters = Parameters(free_params,constant_params)\n",
    "params=parameters.params\n",
    "\n",
    "\n",
    "output='2M0355_test4'\n",
    "retrieval=Retrieval(target=M0355,parameters=parameters,output_name=output)\n",
    "atmosphere_objects=retrieval.atmosphere_objects\n",
    "\n",
    "species=retrieval.get_species(param_dict=parameters.params)\n",
    "model_flux=pRT_spectrum(parameters=params,data_wave=data_wave,target=M0355,\n",
    "                        atmosphere_objects=atmosphere_objects,species=species,\n",
    "                        free_chem=True).make_spectrum()\n"
   ]
  },
  {
   "cell_type": "code",
   "execution_count": null,
   "metadata": {},
   "outputs": [],
   "source": [
    "params_H2O=params.copy()\n",
    "params_H2O['log_12CO']=-12\n",
    "params_H2O['log_13CO']=-12\n",
    "H2O_flux=pRT_spectrum(parameters=params_H2O,data_wave=data_wave,target=M0355,\n",
    "                        atmosphere_objects=atmosphere_objects,species=species,\n",
    "                        free_chem=True).make_spectrum()\n",
    "\n",
    "params_CO=params.copy()\n",
    "params_CO['log_H2O']=-12\n",
    "params_CO['log_13CO']=-12\n",
    "CO_flux=pRT_spectrum(parameters=params_CO,data_wave=data_wave,target=M0355,\n",
    "                        atmosphere_objects=atmosphere_objects,species=species,\n",
    "                        free_chem=True).make_spectrum()"
   ]
  },
  {
   "cell_type": "code",
   "execution_count": null,
   "metadata": {},
   "outputs": [],
   "source": [
    "fig,ax=plt.subplots(2,1,figsize=(7,3),dpi=200,sharex=True)\n",
    "order=5\n",
    "det=0\n",
    "for i in range(2):\n",
    "    ax[i].plot(data_wave[order,det],data_flux[order,det],lw=1,alpha=0.8,c='k',label='data')\n",
    "    ax[i].set_xlim(np.nanmin(data_wave[order,det]),np.nanmax(data_wave[order,det]))\n",
    "    ax[i].yaxis.set_visible(False) # remove ylabels because anyway unitless\n",
    "\n",
    "ax[0].plot(data_wave[order,det],model_flux[order,det],lw=1,alpha=0.8,c='c',label='model')\n",
    "ax[1].plot(data_wave[order,det],H2O_flux[order,det],lw=1,alpha=0.8,c='tab:blue',label='H$_2$O')\n",
    "ax[1].plot(data_wave[order,det],CO_flux[order,det],lw=1,alpha=0.8,c='tab:orange',label='CO')\n",
    "\n",
    "ax[0].legend(fontsize=8)\n",
    "ax[1].legend(fontsize=8)\n",
    "ax[1].set_xlabel('Wavelength [nm]')\n",
    "fig.tight_layout(h_pad=-0.1)\n",
    "fig.savefig('/home/natalie/Desktop/PhD/SupJup/plots/spectrum.jpg')"
   ]
  },
  {
   "cell_type": "code",
   "execution_count": null,
   "metadata": {},
   "outputs": [],
   "source": [
    "fig,ax=plt.subplots(1,1,figsize=(7,2),dpi=200,sharex=True)\n",
    "order=5\n",
    "det=0\n",
    "#ax.plot(data_wave[order,det],data_flux[order,det],lw=1,alpha=0.8,c='k',label='data')\n",
    "ax.set_xlim(np.nanmin(data_wave[order,det]),np.nanmax(data_wave[order,det]))\n",
    "ax.plot(data_wave[order,det],model_flux[order,det],lw=1,alpha=0.8,c='c',label='model')\n",
    "#ax.legend(fontsize=8)\n",
    "ax.yaxis.set_visible(False) # remove ylabels because anyway unitless\n",
    "ax.set_xlabel('Wavelength [nm]')\n",
    "fig.tight_layout()\n",
    "fig.savefig('/home/natalie/Desktop/PhD/SupJup/plots/model.jpg')"
   ]
  },
  {
   "cell_type": "code",
   "execution_count": null,
   "metadata": {},
   "outputs": [],
   "source": [
    "params_bad=params.copy()\n",
    "params_bad['log_H2O']=-3.5\n",
    "params_bad['log_CO']=-2\n",
    "params_bad['vsini']=7\n",
    "params_bad['T1']=1700\n",
    "bad_flux=pRT_spectrum(parameters=params_bad,data_wave=data_wave,target=M0355,\n",
    "                        atmosphere_objects=atmosphere_objects,species=species,\n",
    "                        free_chem=True).make_spectrum()\n",
    "fig,ax=plt.subplots(1,1,figsize=(7,2),dpi=200,sharex=True)\n",
    "order=5\n",
    "det=0\n",
    "#ax.plot(data_wave[order,det],data_flux[order,det],lw=1,alpha=0.8,c='k',label='data')\n",
    "ax.set_xlim(np.nanmin(data_wave[order,det]),np.nanmax(data_wave[order,det]))\n",
    "ax.plot(data_wave[order,det],bad_flux[order,det],lw=1,alpha=1,c='c',label='model')\n",
    "#ax.legend(fontsize=8)\n",
    "ax.yaxis.set_visible(False) # remove ylabels because anyway unitless\n",
    "ax.set_xlabel('Wavelength [nm]')\n",
    "fig.tight_layout()\n",
    "fig.savefig('/home/natalie/Desktop/PhD/SupJup/plots/bad_model1.jpg')"
   ]
  }
 ],
 "metadata": {
  "kernelspec": {
   "display_name": "base",
   "language": "python",
   "name": "python3"
  },
  "language_info": {
   "codemirror_mode": {
    "name": "ipython",
    "version": 3
   },
   "file_extension": ".py",
   "mimetype": "text/x-python",
   "name": "python",
   "nbconvert_exporter": "python",
   "pygments_lexer": "ipython3",
   "version": "3.8.5"
  }
 },
 "nbformat": 4,
 "nbformat_minor": 2
}
